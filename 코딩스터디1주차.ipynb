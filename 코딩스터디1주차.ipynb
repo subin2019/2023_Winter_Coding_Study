{
  "nbformat": 4,
  "nbformat_minor": 0,
  "metadata": {
    "colab": {
      "provenance": []
    },
    "kernelspec": {
      "name": "python3",
      "display_name": "Python 3"
    },
    "language_info": {
      "name": "python"
    }
  },
  "cells": [
    {
      "cell_type": "markdown",
      "source": [
        "# Spaceship Titanic\n",
        "Predict which passengers are transported to an alternate dimension"
      ],
      "metadata": {
        "id": "3EnZz8JwNID2"
      }
    },
    {
      "cell_type": "code",
      "execution_count": 14,
      "metadata": {
        "id": "aiLmG_LGJN6H"
      },
      "outputs": [],
      "source": [
        "import pandas as pd\n",
        "import matplotlib \n",
        "import matplotlib.pyplot as plt\n",
        "import seaborn as sns\n",
        "import missingno as msno\n",
        "import numpy as np\n",
        "import random\n",
        "import os\n",
        "import warnings\n",
        "warnings.filterwarnings(\"ignore\")"
      ]
    },
    {
      "cell_type": "markdown",
      "source": [
        "**1. EDA**"
      ],
      "metadata": {
        "id": "ZYLlL7eZNr2u"
      }
    },
    {
      "cell_type": "markdown",
      "source": [
        "1) train, test set의 자료 구조와 자료형 확인 (pandas 활용)"
      ],
      "metadata": {
        "id": "nUCCPi0sN92J"
      }
    },
    {
      "cell_type": "code",
      "source": [
        "train = pd.read_csv('train.csv')\n",
        "test = pd.read_csv('test.csv')\n",
        "sample = pd.read_csv('sample_submission.csv')"
      ],
      "metadata": {
        "id": "x5LSk_deOi_1"
      },
      "execution_count": 3,
      "outputs": []
    },
    {
      "cell_type": "code",
      "source": [
        "train.head(5)"
      ],
      "metadata": {
        "colab": {
          "base_uri": "https://localhost:8080/",
          "height": 206
        },
        "id": "2VNiq-uKQTOE",
        "outputId": "ca36b1ea-43e5-4fd0-e726-40d4332a4c0e"
      },
      "execution_count": 4,
      "outputs": [
        {
          "output_type": "execute_result",
          "data": {
            "text/plain": [
              "  PassengerId HomePlanet CryoSleep  Cabin  Destination   Age    VIP  \\\n",
              "0     0001_01     Europa     False  B/0/P  TRAPPIST-1e  39.0  False   \n",
              "1     0002_01      Earth     False  F/0/S  TRAPPIST-1e  24.0  False   \n",
              "2     0003_01     Europa     False  A/0/S  TRAPPIST-1e  58.0   True   \n",
              "3     0003_02     Europa     False  A/0/S  TRAPPIST-1e  33.0  False   \n",
              "4     0004_01      Earth     False  F/1/S  TRAPPIST-1e  16.0  False   \n",
              "\n",
              "   RoomService  FoodCourt  ShoppingMall     Spa  VRDeck               Name  \\\n",
              "0          0.0        0.0           0.0     0.0     0.0    Maham Ofracculy   \n",
              "1        109.0        9.0          25.0   549.0    44.0       Juanna Vines   \n",
              "2         43.0     3576.0           0.0  6715.0    49.0      Altark Susent   \n",
              "3          0.0     1283.0         371.0  3329.0   193.0       Solam Susent   \n",
              "4        303.0       70.0         151.0   565.0     2.0  Willy Santantines   \n",
              "\n",
              "   Transported  \n",
              "0        False  \n",
              "1         True  \n",
              "2        False  \n",
              "3        False  \n",
              "4         True  "
            ],
            "text/html": [
              "\n",
              "  <div id=\"df-22dfedfc-cdd1-4366-9437-3196f6e46a34\">\n",
              "    <div class=\"colab-df-container\">\n",
              "      <div>\n",
              "<style scoped>\n",
              "    .dataframe tbody tr th:only-of-type {\n",
              "        vertical-align: middle;\n",
              "    }\n",
              "\n",
              "    .dataframe tbody tr th {\n",
              "        vertical-align: top;\n",
              "    }\n",
              "\n",
              "    .dataframe thead th {\n",
              "        text-align: right;\n",
              "    }\n",
              "</style>\n",
              "<table border=\"1\" class=\"dataframe\">\n",
              "  <thead>\n",
              "    <tr style=\"text-align: right;\">\n",
              "      <th></th>\n",
              "      <th>PassengerId</th>\n",
              "      <th>HomePlanet</th>\n",
              "      <th>CryoSleep</th>\n",
              "      <th>Cabin</th>\n",
              "      <th>Destination</th>\n",
              "      <th>Age</th>\n",
              "      <th>VIP</th>\n",
              "      <th>RoomService</th>\n",
              "      <th>FoodCourt</th>\n",
              "      <th>ShoppingMall</th>\n",
              "      <th>Spa</th>\n",
              "      <th>VRDeck</th>\n",
              "      <th>Name</th>\n",
              "      <th>Transported</th>\n",
              "    </tr>\n",
              "  </thead>\n",
              "  <tbody>\n",
              "    <tr>\n",
              "      <th>0</th>\n",
              "      <td>0001_01</td>\n",
              "      <td>Europa</td>\n",
              "      <td>False</td>\n",
              "      <td>B/0/P</td>\n",
              "      <td>TRAPPIST-1e</td>\n",
              "      <td>39.0</td>\n",
              "      <td>False</td>\n",
              "      <td>0.0</td>\n",
              "      <td>0.0</td>\n",
              "      <td>0.0</td>\n",
              "      <td>0.0</td>\n",
              "      <td>0.0</td>\n",
              "      <td>Maham Ofracculy</td>\n",
              "      <td>False</td>\n",
              "    </tr>\n",
              "    <tr>\n",
              "      <th>1</th>\n",
              "      <td>0002_01</td>\n",
              "      <td>Earth</td>\n",
              "      <td>False</td>\n",
              "      <td>F/0/S</td>\n",
              "      <td>TRAPPIST-1e</td>\n",
              "      <td>24.0</td>\n",
              "      <td>False</td>\n",
              "      <td>109.0</td>\n",
              "      <td>9.0</td>\n",
              "      <td>25.0</td>\n",
              "      <td>549.0</td>\n",
              "      <td>44.0</td>\n",
              "      <td>Juanna Vines</td>\n",
              "      <td>True</td>\n",
              "    </tr>\n",
              "    <tr>\n",
              "      <th>2</th>\n",
              "      <td>0003_01</td>\n",
              "      <td>Europa</td>\n",
              "      <td>False</td>\n",
              "      <td>A/0/S</td>\n",
              "      <td>TRAPPIST-1e</td>\n",
              "      <td>58.0</td>\n",
              "      <td>True</td>\n",
              "      <td>43.0</td>\n",
              "      <td>3576.0</td>\n",
              "      <td>0.0</td>\n",
              "      <td>6715.0</td>\n",
              "      <td>49.0</td>\n",
              "      <td>Altark Susent</td>\n",
              "      <td>False</td>\n",
              "    </tr>\n",
              "    <tr>\n",
              "      <th>3</th>\n",
              "      <td>0003_02</td>\n",
              "      <td>Europa</td>\n",
              "      <td>False</td>\n",
              "      <td>A/0/S</td>\n",
              "      <td>TRAPPIST-1e</td>\n",
              "      <td>33.0</td>\n",
              "      <td>False</td>\n",
              "      <td>0.0</td>\n",
              "      <td>1283.0</td>\n",
              "      <td>371.0</td>\n",
              "      <td>3329.0</td>\n",
              "      <td>193.0</td>\n",
              "      <td>Solam Susent</td>\n",
              "      <td>False</td>\n",
              "    </tr>\n",
              "    <tr>\n",
              "      <th>4</th>\n",
              "      <td>0004_01</td>\n",
              "      <td>Earth</td>\n",
              "      <td>False</td>\n",
              "      <td>F/1/S</td>\n",
              "      <td>TRAPPIST-1e</td>\n",
              "      <td>16.0</td>\n",
              "      <td>False</td>\n",
              "      <td>303.0</td>\n",
              "      <td>70.0</td>\n",
              "      <td>151.0</td>\n",
              "      <td>565.0</td>\n",
              "      <td>2.0</td>\n",
              "      <td>Willy Santantines</td>\n",
              "      <td>True</td>\n",
              "    </tr>\n",
              "  </tbody>\n",
              "</table>\n",
              "</div>\n",
              "      <button class=\"colab-df-convert\" onclick=\"convertToInteractive('df-22dfedfc-cdd1-4366-9437-3196f6e46a34')\"\n",
              "              title=\"Convert this dataframe to an interactive table.\"\n",
              "              style=\"display:none;\">\n",
              "        \n",
              "  <svg xmlns=\"http://www.w3.org/2000/svg\" height=\"24px\"viewBox=\"0 0 24 24\"\n",
              "       width=\"24px\">\n",
              "    <path d=\"M0 0h24v24H0V0z\" fill=\"none\"/>\n",
              "    <path d=\"M18.56 5.44l.94 2.06.94-2.06 2.06-.94-2.06-.94-.94-2.06-.94 2.06-2.06.94zm-11 1L8.5 8.5l.94-2.06 2.06-.94-2.06-.94L8.5 2.5l-.94 2.06-2.06.94zm10 10l.94 2.06.94-2.06 2.06-.94-2.06-.94-.94-2.06-.94 2.06-2.06.94z\"/><path d=\"M17.41 7.96l-1.37-1.37c-.4-.4-.92-.59-1.43-.59-.52 0-1.04.2-1.43.59L10.3 9.45l-7.72 7.72c-.78.78-.78 2.05 0 2.83L4 21.41c.39.39.9.59 1.41.59.51 0 1.02-.2 1.41-.59l7.78-7.78 2.81-2.81c.8-.78.8-2.07 0-2.86zM5.41 20L4 18.59l7.72-7.72 1.47 1.35L5.41 20z\"/>\n",
              "  </svg>\n",
              "      </button>\n",
              "      \n",
              "  <style>\n",
              "    .colab-df-container {\n",
              "      display:flex;\n",
              "      flex-wrap:wrap;\n",
              "      gap: 12px;\n",
              "    }\n",
              "\n",
              "    .colab-df-convert {\n",
              "      background-color: #E8F0FE;\n",
              "      border: none;\n",
              "      border-radius: 50%;\n",
              "      cursor: pointer;\n",
              "      display: none;\n",
              "      fill: #1967D2;\n",
              "      height: 32px;\n",
              "      padding: 0 0 0 0;\n",
              "      width: 32px;\n",
              "    }\n",
              "\n",
              "    .colab-df-convert:hover {\n",
              "      background-color: #E2EBFA;\n",
              "      box-shadow: 0px 1px 2px rgba(60, 64, 67, 0.3), 0px 1px 3px 1px rgba(60, 64, 67, 0.15);\n",
              "      fill: #174EA6;\n",
              "    }\n",
              "\n",
              "    [theme=dark] .colab-df-convert {\n",
              "      background-color: #3B4455;\n",
              "      fill: #D2E3FC;\n",
              "    }\n",
              "\n",
              "    [theme=dark] .colab-df-convert:hover {\n",
              "      background-color: #434B5C;\n",
              "      box-shadow: 0px 1px 3px 1px rgba(0, 0, 0, 0.15);\n",
              "      filter: drop-shadow(0px 1px 2px rgba(0, 0, 0, 0.3));\n",
              "      fill: #FFFFFF;\n",
              "    }\n",
              "  </style>\n",
              "\n",
              "      <script>\n",
              "        const buttonEl =\n",
              "          document.querySelector('#df-22dfedfc-cdd1-4366-9437-3196f6e46a34 button.colab-df-convert');\n",
              "        buttonEl.style.display =\n",
              "          google.colab.kernel.accessAllowed ? 'block' : 'none';\n",
              "\n",
              "        async function convertToInteractive(key) {\n",
              "          const element = document.querySelector('#df-22dfedfc-cdd1-4366-9437-3196f6e46a34');\n",
              "          const dataTable =\n",
              "            await google.colab.kernel.invokeFunction('convertToInteractive',\n",
              "                                                     [key], {});\n",
              "          if (!dataTable) return;\n",
              "\n",
              "          const docLinkHtml = 'Like what you see? Visit the ' +\n",
              "            '<a target=\"_blank\" href=https://colab.research.google.com/notebooks/data_table.ipynb>data table notebook</a>'\n",
              "            + ' to learn more about interactive tables.';\n",
              "          element.innerHTML = '';\n",
              "          dataTable['output_type'] = 'display_data';\n",
              "          await google.colab.output.renderOutput(dataTable, element);\n",
              "          const docLink = document.createElement('div');\n",
              "          docLink.innerHTML = docLinkHtml;\n",
              "          element.appendChild(docLink);\n",
              "        }\n",
              "      </script>\n",
              "    </div>\n",
              "  </div>\n",
              "  "
            ]
          },
          "metadata": {},
          "execution_count": 4
        }
      ]
    },
    {
      "cell_type": "code",
      "source": [
        "train.shape"
      ],
      "metadata": {
        "colab": {
          "base_uri": "https://localhost:8080/"
        },
        "id": "Gu6hkiY6Ed8X",
        "outputId": "a666a97e-0fee-40ac-9db2-7bdb57c05940"
      },
      "execution_count": 5,
      "outputs": [
        {
          "output_type": "execute_result",
          "data": {
            "text/plain": [
              "(8693, 14)"
            ]
          },
          "metadata": {},
          "execution_count": 5
        }
      ]
    },
    {
      "cell_type": "code",
      "source": [
        "train.info()"
      ],
      "metadata": {
        "colab": {
          "base_uri": "https://localhost:8080/"
        },
        "id": "JTxzpOwvO_RG",
        "outputId": "5230bfae-2613-48e0-dc9a-d28a03c8f9f5"
      },
      "execution_count": 6,
      "outputs": [
        {
          "output_type": "stream",
          "name": "stdout",
          "text": [
            "<class 'pandas.core.frame.DataFrame'>\n",
            "RangeIndex: 8693 entries, 0 to 8692\n",
            "Data columns (total 14 columns):\n",
            " #   Column        Non-Null Count  Dtype  \n",
            "---  ------        --------------  -----  \n",
            " 0   PassengerId   8693 non-null   object \n",
            " 1   HomePlanet    8492 non-null   object \n",
            " 2   CryoSleep     8476 non-null   object \n",
            " 3   Cabin         8494 non-null   object \n",
            " 4   Destination   8511 non-null   object \n",
            " 5   Age           8514 non-null   float64\n",
            " 6   VIP           8490 non-null   object \n",
            " 7   RoomService   8512 non-null   float64\n",
            " 8   FoodCourt     8510 non-null   float64\n",
            " 9   ShoppingMall  8485 non-null   float64\n",
            " 10  Spa           8510 non-null   float64\n",
            " 11  VRDeck        8505 non-null   float64\n",
            " 12  Name          8493 non-null   object \n",
            " 13  Transported   8693 non-null   bool   \n",
            "dtypes: bool(1), float64(6), object(7)\n",
            "memory usage: 891.5+ KB\n"
          ]
        }
      ]
    },
    {
      "cell_type": "code",
      "source": [
        "test.head(5)"
      ],
      "metadata": {
        "colab": {
          "base_uri": "https://localhost:8080/",
          "height": 206
        },
        "id": "n_qSfNhdFZEi",
        "outputId": "54203aba-94f8-4a3c-bee0-262563e1b6ac"
      },
      "execution_count": 7,
      "outputs": [
        {
          "output_type": "execute_result",
          "data": {
            "text/plain": [
              "  PassengerId HomePlanet CryoSleep  Cabin  Destination   Age    VIP  \\\n",
              "0     0013_01      Earth      True  G/3/S  TRAPPIST-1e  27.0  False   \n",
              "1     0018_01      Earth     False  F/4/S  TRAPPIST-1e  19.0  False   \n",
              "2     0019_01     Europa      True  C/0/S  55 Cancri e  31.0  False   \n",
              "3     0021_01     Europa     False  C/1/S  TRAPPIST-1e  38.0  False   \n",
              "4     0023_01      Earth     False  F/5/S  TRAPPIST-1e  20.0  False   \n",
              "\n",
              "   RoomService  FoodCourt  ShoppingMall     Spa  VRDeck              Name  \n",
              "0          0.0        0.0           0.0     0.0     0.0   Nelly Carsoning  \n",
              "1          0.0        9.0           0.0  2823.0     0.0    Lerome Peckers  \n",
              "2          0.0        0.0           0.0     0.0     0.0   Sabih Unhearfus  \n",
              "3          0.0     6652.0           0.0   181.0   585.0  Meratz Caltilter  \n",
              "4         10.0        0.0         635.0     0.0     0.0   Brence Harperez  "
            ],
            "text/html": [
              "\n",
              "  <div id=\"df-7681d6d9-da15-490f-99d9-fc33013e3213\">\n",
              "    <div class=\"colab-df-container\">\n",
              "      <div>\n",
              "<style scoped>\n",
              "    .dataframe tbody tr th:only-of-type {\n",
              "        vertical-align: middle;\n",
              "    }\n",
              "\n",
              "    .dataframe tbody tr th {\n",
              "        vertical-align: top;\n",
              "    }\n",
              "\n",
              "    .dataframe thead th {\n",
              "        text-align: right;\n",
              "    }\n",
              "</style>\n",
              "<table border=\"1\" class=\"dataframe\">\n",
              "  <thead>\n",
              "    <tr style=\"text-align: right;\">\n",
              "      <th></th>\n",
              "      <th>PassengerId</th>\n",
              "      <th>HomePlanet</th>\n",
              "      <th>CryoSleep</th>\n",
              "      <th>Cabin</th>\n",
              "      <th>Destination</th>\n",
              "      <th>Age</th>\n",
              "      <th>VIP</th>\n",
              "      <th>RoomService</th>\n",
              "      <th>FoodCourt</th>\n",
              "      <th>ShoppingMall</th>\n",
              "      <th>Spa</th>\n",
              "      <th>VRDeck</th>\n",
              "      <th>Name</th>\n",
              "    </tr>\n",
              "  </thead>\n",
              "  <tbody>\n",
              "    <tr>\n",
              "      <th>0</th>\n",
              "      <td>0013_01</td>\n",
              "      <td>Earth</td>\n",
              "      <td>True</td>\n",
              "      <td>G/3/S</td>\n",
              "      <td>TRAPPIST-1e</td>\n",
              "      <td>27.0</td>\n",
              "      <td>False</td>\n",
              "      <td>0.0</td>\n",
              "      <td>0.0</td>\n",
              "      <td>0.0</td>\n",
              "      <td>0.0</td>\n",
              "      <td>0.0</td>\n",
              "      <td>Nelly Carsoning</td>\n",
              "    </tr>\n",
              "    <tr>\n",
              "      <th>1</th>\n",
              "      <td>0018_01</td>\n",
              "      <td>Earth</td>\n",
              "      <td>False</td>\n",
              "      <td>F/4/S</td>\n",
              "      <td>TRAPPIST-1e</td>\n",
              "      <td>19.0</td>\n",
              "      <td>False</td>\n",
              "      <td>0.0</td>\n",
              "      <td>9.0</td>\n",
              "      <td>0.0</td>\n",
              "      <td>2823.0</td>\n",
              "      <td>0.0</td>\n",
              "      <td>Lerome Peckers</td>\n",
              "    </tr>\n",
              "    <tr>\n",
              "      <th>2</th>\n",
              "      <td>0019_01</td>\n",
              "      <td>Europa</td>\n",
              "      <td>True</td>\n",
              "      <td>C/0/S</td>\n",
              "      <td>55 Cancri e</td>\n",
              "      <td>31.0</td>\n",
              "      <td>False</td>\n",
              "      <td>0.0</td>\n",
              "      <td>0.0</td>\n",
              "      <td>0.0</td>\n",
              "      <td>0.0</td>\n",
              "      <td>0.0</td>\n",
              "      <td>Sabih Unhearfus</td>\n",
              "    </tr>\n",
              "    <tr>\n",
              "      <th>3</th>\n",
              "      <td>0021_01</td>\n",
              "      <td>Europa</td>\n",
              "      <td>False</td>\n",
              "      <td>C/1/S</td>\n",
              "      <td>TRAPPIST-1e</td>\n",
              "      <td>38.0</td>\n",
              "      <td>False</td>\n",
              "      <td>0.0</td>\n",
              "      <td>6652.0</td>\n",
              "      <td>0.0</td>\n",
              "      <td>181.0</td>\n",
              "      <td>585.0</td>\n",
              "      <td>Meratz Caltilter</td>\n",
              "    </tr>\n",
              "    <tr>\n",
              "      <th>4</th>\n",
              "      <td>0023_01</td>\n",
              "      <td>Earth</td>\n",
              "      <td>False</td>\n",
              "      <td>F/5/S</td>\n",
              "      <td>TRAPPIST-1e</td>\n",
              "      <td>20.0</td>\n",
              "      <td>False</td>\n",
              "      <td>10.0</td>\n",
              "      <td>0.0</td>\n",
              "      <td>635.0</td>\n",
              "      <td>0.0</td>\n",
              "      <td>0.0</td>\n",
              "      <td>Brence Harperez</td>\n",
              "    </tr>\n",
              "  </tbody>\n",
              "</table>\n",
              "</div>\n",
              "      <button class=\"colab-df-convert\" onclick=\"convertToInteractive('df-7681d6d9-da15-490f-99d9-fc33013e3213')\"\n",
              "              title=\"Convert this dataframe to an interactive table.\"\n",
              "              style=\"display:none;\">\n",
              "        \n",
              "  <svg xmlns=\"http://www.w3.org/2000/svg\" height=\"24px\"viewBox=\"0 0 24 24\"\n",
              "       width=\"24px\">\n",
              "    <path d=\"M0 0h24v24H0V0z\" fill=\"none\"/>\n",
              "    <path d=\"M18.56 5.44l.94 2.06.94-2.06 2.06-.94-2.06-.94-.94-2.06-.94 2.06-2.06.94zm-11 1L8.5 8.5l.94-2.06 2.06-.94-2.06-.94L8.5 2.5l-.94 2.06-2.06.94zm10 10l.94 2.06.94-2.06 2.06-.94-2.06-.94-.94-2.06-.94 2.06-2.06.94z\"/><path d=\"M17.41 7.96l-1.37-1.37c-.4-.4-.92-.59-1.43-.59-.52 0-1.04.2-1.43.59L10.3 9.45l-7.72 7.72c-.78.78-.78 2.05 0 2.83L4 21.41c.39.39.9.59 1.41.59.51 0 1.02-.2 1.41-.59l7.78-7.78 2.81-2.81c.8-.78.8-2.07 0-2.86zM5.41 20L4 18.59l7.72-7.72 1.47 1.35L5.41 20z\"/>\n",
              "  </svg>\n",
              "      </button>\n",
              "      \n",
              "  <style>\n",
              "    .colab-df-container {\n",
              "      display:flex;\n",
              "      flex-wrap:wrap;\n",
              "      gap: 12px;\n",
              "    }\n",
              "\n",
              "    .colab-df-convert {\n",
              "      background-color: #E8F0FE;\n",
              "      border: none;\n",
              "      border-radius: 50%;\n",
              "      cursor: pointer;\n",
              "      display: none;\n",
              "      fill: #1967D2;\n",
              "      height: 32px;\n",
              "      padding: 0 0 0 0;\n",
              "      width: 32px;\n",
              "    }\n",
              "\n",
              "    .colab-df-convert:hover {\n",
              "      background-color: #E2EBFA;\n",
              "      box-shadow: 0px 1px 2px rgba(60, 64, 67, 0.3), 0px 1px 3px 1px rgba(60, 64, 67, 0.15);\n",
              "      fill: #174EA6;\n",
              "    }\n",
              "\n",
              "    [theme=dark] .colab-df-convert {\n",
              "      background-color: #3B4455;\n",
              "      fill: #D2E3FC;\n",
              "    }\n",
              "\n",
              "    [theme=dark] .colab-df-convert:hover {\n",
              "      background-color: #434B5C;\n",
              "      box-shadow: 0px 1px 3px 1px rgba(0, 0, 0, 0.15);\n",
              "      filter: drop-shadow(0px 1px 2px rgba(0, 0, 0, 0.3));\n",
              "      fill: #FFFFFF;\n",
              "    }\n",
              "  </style>\n",
              "\n",
              "      <script>\n",
              "        const buttonEl =\n",
              "          document.querySelector('#df-7681d6d9-da15-490f-99d9-fc33013e3213 button.colab-df-convert');\n",
              "        buttonEl.style.display =\n",
              "          google.colab.kernel.accessAllowed ? 'block' : 'none';\n",
              "\n",
              "        async function convertToInteractive(key) {\n",
              "          const element = document.querySelector('#df-7681d6d9-da15-490f-99d9-fc33013e3213');\n",
              "          const dataTable =\n",
              "            await google.colab.kernel.invokeFunction('convertToInteractive',\n",
              "                                                     [key], {});\n",
              "          if (!dataTable) return;\n",
              "\n",
              "          const docLinkHtml = 'Like what you see? Visit the ' +\n",
              "            '<a target=\"_blank\" href=https://colab.research.google.com/notebooks/data_table.ipynb>data table notebook</a>'\n",
              "            + ' to learn more about interactive tables.';\n",
              "          element.innerHTML = '';\n",
              "          dataTable['output_type'] = 'display_data';\n",
              "          await google.colab.output.renderOutput(dataTable, element);\n",
              "          const docLink = document.createElement('div');\n",
              "          docLink.innerHTML = docLinkHtml;\n",
              "          element.appendChild(docLink);\n",
              "        }\n",
              "      </script>\n",
              "    </div>\n",
              "  </div>\n",
              "  "
            ]
          },
          "metadata": {},
          "execution_count": 7
        }
      ]
    },
    {
      "cell_type": "code",
      "source": [
        "test.shape"
      ],
      "metadata": {
        "colab": {
          "base_uri": "https://localhost:8080/"
        },
        "id": "poOnNqiLFdnb",
        "outputId": "a33cd90c-6194-42c7-db1a-e684fdf9a566"
      },
      "execution_count": 8,
      "outputs": [
        {
          "output_type": "execute_result",
          "data": {
            "text/plain": [
              "(4277, 13)"
            ]
          },
          "metadata": {},
          "execution_count": 8
        }
      ]
    },
    {
      "cell_type": "code",
      "source": [
        "test.info()"
      ],
      "metadata": {
        "colab": {
          "base_uri": "https://localhost:8080/"
        },
        "id": "q4Y6-97gPIru",
        "outputId": "b7432cf4-cfe7-470c-db0a-8b78c5641663"
      },
      "execution_count": 9,
      "outputs": [
        {
          "output_type": "stream",
          "name": "stdout",
          "text": [
            "<class 'pandas.core.frame.DataFrame'>\n",
            "RangeIndex: 4277 entries, 0 to 4276\n",
            "Data columns (total 13 columns):\n",
            " #   Column        Non-Null Count  Dtype  \n",
            "---  ------        --------------  -----  \n",
            " 0   PassengerId   4277 non-null   object \n",
            " 1   HomePlanet    4190 non-null   object \n",
            " 2   CryoSleep     4184 non-null   object \n",
            " 3   Cabin         4177 non-null   object \n",
            " 4   Destination   4185 non-null   object \n",
            " 5   Age           4186 non-null   float64\n",
            " 6   VIP           4184 non-null   object \n",
            " 7   RoomService   4195 non-null   float64\n",
            " 8   FoodCourt     4171 non-null   float64\n",
            " 9   ShoppingMall  4179 non-null   float64\n",
            " 10  Spa           4176 non-null   float64\n",
            " 11  VRDeck        4197 non-null   float64\n",
            " 12  Name          4183 non-null   object \n",
            "dtypes: float64(6), object(7)\n",
            "memory usage: 434.5+ KB\n"
          ]
        }
      ]
    },
    {
      "cell_type": "code",
      "source": [
        "sample.head(5)"
      ],
      "metadata": {
        "colab": {
          "base_uri": "https://localhost:8080/",
          "height": 206
        },
        "id": "1yBxeWtQF0CA",
        "outputId": "7d7c7968-50d8-45f9-e0e4-27359755dcb7"
      },
      "execution_count": 10,
      "outputs": [
        {
          "output_type": "execute_result",
          "data": {
            "text/plain": [
              "  PassengerId  Transported\n",
              "0     0013_01        False\n",
              "1     0018_01        False\n",
              "2     0019_01        False\n",
              "3     0021_01        False\n",
              "4     0023_01        False"
            ],
            "text/html": [
              "\n",
              "  <div id=\"df-6b4a53b7-1f27-4a86-a958-a36188ddd86b\">\n",
              "    <div class=\"colab-df-container\">\n",
              "      <div>\n",
              "<style scoped>\n",
              "    .dataframe tbody tr th:only-of-type {\n",
              "        vertical-align: middle;\n",
              "    }\n",
              "\n",
              "    .dataframe tbody tr th {\n",
              "        vertical-align: top;\n",
              "    }\n",
              "\n",
              "    .dataframe thead th {\n",
              "        text-align: right;\n",
              "    }\n",
              "</style>\n",
              "<table border=\"1\" class=\"dataframe\">\n",
              "  <thead>\n",
              "    <tr style=\"text-align: right;\">\n",
              "      <th></th>\n",
              "      <th>PassengerId</th>\n",
              "      <th>Transported</th>\n",
              "    </tr>\n",
              "  </thead>\n",
              "  <tbody>\n",
              "    <tr>\n",
              "      <th>0</th>\n",
              "      <td>0013_01</td>\n",
              "      <td>False</td>\n",
              "    </tr>\n",
              "    <tr>\n",
              "      <th>1</th>\n",
              "      <td>0018_01</td>\n",
              "      <td>False</td>\n",
              "    </tr>\n",
              "    <tr>\n",
              "      <th>2</th>\n",
              "      <td>0019_01</td>\n",
              "      <td>False</td>\n",
              "    </tr>\n",
              "    <tr>\n",
              "      <th>3</th>\n",
              "      <td>0021_01</td>\n",
              "      <td>False</td>\n",
              "    </tr>\n",
              "    <tr>\n",
              "      <th>4</th>\n",
              "      <td>0023_01</td>\n",
              "      <td>False</td>\n",
              "    </tr>\n",
              "  </tbody>\n",
              "</table>\n",
              "</div>\n",
              "      <button class=\"colab-df-convert\" onclick=\"convertToInteractive('df-6b4a53b7-1f27-4a86-a958-a36188ddd86b')\"\n",
              "              title=\"Convert this dataframe to an interactive table.\"\n",
              "              style=\"display:none;\">\n",
              "        \n",
              "  <svg xmlns=\"http://www.w3.org/2000/svg\" height=\"24px\"viewBox=\"0 0 24 24\"\n",
              "       width=\"24px\">\n",
              "    <path d=\"M0 0h24v24H0V0z\" fill=\"none\"/>\n",
              "    <path d=\"M18.56 5.44l.94 2.06.94-2.06 2.06-.94-2.06-.94-.94-2.06-.94 2.06-2.06.94zm-11 1L8.5 8.5l.94-2.06 2.06-.94-2.06-.94L8.5 2.5l-.94 2.06-2.06.94zm10 10l.94 2.06.94-2.06 2.06-.94-2.06-.94-.94-2.06-.94 2.06-2.06.94z\"/><path d=\"M17.41 7.96l-1.37-1.37c-.4-.4-.92-.59-1.43-.59-.52 0-1.04.2-1.43.59L10.3 9.45l-7.72 7.72c-.78.78-.78 2.05 0 2.83L4 21.41c.39.39.9.59 1.41.59.51 0 1.02-.2 1.41-.59l7.78-7.78 2.81-2.81c.8-.78.8-2.07 0-2.86zM5.41 20L4 18.59l7.72-7.72 1.47 1.35L5.41 20z\"/>\n",
              "  </svg>\n",
              "      </button>\n",
              "      \n",
              "  <style>\n",
              "    .colab-df-container {\n",
              "      display:flex;\n",
              "      flex-wrap:wrap;\n",
              "      gap: 12px;\n",
              "    }\n",
              "\n",
              "    .colab-df-convert {\n",
              "      background-color: #E8F0FE;\n",
              "      border: none;\n",
              "      border-radius: 50%;\n",
              "      cursor: pointer;\n",
              "      display: none;\n",
              "      fill: #1967D2;\n",
              "      height: 32px;\n",
              "      padding: 0 0 0 0;\n",
              "      width: 32px;\n",
              "    }\n",
              "\n",
              "    .colab-df-convert:hover {\n",
              "      background-color: #E2EBFA;\n",
              "      box-shadow: 0px 1px 2px rgba(60, 64, 67, 0.3), 0px 1px 3px 1px rgba(60, 64, 67, 0.15);\n",
              "      fill: #174EA6;\n",
              "    }\n",
              "\n",
              "    [theme=dark] .colab-df-convert {\n",
              "      background-color: #3B4455;\n",
              "      fill: #D2E3FC;\n",
              "    }\n",
              "\n",
              "    [theme=dark] .colab-df-convert:hover {\n",
              "      background-color: #434B5C;\n",
              "      box-shadow: 0px 1px 3px 1px rgba(0, 0, 0, 0.15);\n",
              "      filter: drop-shadow(0px 1px 2px rgba(0, 0, 0, 0.3));\n",
              "      fill: #FFFFFF;\n",
              "    }\n",
              "  </style>\n",
              "\n",
              "      <script>\n",
              "        const buttonEl =\n",
              "          document.querySelector('#df-6b4a53b7-1f27-4a86-a958-a36188ddd86b button.colab-df-convert');\n",
              "        buttonEl.style.display =\n",
              "          google.colab.kernel.accessAllowed ? 'block' : 'none';\n",
              "\n",
              "        async function convertToInteractive(key) {\n",
              "          const element = document.querySelector('#df-6b4a53b7-1f27-4a86-a958-a36188ddd86b');\n",
              "          const dataTable =\n",
              "            await google.colab.kernel.invokeFunction('convertToInteractive',\n",
              "                                                     [key], {});\n",
              "          if (!dataTable) return;\n",
              "\n",
              "          const docLinkHtml = 'Like what you see? Visit the ' +\n",
              "            '<a target=\"_blank\" href=https://colab.research.google.com/notebooks/data_table.ipynb>data table notebook</a>'\n",
              "            + ' to learn more about interactive tables.';\n",
              "          element.innerHTML = '';\n",
              "          dataTable['output_type'] = 'display_data';\n",
              "          await google.colab.output.renderOutput(dataTable, element);\n",
              "          const docLink = document.createElement('div');\n",
              "          docLink.innerHTML = docLinkHtml;\n",
              "          element.appendChild(docLink);\n",
              "        }\n",
              "      </script>\n",
              "    </div>\n",
              "  </div>\n",
              "  "
            ]
          },
          "metadata": {},
          "execution_count": 10
        }
      ]
    },
    {
      "cell_type": "code",
      "source": [
        "sample.shape"
      ],
      "metadata": {
        "colab": {
          "base_uri": "https://localhost:8080/"
        },
        "id": "MQ8BQyT4F3WD",
        "outputId": "32bffe55-f98a-479a-ca26-09a6adec591f"
      },
      "execution_count": 11,
      "outputs": [
        {
          "output_type": "execute_result",
          "data": {
            "text/plain": [
              "(4277, 2)"
            ]
          },
          "metadata": {},
          "execution_count": 11
        }
      ]
    },
    {
      "cell_type": "code",
      "source": [
        "sample.info()"
      ],
      "metadata": {
        "colab": {
          "base_uri": "https://localhost:8080/"
        },
        "id": "Ac_Zd3VJF6kA",
        "outputId": "0eb9f7b2-2c0a-4d0e-f6d7-7e225fe4a810"
      },
      "execution_count": 12,
      "outputs": [
        {
          "output_type": "stream",
          "name": "stdout",
          "text": [
            "<class 'pandas.core.frame.DataFrame'>\n",
            "RangeIndex: 4277 entries, 0 to 4276\n",
            "Data columns (total 2 columns):\n",
            " #   Column       Non-Null Count  Dtype \n",
            "---  ------       --------------  ----- \n",
            " 0   PassengerId  4277 non-null   object\n",
            " 1   Transported  4277 non-null   bool  \n",
            "dtypes: bool(1), object(1)\n",
            "memory usage: 37.7+ KB\n"
          ]
        }
      ]
    },
    {
      "cell_type": "markdown",
      "source": [
        "데이터를 확인해본 결과, `PassengerId`, `HomePlanet`, `CryoSleep`, `Cabin`, `Destination`, `VIP`, `Name`, `Transported` 변수는 범주형 데이터이고, 나머지 `Age`, `RoomService`, `FoodCourt`, `ShoppingMall`, `Spa`, `VRDeck` 변수는 수치형 데이터이이다. "
      ],
      "metadata": {
        "id": "U528IrTiElo1"
      }
    },
    {
      "cell_type": "markdown",
      "source": [
        "\n",
        "\n",
        "*   `PassengerId`는 숫자로 구성되어 있지만 전부 고유값으로 `Name`과 같은 역할을 하는 범주형 자료로 보았고, `HomePlanet`과 `Destination`은 각각 3개의 고유값을 갖는 변수이다. \n",
        "*   `CryoSleep`, `VIP`는 True/False 값을 갖는 boolean이다. \n",
        "*   `Age`는 승객의 나이로 정수값을 갖기에 수치형 자료이며, `RoomService`, `FoodCourt`, `ShoppingMall`, `Spa`, `VRDeck`은 각 서비스에 이용한 금액으로 역시 수치형 데이터이다. \n",
        "\n",
        "\n",
        "\n"
      ],
      "metadata": {
        "id": "WmTJ3PWpIPff"
      }
    },
    {
      "cell_type": "markdown",
      "source": [
        "2) 결측치 확인 및 결측치 시각화 (missingno 활용)\n"
      ],
      "metadata": {
        "id": "0g74IL5NQs_r"
      }
    },
    {
      "cell_type": "code",
      "source": [
        "train.isna().sum()"
      ],
      "metadata": {
        "colab": {
          "base_uri": "https://localhost:8080/"
        },
        "id": "eq8-_6jIQv4q",
        "outputId": "1cdbc7d9-689a-4a00-99f5-8c73776886d5"
      },
      "execution_count": 15,
      "outputs": [
        {
          "output_type": "execute_result",
          "data": {
            "text/plain": [
              "PassengerId       0\n",
              "HomePlanet      201\n",
              "CryoSleep       217\n",
              "Cabin           199\n",
              "Destination     182\n",
              "Age             179\n",
              "VIP             203\n",
              "RoomService     181\n",
              "FoodCourt       183\n",
              "ShoppingMall    208\n",
              "Spa             183\n",
              "VRDeck          188\n",
              "Name            200\n",
              "Transported       0\n",
              "dtype: int64"
            ]
          },
          "metadata": {},
          "execution_count": 15
        }
      ]
    },
    {
      "cell_type": "code",
      "source": [
        "test.isna().sum()"
      ],
      "metadata": {
        "colab": {
          "base_uri": "https://localhost:8080/"
        },
        "id": "LDhc7gjqRWe0",
        "outputId": "18291c85-d272-48ba-9a89-1f81b9672793"
      },
      "execution_count": 16,
      "outputs": [
        {
          "output_type": "execute_result",
          "data": {
            "text/plain": [
              "PassengerId       0\n",
              "HomePlanet       87\n",
              "CryoSleep        93\n",
              "Cabin           100\n",
              "Destination      92\n",
              "Age              91\n",
              "VIP              93\n",
              "RoomService      82\n",
              "FoodCourt       106\n",
              "ShoppingMall     98\n",
              "Spa             101\n",
              "VRDeck           80\n",
              "Name             94\n",
              "dtype: int64"
            ]
          },
          "metadata": {},
          "execution_count": 16
        }
      ]
    },
    {
      "cell_type": "markdown",
      "source": [
        "\n",
        "\n",
        "*   missingno는 결측데이터들을 파악하는데 직관적인 도움을 주는 패키지이다. 시각화를 매트릭스와 바 차트 형태로 표현해줄 수 있다.\n",
        "*   Matrix: 데이터셋에 대한 결측치를 매트릭스로 시각화 해준다. 매트릭스가 출력되는데 흰색으로 표현된 빈칸들이 결측치이다.\n",
        "*   Bar Chart: 데이터셋에 대한 결측치를 바 형태의 차트로 시각화 해준다.Bar chart로 확인하면 수치적으로도 편하게 볼 수있다. \n",
        "*   출처: https://hong-yp-ml-records.tistory.com/14\n",
        "\n"
      ],
      "metadata": {
        "id": "Dn_N9bwgRxYK"
      }
    },
    {
      "cell_type": "markdown",
      "source": [
        "***Train 결측치 매트릭스 시각화***"
      ],
      "metadata": {
        "id": "8PLnsnW9T9_L"
      }
    },
    {
      "cell_type": "code",
      "source": [
        "msno.matrix(df=train.iloc[:, :], color=(0.1, 0.6, 0.8))"
      ],
      "metadata": {
        "colab": {
          "base_uri": "https://localhost:8080/",
          "height": 667
        },
        "id": "pwCIUnpwRXin",
        "outputId": "dd683732-87ad-4fbd-c3e0-cad9852bfeac"
      },
      "execution_count": 17,
      "outputs": [
        {
          "output_type": "execute_result",
          "data": {
            "text/plain": [
              "<matplotlib.axes._subplots.AxesSubplot at 0x7f233662a340>"
            ]
          },
          "metadata": {},
          "execution_count": 17
        },
        {
          "output_type": "display_data",
          "data": {
            "text/plain": [
              "<Figure size 1800x720 with 2 Axes>"
            ],
            "image/png": "[encoded data removed]"
          },
          "metadata": {
            "needs_background": "light"
          }
        }
      ]
    },
    {
      "cell_type": "markdown",
      "source": [
        "***Test 결측치 바차트 시각화화***"
      ],
      "metadata": {
        "id": "kzunmXvKUMPY"
      }
    },
    {
      "cell_type": "code",
      "source": [
        "msno.bar(df=test.iloc[:, :], color=(0.1, 0.6, 0.8))"
      ],
      "metadata": {
        "colab": {
          "base_uri": "https://localhost:8080/",
          "height": 698
        },
        "id": "Dfax38SFSKDo",
        "outputId": "3481f10f-df01-4988-9a75-64e180ed7432"
      },
      "execution_count": 18,
      "outputs": [
        {
          "output_type": "execute_result",
          "data": {
            "text/plain": [
              "<matplotlib.axes._subplots.AxesSubplot at 0x7f2333034460>"
            ]
          },
          "metadata": {},
          "execution_count": 18
        },
        {
          "output_type": "display_data",
          "data": {
            "text/plain": [
              "<Figure size 1800x720 with 3 Axes>"
            ],
            "image/png": "[encoded data removed]"
          },
          "metadata": {
            "needs_background": "light"
          }
        }
      ]
    },
    {
      "cell_type": "markdown",
      "source": [
        "3) 자료형 (data type) 별 변수 시각화 (matplotlib, pandas 활용)"
      ],
      "metadata": {
        "id": "EnqiMFEOUPkf"
      }
    },
    {
      "cell_type": "markdown",
      "source": [
        "***전처리***"
      ],
      "metadata": {
        "id": "Z0NOaCH-kWRQ"
      }
    },
    {
      "cell_type": "code",
      "source": [
        "# Group열과 Number열을 만들어 PassengerId열의 _ 앞의 값은 Group열에, 뒤의 값은 Number열에 저장. 그후 Passengerld열은 삭제\n",
        "\n",
        "train[\"Group\"] = train.PassengerId.str.split(\"_\").str[0]\n",
        "train[\"Number\"] = train.PassengerId.str.split(\"_\").str[1]\n",
        "train = train.drop(\"PassengerId\", axis=1)\n",
        "\n",
        "test[\"Group\"] = test.PassengerId.str.split(\"_\").str[0]\n",
        "test[\"Number\"] = test.PassengerId.str.split(\"_\").str[1]\n",
        "test = test.drop(\"PassengerId\", axis=1)"
      ],
      "metadata": {
        "id": "qOvWzcrEOsAU"
      },
      "execution_count": 23,
      "outputs": []
    },
    {
      "cell_type": "code",
      "source": [
        "# Cabin열의 na값을 NA/NA/NA로 채우기\n",
        "\n",
        "train['Cabin'] = train['Cabin'].fillna('NA/NA/NA')\n",
        "test['Cabin'] = test['Cabin'].fillna('NA/NA/NA')"
      ],
      "metadata": {
        "id": "lktzdsbuLmPb"
      },
      "execution_count": 19,
      "outputs": []
    },
    {
      "cell_type": "code",
      "source": [
        "# deck, num, side열을 만들어 Cabin열의 /를 기준으로 첫번째 값은 deck, 두번째 값은 num, 세번째 값은 side열에 저장. 그 후 Cabin열 삭제\n",
        "\n",
        "train['deck'] = train['Cabin'].str.split(\"/\").str[0]\n",
        "train['num'] = train['Cabin'].str.split(\"/\").str[1]\n",
        "train['side'] = train['Cabin'].str.split(\"/\").str[2]\n",
        "train = train.drop(columns='Cabin', axis=1)\n",
        "\n",
        "test['deck'] = test['Cabin'].str.split(\"/\").str[0]\n",
        "test['num'] = test['Cabin'].str.split(\"/\").str[1]\n",
        "test['side'] = test['Cabin'].str.split(\"/\").str[2]\n",
        "test = test.drop(columns='Cabin', axis=1)"
      ],
      "metadata": {
        "id": "xCNTJoJkLouh"
      },
      "execution_count": 20,
      "outputs": []
    },
    {
      "cell_type": "code",
      "source": [
        "# side열의 값이 S인 경우 값을 True로, 그렇지 않은 경우 False로 바꾸기\n",
        "\n",
        "train['side'] = np.where(train['side']==\"S\",True,False)\n",
        "test['side'] = np.where(test['side']==\"S\",True,False)"
      ],
      "metadata": {
        "id": "W_lotygpLrjl"
      },
      "execution_count": 21,
      "outputs": []
    },
    {
      "cell_type": "code",
      "source": [
        "# num열의 값이 NA인 경우 값을 -1로 바꾸기\n",
        "\n",
        "train['num'] = np.where(train['num'].isna() == True, -1, train['num'])\n",
        "test['num'] = np.where(test['num'].isna() == True, -1, test['num'])"
      ],
      "metadata": {
        "id": "utF9nlI_kVgZ"
      },
      "execution_count": 22,
      "outputs": []
    },
    {
      "cell_type": "markdown",
      "source": [
        "***수치형 변수 시각화***"
      ],
      "metadata": {
        "id": "CQ8x3jG0WJX4"
      }
    },
    {
      "cell_type": "code",
      "source": [
        "sns.set_palette(\"pastel\")"
      ],
      "metadata": {
        "id": "mMqEqRy9Unh9"
      },
      "execution_count": 24,
      "outputs": []
    },
    {
      "cell_type": "code",
      "source": [
        "num = train.select_dtypes(include=['float64']).columns"
      ],
      "metadata": {
        "id": "JS79b-CnWLF5"
      },
      "execution_count": 39,
      "outputs": []
    },
    {
      "cell_type": "code",
      "source": [
        "fig, ax = plt.subplots(6,3,figsize=(15,20))\n",
        "for i, col in enumerate(num):\n",
        "    sns.histplot(x=col, hue=\"Transported\", data=train, element='step', ax=ax[i,0])\n",
        "    sns.violinplot(x=\"Transported\", y=col, data=train, ax=ax[i,1])\n",
        "    sns.boxplot(x=\"Transported\", y=col, data=train, ax=ax[i,2])\n",
        "    \n",
        "plt.tight_layout()"
      ],
      "metadata": {
        "colab": {
          "base_uri": "https://localhost:8080/",
          "height": 1000
        },
        "id": "JuDhJ11qPLhi",
        "outputId": "fda1c524-322a-47c3-d674-be43c8ef4ce4"
      },
      "execution_count": 26,
      "outputs": [
        {
          "output_type": "display_data",
          "data": {
            "text/plain": [
              "<Figure size 1080x1440 with 18 Axes>"
            ],
            "image/png": "[encoded data removed]"
          },
          "metadata": {
            "needs_background": "light"
          }
        }
      ]
    },
    {
      "cell_type": "markdown",
      "source": [
        "\n",
        "\n",
        "*   `Age` 변수를 그래프로 그린 결과, 0 ~ 20세에서 True인 관측치가 더 많았고,  20~ 30대에서는 False인 관측치가 조금 더 많았다. 나머지 연령대에서는 True와 False의 차이가 크지 않은 것으로 보아 특정 연령대(0 ~ 30세)를 제외하고는 `Age` 변수가 큰 영향을 주지 않음을 알 수 있다. 20 ~ 40대대 사이의 관측치가 많은 것을 볼 수 있다다.\n",
        "*   나머지 5개 변수의 경우 대부분의 관측치가 0인 분포를 보인다.\n",
        "*   `Transported` 이 True인 경우 `RoomService`, `Spa`, `VRDeck` 에 사용한 돈이 False에 비해 비교적 적은 경향이 있다. 또한 대체로 비슷하지만, `Transported` 이 False인 경우 `FoodCourt` 와 `ShoppingMall` 에서 사용한 돈이 비교적 적은 경향이 있다.\n",
        "*   `Age` 변수의 영향을 많이 받는 0 ~ 20세의 데이터를 제거한 후 그래프를 다시 그린다면 나머지 5개 변수의 영향력을 더 잘 파악할 수 있을 것 같다고 생각한다.\n",
        "\n",
        "\n",
        "\n",
        "\n",
        "\n"
      ],
      "metadata": {
        "id": "biIKOTUwPeOX"
      }
    },
    {
      "cell_type": "markdown",
      "source": [
        "***범주형 변수 시각화***"
      ],
      "metadata": {
        "id": "IhaCo8SWZ0wW"
      }
    },
    {
      "cell_type": "code",
      "source": [
        "cat = train.select_dtypes(include=['object', 'bool']).columns\n",
        "cat = cat.drop(\"Name\").drop(\"Number\").drop(\"num\").drop(\"Transported\")\n",
        "cat = np.append(cat, \"Transported\")\n",
        "cat"
      ],
      "metadata": {
        "colab": {
          "base_uri": "https://localhost:8080/"
        },
        "id": "XmbFpvIiRiPh",
        "outputId": "48fd259a-9e66-4a2f-8090-b74e03c430e3"
      },
      "execution_count": 29,
      "outputs": [
        {
          "output_type": "execute_result",
          "data": {
            "text/plain": [
              "array(['HomePlanet', 'CryoSleep', 'Destination', 'VIP', 'deck', 'side',\n",
              "       'Group', 'Transported'], dtype=object)"
            ]
          },
          "metadata": {},
          "execution_count": 29
        }
      ]
    },
    {
      "cell_type": "code",
      "source": [
        "train_plot = train.copy()\n",
        "fig, ax = plt.subplots(3,3,figsize=(20,10))\n",
        "for i, col in enumerate(cat):\n",
        "    train_plot[col] = train_plot[col].fillna(\"NA\")\n",
        "    sns.countplot(data=train_plot, x=col, hue=\"Transported\", ax=ax[i//3,i%3])\n",
        "    \n",
        "plt.tight_layout()"
      ],
      "metadata": {
        "colab": {
          "base_uri": "https://localhost:8080/",
          "height": 720
        },
        "id": "WB13iXARZ6uW",
        "outputId": "94c0d68e-8527-4b06-db97-aa46ba962561"
      },
      "execution_count": 32,
      "outputs": [
        {
          "output_type": "display_data",
          "data": {
            "text/plain": [
              "<Figure size 1440x720 with 9 Axes>"
            ],
            "image/png": "[encoded data removed]"
          },
          "metadata": {
            "needs_background": "light"
          }
        }
      ]
    },
    {
      "cell_type": "markdown",
      "source": [
        "\n",
        "\n",
        "*   `HomePlanet`: Europa는 True, Earth는 False가 더 많은 경향이 있고, Mars는 True와 False의 비율이 비슷하다.\n",
        "*   `CryoSleep`: True인 경우 높은 확률로 Transported가 True였고, False인 경우 Transported가 False인 경우가 더 많았다.\n",
        "*   `Destination`, `VIP`, `side`: Transported에 유의미한 영향을 미치지 않는 것으로 보인다. \n",
        "*   `Group`, `deck`: 파악이 어려우나 큰 관계가 없어보인다. \n",
        "\n",
        "\n",
        "\n"
      ],
      "metadata": {
        "id": "IyKrb-lHSu5z"
      }
    },
    {
      "cell_type": "markdown",
      "source": [
        "4) 결측치 보간"
      ],
      "metadata": {
        "id": "hiGEKK7GaHRK"
      }
    },
    {
      "cell_type": "markdown",
      "source": [
        "*참고: [https://dining-developer.tistory.com/19](https://dining-developer.tistory.com/19)*"
      ],
      "metadata": {
        "id": "zO0PKFLHTu2I"
      }
    },
    {
      "cell_type": "markdown",
      "source": [
        "***수치형 변수 결측치 보간***"
      ],
      "metadata": {
        "id": "yupCVjjdU5P3"
      }
    },
    {
      "cell_type": "code",
      "source": [
        "train.describe()"
      ],
      "metadata": {
        "colab": {
          "base_uri": "https://localhost:8080/",
          "height": 300
        },
        "id": "eoEfjWDiVDU7",
        "outputId": "f4184692-7b07-47e7-c597-796ddfeecdf6"
      },
      "execution_count": 35,
      "outputs": [
        {
          "output_type": "execute_result",
          "data": {
            "text/plain": [
              "               Age   RoomService     FoodCourt  ShoppingMall           Spa  \\\n",
              "count  8514.000000   8512.000000   8510.000000   8485.000000   8510.000000   \n",
              "mean     28.827930    224.687617    458.077203    173.729169    311.138778   \n",
              "std      14.489021    666.717663   1611.489240    604.696458   1136.705535   \n",
              "min       0.000000      0.000000      0.000000      0.000000      0.000000   \n",
              "25%      19.000000      0.000000      0.000000      0.000000      0.000000   \n",
              "50%      27.000000      0.000000      0.000000      0.000000      0.000000   \n",
              "75%      38.000000     47.000000     76.000000     27.000000     59.000000   \n",
              "max      79.000000  14327.000000  29813.000000  23492.000000  22408.000000   \n",
              "\n",
              "             VRDeck  \n",
              "count   8505.000000  \n",
              "mean     304.854791  \n",
              "std     1145.717189  \n",
              "min        0.000000  \n",
              "25%        0.000000  \n",
              "50%        0.000000  \n",
              "75%       46.000000  \n",
              "max    24133.000000  "
            ],
            "text/html": [
              "\n",
              "  <div id=\"df-1cf6657a-e4fe-43bd-aca4-ea46ab5b313f\">\n",
              "    <div class=\"colab-df-container\">\n",
              "      <div>\n",
              "<style scoped>\n",
              "    .dataframe tbody tr th:only-of-type {\n",
              "        vertical-align: middle;\n",
              "    }\n",
              "\n",
              "    .dataframe tbody tr th {\n",
              "        vertical-align: top;\n",
              "    }\n",
              "\n",
              "    .dataframe thead th {\n",
              "        text-align: right;\n",
              "    }\n",
              "</style>\n",
              "<table border=\"1\" class=\"dataframe\">\n",
              "  <thead>\n",
              "    <tr style=\"text-align: right;\">\n",
              "      <th></th>\n",
              "      <th>Age</th>\n",
              "      <th>RoomService</th>\n",
              "      <th>FoodCourt</th>\n",
              "      <th>ShoppingMall</th>\n",
              "      <th>Spa</th>\n",
              "      <th>VRDeck</th>\n",
              "    </tr>\n",
              "  </thead>\n",
              "  <tbody>\n",
              "    <tr>\n",
              "      <th>count</th>\n",
              "      <td>8514.000000</td>\n",
              "      <td>8512.000000</td>\n",
              "      <td>8510.000000</td>\n",
              "      <td>8485.000000</td>\n",
              "      <td>8510.000000</td>\n",
              "      <td>8505.000000</td>\n",
              "    </tr>\n",
              "    <tr>\n",
              "      <th>mean</th>\n",
              "      <td>28.827930</td>\n",
              "      <td>224.687617</td>\n",
              "      <td>458.077203</td>\n",
              "      <td>173.729169</td>\n",
              "      <td>311.138778</td>\n",
              "      <td>304.854791</td>\n",
              "    </tr>\n",
              "    <tr>\n",
              "      <th>std</th>\n",
              "      <td>14.489021</td>\n",
              "      <td>666.717663</td>\n",
              "      <td>1611.489240</td>\n",
              "      <td>604.696458</td>\n",
              "      <td>1136.705535</td>\n",
              "      <td>1145.717189</td>\n",
              "    </tr>\n",
              "    <tr>\n",
              "      <th>min</th>\n",
              "      <td>0.000000</td>\n",
              "      <td>0.000000</td>\n",
              "      <td>0.000000</td>\n",
              "      <td>0.000000</td>\n",
              "      <td>0.000000</td>\n",
              "      <td>0.000000</td>\n",
              "    </tr>\n",
              "    <tr>\n",
              "      <th>25%</th>\n",
              "      <td>19.000000</td>\n",
              "      <td>0.000000</td>\n",
              "      <td>0.000000</td>\n",
              "      <td>0.000000</td>\n",
              "      <td>0.000000</td>\n",
              "      <td>0.000000</td>\n",
              "    </tr>\n",
              "    <tr>\n",
              "      <th>50%</th>\n",
              "      <td>27.000000</td>\n",
              "      <td>0.000000</td>\n",
              "      <td>0.000000</td>\n",
              "      <td>0.000000</td>\n",
              "      <td>0.000000</td>\n",
              "      <td>0.000000</td>\n",
              "    </tr>\n",
              "    <tr>\n",
              "      <th>75%</th>\n",
              "      <td>38.000000</td>\n",
              "      <td>47.000000</td>\n",
              "      <td>76.000000</td>\n",
              "      <td>27.000000</td>\n",
              "      <td>59.000000</td>\n",
              "      <td>46.000000</td>\n",
              "    </tr>\n",
              "    <tr>\n",
              "      <th>max</th>\n",
              "      <td>79.000000</td>\n",
              "      <td>14327.000000</td>\n",
              "      <td>29813.000000</td>\n",
              "      <td>23492.000000</td>\n",
              "      <td>22408.000000</td>\n",
              "      <td>24133.000000</td>\n",
              "    </tr>\n",
              "  </tbody>\n",
              "</table>\n",
              "</div>\n",
              "      <button class=\"colab-df-convert\" onclick=\"convertToInteractive('df-1cf6657a-e4fe-43bd-aca4-ea46ab5b313f')\"\n",
              "              title=\"Convert this dataframe to an interactive table.\"\n",
              "              style=\"display:none;\">\n",
              "        \n",
              "  <svg xmlns=\"http://www.w3.org/2000/svg\" height=\"24px\"viewBox=\"0 0 24 24\"\n",
              "       width=\"24px\">\n",
              "    <path d=\"M0 0h24v24H0V0z\" fill=\"none\"/>\n",
              "    <path d=\"M18.56 5.44l.94 2.06.94-2.06 2.06-.94-2.06-.94-.94-2.06-.94 2.06-2.06.94zm-11 1L8.5 8.5l.94-2.06 2.06-.94-2.06-.94L8.5 2.5l-.94 2.06-2.06.94zm10 10l.94 2.06.94-2.06 2.06-.94-2.06-.94-.94-2.06-.94 2.06-2.06.94z\"/><path d=\"M17.41 7.96l-1.37-1.37c-.4-.4-.92-.59-1.43-.59-.52 0-1.04.2-1.43.59L10.3 9.45l-7.72 7.72c-.78.78-.78 2.05 0 2.83L4 21.41c.39.39.9.59 1.41.59.51 0 1.02-.2 1.41-.59l7.78-7.78 2.81-2.81c.8-.78.8-2.07 0-2.86zM5.41 20L4 18.59l7.72-7.72 1.47 1.35L5.41 20z\"/>\n",
              "  </svg>\n",
              "      </button>\n",
              "      \n",
              "  <style>\n",
              "    .colab-df-container {\n",
              "      display:flex;\n",
              "      flex-wrap:wrap;\n",
              "      gap: 12px;\n",
              "    }\n",
              "\n",
              "    .colab-df-convert {\n",
              "      background-color: #E8F0FE;\n",
              "      border: none;\n",
              "      border-radius: 50%;\n",
              "      cursor: pointer;\n",
              "      display: none;\n",
              "      fill: #1967D2;\n",
              "      height: 32px;\n",
              "      padding: 0 0 0 0;\n",
              "      width: 32px;\n",
              "    }\n",
              "\n",
              "    .colab-df-convert:hover {\n",
              "      background-color: #E2EBFA;\n",
              "      box-shadow: 0px 1px 2px rgba(60, 64, 67, 0.3), 0px 1px 3px 1px rgba(60, 64, 67, 0.15);\n",
              "      fill: #174EA6;\n",
              "    }\n",
              "\n",
              "    [theme=dark] .colab-df-convert {\n",
              "      background-color: #3B4455;\n",
              "      fill: #D2E3FC;\n",
              "    }\n",
              "\n",
              "    [theme=dark] .colab-df-convert:hover {\n",
              "      background-color: #434B5C;\n",
              "      box-shadow: 0px 1px 3px 1px rgba(0, 0, 0, 0.15);\n",
              "      filter: drop-shadow(0px 1px 2px rgba(0, 0, 0, 0.3));\n",
              "      fill: #FFFFFF;\n",
              "    }\n",
              "  </style>\n",
              "\n",
              "      <script>\n",
              "        const buttonEl =\n",
              "          document.querySelector('#df-1cf6657a-e4fe-43bd-aca4-ea46ab5b313f button.colab-df-convert');\n",
              "        buttonEl.style.display =\n",
              "          google.colab.kernel.accessAllowed ? 'block' : 'none';\n",
              "\n",
              "        async function convertToInteractive(key) {\n",
              "          const element = document.querySelector('#df-1cf6657a-e4fe-43bd-aca4-ea46ab5b313f');\n",
              "          const dataTable =\n",
              "            await google.colab.kernel.invokeFunction('convertToInteractive',\n",
              "                                                     [key], {});\n",
              "          if (!dataTable) return;\n",
              "\n",
              "          const docLinkHtml = 'Like what you see? Visit the ' +\n",
              "            '<a target=\"_blank\" href=https://colab.research.google.com/notebooks/data_table.ipynb>data table notebook</a>'\n",
              "            + ' to learn more about interactive tables.';\n",
              "          element.innerHTML = '';\n",
              "          dataTable['output_type'] = 'display_data';\n",
              "          await google.colab.output.renderOutput(dataTable, element);\n",
              "          const docLink = document.createElement('div');\n",
              "          docLink.innerHTML = docLinkHtml;\n",
              "          element.appendChild(docLink);\n",
              "        }\n",
              "      </script>\n",
              "    </div>\n",
              "  </div>\n",
              "  "
            ]
          },
          "metadata": {},
          "execution_count": 35
        }
      ]
    },
    {
      "cell_type": "code",
      "source": [
        "for col in num.drop(\"Age\"):\n",
        "    print(col,\"가(이) 0인 비율: \", ((train[col]==0).sum())/len(train))\n",
        "    print(col,\" NA 비율: \", ((train[col].isna()).sum())/len(train))"
      ],
      "metadata": {
        "colab": {
          "base_uri": "https://localhost:8080/"
        },
        "id": "CLM8OICMVpZE",
        "outputId": "4570a2fd-3b97-4149-bd99-e28282f161f9"
      },
      "execution_count": 40,
      "outputs": [
        {
          "output_type": "stream",
          "name": "stdout",
          "text": [
            "RoomService 가(이) 0인 비율:  0.6415506729552514\n",
            "RoomService  NA 비율:  0.02082135051190613\n",
            "FoodCourt 가(이) 0인 비율:  0.6276314275854136\n",
            "FoodCourt  NA 비율:  0.021051420683308408\n",
            "ShoppingMall 가(이) 0인 비율:  0.6427010238122628\n",
            "ShoppingMall  NA 비율:  0.02392729782583688\n",
            "Spa 가(이) 0인 비율:  0.6124467962728632\n",
            "Spa  NA 비율:  0.021051420683308408\n",
            "VRDeck 가(이) 0인 비율:  0.632117795927758\n",
            "VRDeck  NA 비율:  0.021626596111814105\n"
          ]
        }
      ]
    },
    {
      "cell_type": "markdown",
      "source": [
        "위 결과를 통해 `Age` 제외한 나머지 수치형 자료의 값이 대부분 0이라는 것을 알 수 있다. "
      ],
      "metadata": {
        "id": "fdBdvb-TVHiI"
      }
    },
    {
      "cell_type": "code",
      "source": [
        "# 변수간 상관관계\n",
        "sns.heatmap(data = train.corr(), annot=True, fmt = '.2f', linewidths=.5, cmap='Blues')"
      ],
      "metadata": {
        "colab": {
          "base_uri": "https://localhost:8080/",
          "height": 345
        },
        "id": "GpAETE1ze2wB",
        "outputId": "e0caeb31-2464-4083-d6d3-b319f38deb75"
      },
      "execution_count": 34,
      "outputs": [
        {
          "output_type": "execute_result",
          "data": {
            "text/plain": [
              "<matplotlib.axes._subplots.AxesSubplot at 0x7f232d451be0>"
            ]
          },
          "metadata": {},
          "execution_count": 34
        },
        {
          "output_type": "display_data",
          "data": {
            "text/plain": [
              "<Figure size 432x288 with 2 Axes>"
            ],
            "image/png": "[encoded data removed]"
          },
          "metadata": {
            "needs_background": "light"
          }
        }
      ]
    },
    {
      "cell_type": "markdown",
      "source": [
        "Heatmap을 그려본 결과 변수간 유의한 상관관계를 발견하기 힘들었다. "
      ],
      "metadata": {
        "id": "u3uPTuP7loZz"
      }
    },
    {
      "cell_type": "code",
      "source": [
        "service = ['RoomService', 'FoodCourt', 'ShoppingMall', 'Spa', 'VRDeck']\n",
        "print(train[train[\"CryoSleep\"]==True][service].sum())\n",
        "sns.boxplot(x=\"CryoSleep\", y=train[service].sum(axis=1), data=train)"
      ],
      "metadata": {
        "colab": {
          "base_uri": "https://localhost:8080/",
          "height": 406
        },
        "id": "5Aoz7Eh8ZHav",
        "outputId": "520ab4c5-a86d-4dbd-90ae-181ca7c765da"
      },
      "execution_count": 43,
      "outputs": [
        {
          "output_type": "stream",
          "name": "stdout",
          "text": [
            "RoomService     0.0\n",
            "FoodCourt       0.0\n",
            "ShoppingMall    0.0\n",
            "Spa             0.0\n",
            "VRDeck          0.0\n",
            "dtype: float64\n"
          ]
        },
        {
          "output_type": "execute_result",
          "data": {
            "text/plain": [
              "<matplotlib.axes._subplots.AxesSubplot at 0x7f2325e8e340>"
            ]
          },
          "metadata": {},
          "execution_count": 43
        },
        {
          "output_type": "display_data",
          "data": {
            "text/plain": [
              "<Figure size 432x288 with 1 Axes>"
            ],
            "image/png": "[encoded data removed]"
          },
          "metadata": {
            "needs_background": "light"
          }
        }
      ]
    },
    {
      "cell_type": "markdown",
      "source": [
        "`CryoSleep` 이 True인 경우 service에 사용한 돈이 0"
      ],
      "metadata": {
        "id": "VMiR572-ZYpX"
      }
    },
    {
      "cell_type": "code",
      "source": [
        "print(train[train[\"Age\"]<13][service].sum())\n",
        "sns.histplot(x=\"Age\", y=train[service].sum(axis=1), data=train, element='step')"
      ],
      "metadata": {
        "colab": {
          "base_uri": "https://localhost:8080/",
          "height": 406
        },
        "id": "s5Fk2RjPZgdy",
        "outputId": "60239c09-57e4-4d0c-f7d4-03330a135544"
      },
      "execution_count": 44,
      "outputs": [
        {
          "output_type": "stream",
          "name": "stdout",
          "text": [
            "RoomService     0.0\n",
            "FoodCourt       0.0\n",
            "ShoppingMall    0.0\n",
            "Spa             0.0\n",
            "VRDeck          0.0\n",
            "dtype: float64\n"
          ]
        },
        {
          "output_type": "execute_result",
          "data": {
            "text/plain": [
              "<matplotlib.axes._subplots.AxesSubplot at 0x7f232de389a0>"
            ]
          },
          "metadata": {},
          "execution_count": 44
        },
        {
          "output_type": "display_data",
          "data": {
            "text/plain": [
              "<Figure size 432x288 with 1 Axes>"
            ],
            "image/png": "[encoded data removed]"
          },
          "metadata": {
            "needs_background": "light"
          }
        }
      ]
    },
    {
      "cell_type": "markdown",
      "source": [
        "`Age` 가 13보다 작은 경우 service에 사용한 돈이 0"
      ],
      "metadata": {
        "id": "dkwCiUmUZlfR"
      }
    },
    {
      "cell_type": "markdown",
      "source": [
        "`CryoSleep` 이 True이거나 `Age` 가 13세 미만인 경우 모두 서비스 이용금액이 0인 것을 확인했다.따라서 `CryoSleep` 이 True이거나 `Age` 가 13세 미만인 경우 5개 변수의 결측치를 0으로 대체했다."
      ],
      "metadata": {
        "id": "OUX5p_evZxif"
      }
    },
    {
      "cell_type": "code",
      "source": [
        "sleep_train_idx = train[train[\"CryoSleep\"]==True].index\n",
        "sleep_test_idx = test[test[\"CryoSleep\"]==True].index\n",
        "\n",
        "age13_train_idx = train[train[\"Age\"]<13].index\n",
        "age13_test_idx = test[test[\"Age\"]<13].index\n",
        "\n",
        "train.loc[sleep_train_idx.union(age13_train_idx), service] = 0.0\n",
        "test.loc[sleep_test_idx.union(age13_test_idx), service] = 0.0"
      ],
      "metadata": {
        "id": "0z6jX8LLn4fn"
      },
      "execution_count": 45,
      "outputs": []
    },
    {
      "cell_type": "markdown",
      "source": [
        "반대로 서비스 이용금액이 존재하는 경우, `CryoSleep` 은 False이고, 금액이 0이면 `CryoSleep` 은 True인 것을 이용해 `CryoSleep` 의 결측치를 채워줬다."
      ],
      "metadata": {
        "id": "FXjINKRzbTfz"
      }
    },
    {
      "cell_type": "code",
      "source": [
        "train[\"CryoSleep\"] = train[\"CryoSleep\"].fillna(train[service].sum(axis=1)==0)\n",
        "test[\"CryoSleep\"] = test[\"CryoSleep\"].fillna(test[service].sum(axis=1)==0)"
      ],
      "metadata": {
        "id": "NgV06yAMbeDf"
      },
      "execution_count": 46,
      "outputs": []
    },
    {
      "cell_type": "markdown",
      "source": [
        "`CryoSleep`, `Age` 등 service와 확실히 관련이 있는 경우는 위와 같이 변수를 참고하여 보간했다."
      ],
      "metadata": {
        "id": "d4AYar2-broJ"
      }
    },
    {
      "cell_type": "markdown",
      "source": [
        "\n",
        "\n",
        "*   결측값을 대체할 때는 결측치를 제거하거나 평균, 중앙값 등으로 대체하는 single imputation이 있고 오차의 불확실성을 고려하는 다중 대체법(multiple imputation)이 있다. 다중대체법은 데이터셋 생성, 분석과 추정, 결합을 통해 결측치를 대체하는 방법으로 대표적으로 MCMC를 이용하는 MVNI 방식과 FCS를 이용하는 MICE 방식이 있다.\n",
        "*   MVNI는 기본적으로 모든 변수가 정규분포를 따른다고 가정하고 베이지안 접근에 따라 정규분포에서 대체값을 얻는다. MICE는 정규분포를 따른다는 가정이 없는 방식으로, 결측치의 조건적인 분포가 다른 모든 변수에 의해 결정된다는 가정 하에 대체값을 얻는다. 특히 FCS는 분포 가정 없이 연속된 회귀방정식을 통해 값을 대체하는 방식이다.\n",
        "*   결측치가 존재하는 수치형 데이터인 Age 및 여러 service 변수와 다른 변수의 상관계수가 크지 않은 것을 확인했지만 위와 같이 특정 조건이 주어질 때 관계가 존재한다는 것 또한 확인했다. 따라서 다른 변수에 의해 조건적인 분포를 결정하는 MICE 방식을 통해 결측치를 대체했다.\n",
        "*   참고: [https://gooopy.tistory.com/45](https://gooopy.tistory.com/45)\n",
        "\n",
        "\n",
        "\n"
      ],
      "metadata": {
        "id": "ZJbP-FXeb3aA"
      }
    },
    {
      "cell_type": "code",
      "source": [
        "from impyute.imputation.cs import mice"
      ],
      "metadata": {
        "id": "YisYyEB3dCs9"
      },
      "execution_count": 64,
      "outputs": []
    },
    {
      "cell_type": "code",
      "source": [
        "np_imputed = mice(train[num].values)\n",
        "df_imputed = pd.DataFrame(np_imputed)\n",
        "\n",
        "train[num] = df_imputed"
      ],
      "metadata": {
        "id": "iYZMlOEVceMG"
      },
      "execution_count": 65,
      "outputs": []
    },
    {
      "cell_type": "code",
      "source": [
        "np_imputed = mice(test[num].values)\n",
        "df_imputed = pd.DataFrame(np_imputed)\n",
        "\n",
        "test[num] = df_imputed"
      ],
      "metadata": {
        "id": "TcrVbVF_c2Yc"
      },
      "execution_count": 67,
      "outputs": []
    },
    {
      "cell_type": "markdown",
      "source": [
        "***범주형 변수 결측치 보간***"
      ],
      "metadata": {
        "id": "DwKWT8FUfrtj"
      }
    },
    {
      "cell_type": "markdown",
      "source": [
        "\n",
        "\n",
        "*   **HomePlanet**\n",
        "\n",
        "\n",
        "\n",
        "\n"
      ],
      "metadata": {
        "id": "G_yinG3JfznV"
      }
    },
    {
      "cell_type": "code",
      "source": [
        "pd.crosstab(train['HomePlanet'],train['deck'])"
      ],
      "metadata": {
        "colab": {
          "base_uri": "https://localhost:8080/",
          "height": 175
        },
        "id": "GlDA42vxfxVP",
        "outputId": "7b9858fb-fde8-496e-b4e3-a1e85ea48c35"
      },
      "execution_count": 68,
      "outputs": [
        {
          "output_type": "execute_result",
          "data": {
            "text/plain": [
              "deck          A    B    C    D    E     F     G  NA  T\n",
              "HomePlanet                                            \n",
              "Earth         0    0    0    0  395  1614  2498  95  0\n",
              "Europa      252  766  734  186  128     0     0  61  4\n",
              "Mars          0    0    0  282  330  1110     0  37  0"
            ],
            "text/html": [
              "\n",
              "  <div id=\"df-3c88d65b-9e58-4b9a-b722-0ec4d54021d5\">\n",
              "    <div class=\"colab-df-container\">\n",
              "      <div>\n",
              "<style scoped>\n",
              "    .dataframe tbody tr th:only-of-type {\n",
              "        vertical-align: middle;\n",
              "    }\n",
              "\n",
              "    .dataframe tbody tr th {\n",
              "        vertical-align: top;\n",
              "    }\n",
              "\n",
              "    .dataframe thead th {\n",
              "        text-align: right;\n",
              "    }\n",
              "</style>\n",
              "<table border=\"1\" class=\"dataframe\">\n",
              "  <thead>\n",
              "    <tr style=\"text-align: right;\">\n",
              "      <th>deck</th>\n",
              "      <th>A</th>\n",
              "      <th>B</th>\n",
              "      <th>C</th>\n",
              "      <th>D</th>\n",
              "      <th>E</th>\n",
              "      <th>F</th>\n",
              "      <th>G</th>\n",
              "      <th>NA</th>\n",
              "      <th>T</th>\n",
              "    </tr>\n",
              "    <tr>\n",
              "      <th>HomePlanet</th>\n",
              "      <th></th>\n",
              "      <th></th>\n",
              "      <th></th>\n",
              "      <th></th>\n",
              "      <th></th>\n",
              "      <th></th>\n",
              "      <th></th>\n",
              "      <th></th>\n",
              "      <th></th>\n",
              "    </tr>\n",
              "  </thead>\n",
              "  <tbody>\n",
              "    <tr>\n",
              "      <th>Earth</th>\n",
              "      <td>0</td>\n",
              "      <td>0</td>\n",
              "      <td>0</td>\n",
              "      <td>0</td>\n",
              "      <td>395</td>\n",
              "      <td>1614</td>\n",
              "      <td>2498</td>\n",
              "      <td>95</td>\n",
              "      <td>0</td>\n",
              "    </tr>\n",
              "    <tr>\n",
              "      <th>Europa</th>\n",
              "      <td>252</td>\n",
              "      <td>766</td>\n",
              "      <td>734</td>\n",
              "      <td>186</td>\n",
              "      <td>128</td>\n",
              "      <td>0</td>\n",
              "      <td>0</td>\n",
              "      <td>61</td>\n",
              "      <td>4</td>\n",
              "    </tr>\n",
              "    <tr>\n",
              "      <th>Mars</th>\n",
              "      <td>0</td>\n",
              "      <td>0</td>\n",
              "      <td>0</td>\n",
              "      <td>282</td>\n",
              "      <td>330</td>\n",
              "      <td>1110</td>\n",
              "      <td>0</td>\n",
              "      <td>37</td>\n",
              "      <td>0</td>\n",
              "    </tr>\n",
              "  </tbody>\n",
              "</table>\n",
              "</div>\n",
              "      <button class=\"colab-df-convert\" onclick=\"convertToInteractive('df-3c88d65b-9e58-4b9a-b722-0ec4d54021d5')\"\n",
              "              title=\"Convert this dataframe to an interactive table.\"\n",
              "              style=\"display:none;\">\n",
              "        \n",
              "  <svg xmlns=\"http://www.w3.org/2000/svg\" height=\"24px\"viewBox=\"0 0 24 24\"\n",
              "       width=\"24px\">\n",
              "    <path d=\"M0 0h24v24H0V0z\" fill=\"none\"/>\n",
              "    <path d=\"M18.56 5.44l.94 2.06.94-2.06 2.06-.94-2.06-.94-.94-2.06-.94 2.06-2.06.94zm-11 1L8.5 8.5l.94-2.06 2.06-.94-2.06-.94L8.5 2.5l-.94 2.06-2.06.94zm10 10l.94 2.06.94-2.06 2.06-.94-2.06-.94-.94-2.06-.94 2.06-2.06.94z\"/><path d=\"M17.41 7.96l-1.37-1.37c-.4-.4-.92-.59-1.43-.59-.52 0-1.04.2-1.43.59L10.3 9.45l-7.72 7.72c-.78.78-.78 2.05 0 2.83L4 21.41c.39.39.9.59 1.41.59.51 0 1.02-.2 1.41-.59l7.78-7.78 2.81-2.81c.8-.78.8-2.07 0-2.86zM5.41 20L4 18.59l7.72-7.72 1.47 1.35L5.41 20z\"/>\n",
              "  </svg>\n",
              "      </button>\n",
              "      \n",
              "  <style>\n",
              "    .colab-df-container {\n",
              "      display:flex;\n",
              "      flex-wrap:wrap;\n",
              "      gap: 12px;\n",
              "    }\n",
              "\n",
              "    .colab-df-convert {\n",
              "      background-color: #E8F0FE;\n",
              "      border: none;\n",
              "      border-radius: 50%;\n",
              "      cursor: pointer;\n",
              "      display: none;\n",
              "      fill: #1967D2;\n",
              "      height: 32px;\n",
              "      padding: 0 0 0 0;\n",
              "      width: 32px;\n",
              "    }\n",
              "\n",
              "    .colab-df-convert:hover {\n",
              "      background-color: #E2EBFA;\n",
              "      box-shadow: 0px 1px 2px rgba(60, 64, 67, 0.3), 0px 1px 3px 1px rgba(60, 64, 67, 0.15);\n",
              "      fill: #174EA6;\n",
              "    }\n",
              "\n",
              "    [theme=dark] .colab-df-convert {\n",
              "      background-color: #3B4455;\n",
              "      fill: #D2E3FC;\n",
              "    }\n",
              "\n",
              "    [theme=dark] .colab-df-convert:hover {\n",
              "      background-color: #434B5C;\n",
              "      box-shadow: 0px 1px 3px 1px rgba(0, 0, 0, 0.15);\n",
              "      filter: drop-shadow(0px 1px 2px rgba(0, 0, 0, 0.3));\n",
              "      fill: #FFFFFF;\n",
              "    }\n",
              "  </style>\n",
              "\n",
              "      <script>\n",
              "        const buttonEl =\n",
              "          document.querySelector('#df-3c88d65b-9e58-4b9a-b722-0ec4d54021d5 button.colab-df-convert');\n",
              "        buttonEl.style.display =\n",
              "          google.colab.kernel.accessAllowed ? 'block' : 'none';\n",
              "\n",
              "        async function convertToInteractive(key) {\n",
              "          const element = document.querySelector('#df-3c88d65b-9e58-4b9a-b722-0ec4d54021d5');\n",
              "          const dataTable =\n",
              "            await google.colab.kernel.invokeFunction('convertToInteractive',\n",
              "                                                     [key], {});\n",
              "          if (!dataTable) return;\n",
              "\n",
              "          const docLinkHtml = 'Like what you see? Visit the ' +\n",
              "            '<a target=\"_blank\" href=https://colab.research.google.com/notebooks/data_table.ipynb>data table notebook</a>'\n",
              "            + ' to learn more about interactive tables.';\n",
              "          element.innerHTML = '';\n",
              "          dataTable['output_type'] = 'display_data';\n",
              "          await google.colab.output.renderOutput(dataTable, element);\n",
              "          const docLink = document.createElement('div');\n",
              "          docLink.innerHTML = docLinkHtml;\n",
              "          element.appendChild(docLink);\n",
              "        }\n",
              "      </script>\n",
              "    </div>\n",
              "  </div>\n",
              "  "
            ]
          },
          "metadata": {},
          "execution_count": 68
        }
      ]
    },
    {
      "cell_type": "code",
      "source": [
        "for i in range(len(train)):\n",
        "    if train['HomePlanet'].isna()[i]==True :\n",
        "        if train['deck'][i] == \"G\" :\n",
        "            train['HomePlanet'][i] = \"Earth\"\n",
        "        if train['deck'][i] == \"A\" or train['deck'][i] == \"B\" or train['deck'][i] == \"C\" or train['deck'][i] == \"T\" :\n",
        "            train['HomePlanet'][i] = \"Europa\"\n",
        "\n",
        "for i in range(len(test)):\n",
        "    if test['HomePlanet'].isna()[i]==True :\n",
        "        if test['deck'][i] == \"G\" :\n",
        "            test['HomePlanet'][i] = \"Earth\"\n",
        "        if test['deck'][i] == \"A\" or test['deck'][i] == \"B\" or test['deck'][i] == \"C\" or test['deck'][i] == \"T\" :\n",
        "            test['HomePlanet'][i] = \"Europa\""
      ],
      "metadata": {
        "id": "l9KGNvXrgKsd"
      },
      "execution_count": null,
      "outputs": []
    },
    {
      "cell_type": "markdown",
      "source": [
        "\n",
        "\n",
        "*   `deck` 을 기준으로 결측치를 채웠다.\n",
        "*   `deck` 이 A, B, C, G, T인 경우 `HomePlanet` 이 일정하므로 해당 값에 따라 NA를 채워주었다.\n",
        "\n"
      ],
      "metadata": {
        "id": "Aryf-yf3guNy"
      }
    },
    {
      "cell_type": "markdown",
      "source": [
        "\n",
        "\n",
        "*   **나머지 범주형 변수**\n",
        "\n"
      ],
      "metadata": {
        "id": "EY6ZSebUhbop"
      }
    },
    {
      "cell_type": "markdown",
      "source": [
        "`CryoSleep` 결측치는 수치형 변수 결측치 보간할 때 이미 대체해주었고 나머지 `HomePlanet`, `Destination`, `VIP` 변수는 다른 변수와 큰 상관관계가 없다고 판단해 각 변수의 최빈값으로 채워주었다."
      ],
      "metadata": {
        "id": "KUaygpNshiMb"
      }
    },
    {
      "cell_type": "code",
      "source": [
        "for col in cat[:-1]:\n",
        "    idx = train[(train[col].isna()==True)|(train[col]==\"NA\")].index\n",
        "    train[col].iloc[idx] = train[col].mode()\n",
        "    idx = test[(test[col].isna()==True)|(test[col]==\"NA\")].index\n",
        "    test[col].iloc[idx] = test[col].mode()"
      ],
      "metadata": {
        "id": "JEqmh7tUhsft"
      },
      "execution_count": 70,
      "outputs": []
    },
    {
      "cell_type": "code",
      "source": [
        "idx = train[train[\"num\"]==-1].index\n",
        "train[\"num\"].iloc[idx] = train[\"num\"].mode()\n",
        "idx = test[test[\"num\"]==-1].index\n",
        "test[\"num\"].iloc[idx] = test[\"num\"].mode()"
      ],
      "metadata": {
        "id": "4xIbEPqsh0fM"
      },
      "execution_count": 71,
      "outputs": []
    },
    {
      "cell_type": "code",
      "source": [
        "print(train.isna().sum(), test.isna().sum())"
      ],
      "metadata": {
        "colab": {
          "base_uri": "https://localhost:8080/"
        },
        "id": "1trj9U30h7U4",
        "outputId": "cc5960b6-1c4c-455e-9cd5-58bb74f7a473"
      },
      "execution_count": 72,
      "outputs": [
        {
          "output_type": "stream",
          "name": "stdout",
          "text": [
            "HomePlanet        0\n",
            "CryoSleep         0\n",
            "Destination       0\n",
            "Age               0\n",
            "VIP               0\n",
            "RoomService       0\n",
            "FoodCourt         0\n",
            "ShoppingMall      0\n",
            "Spa               0\n",
            "VRDeck            0\n",
            "Name            200\n",
            "Transported       0\n",
            "deck              0\n",
            "num               0\n",
            "side              0\n",
            "Group             0\n",
            "Number            0\n",
            "dtype: int64 HomePlanet       0\n",
            "CryoSleep        0\n",
            "Destination      0\n",
            "Age              0\n",
            "VIP              0\n",
            "RoomService      0\n",
            "FoodCourt        0\n",
            "ShoppingMall     0\n",
            "Spa              0\n",
            "VRDeck           0\n",
            "Name            94\n",
            "deck             0\n",
            "num              0\n",
            "side             0\n",
            "Group            0\n",
            "Number           0\n",
            "dtype: int64\n"
          ]
        }
      ]
    },
    {
      "cell_type": "markdown",
      "source": [
        "5) EDA 결과를 바탕으로 파생변수 생성성"
      ],
      "metadata": {
        "id": "xqUgstXLiDmY"
      }
    },
    {
      "cell_type": "markdown",
      "source": [
        "\n",
        "\n",
        "*   TotalExpense (전체 서비스 이용 금액)\n",
        "\n"
      ],
      "metadata": {
        "id": "KMb42IzBiPwD"
      }
    },
    {
      "cell_type": "code",
      "source": [
        "train[\"TotalExpense\"] = train[service].sum(axis=1)\n",
        "test[\"TotalExpense\"] = test[service].sum(axis=1)"
      ],
      "metadata": {
        "id": "VaLpYWAviLlz"
      },
      "execution_count": 73,
      "outputs": []
    },
    {
      "cell_type": "markdown",
      "source": [
        "\n",
        "\n",
        "---\n",
        "\n"
      ],
      "metadata": {
        "id": "kE2i1MxzlQqJ"
      }
    },
    {
      "cell_type": "markdown",
      "source": [
        "**2. 모델링**"
      ],
      "metadata": {
        "id": "sFF95XURkMlD"
      }
    },
    {
      "cell_type": "code",
      "source": [
        "from sklearn.model_selection import *\n",
        "from sklearn.metrics import *\n",
        "import lazypredict\n",
        "from lazypredict.Supervised import LazyClassifier\n",
        "import time\n",
        "from IPython.display import clear_output\n",
        "from xgboost import XGBClassifier\n",
        "from sklearn.ensemble import RandomForestClassifier\n",
        "import lightgbm as lgb"
      ],
      "metadata": {
        "id": "orNOjPujmQnZ"
      },
      "execution_count": 134,
      "outputs": []
    },
    {
      "cell_type": "markdown",
      "source": [
        "Encoding\n",
        "\n",
        "\n",
        "*   대표적인 인코딩 방법으로는 Label Encoding과 One-hot Encoding이 있다. Label Encoding은 n개의 범주형 데이터를 0 ~ n-1의 연속적인 수치 데이터로 바꾸는 방법이고 One-hot Encoding은 n개의 범주형 데이터를 n개의 비트 벡터로 표현하는 방법이다. 인코딩 하려는 변수인 `HomePlanet`, `Destination`, `deck`, `NewGroup` 은 모두 순서가 의미있지 않은 변수이므로 One-hot Encoding이 적합하다고 보이지만, 고유값의 개수가 많아져 선형회귀나 로지스틱 회귀를 사용할 때 다중공선성 문제가 발생할 위험이 있다.\n",
        "*   참고: https://azanewta.tistory.com/46\n",
        "\n",
        "\n",
        "\n",
        "\n"
      ],
      "metadata": {
        "id": "huYiya72kx8K"
      }
    },
    {
      "cell_type": "markdown",
      "source": [
        "\n",
        "*   One-hot Encoding\n"
      ],
      "metadata": {
        "id": "6sIZMj0ZlNDN"
      }
    },
    {
      "cell_type": "code",
      "source": [
        "train_onehot = train.copy()\n",
        "test_onehot = test.copy()"
      ],
      "metadata": {
        "id": "bcT-3ip6kUgv"
      },
      "execution_count": 82,
      "outputs": []
    },
    {
      "cell_type": "code",
      "source": [
        "onehot_cols = [\"HomePlanet\", \"CryoSleep\", \"Destination\", \"VIP\", \"deck\", \"side\", \"NewGroup\"]\n",
        "train_onehot = pd.get_dummies(data=train_onehot, columns=onehot_cols, prefix=onehot_cols)\n",
        "test_onehot = pd.get_dummies(data=test_onehot, columns=onehot_cols, prefix=onehot_cols)"
      ],
      "metadata": {
        "id": "3vllHOT-ldAC"
      },
      "execution_count": 83,
      "outputs": []
    },
    {
      "cell_type": "code",
      "source": [
        "train_onehot = train_onehot.drop([\"Name\",\"Group\",\"Number\",\"num\"], axis=1)\n",
        "test_onehot = test_onehot.drop([\"Name\",\"Group\",\"Number\",\"num\"], axis=1)"
      ],
      "metadata": {
        "id": "aKwYxQG-lg9S"
      },
      "execution_count": 84,
      "outputs": []
    },
    {
      "cell_type": "code",
      "source": [
        "train_onehot"
      ],
      "metadata": {
        "colab": {
          "base_uri": "https://localhost:8080/",
          "height": 488
        },
        "id": "XB1tcCIxlm0f",
        "outputId": "abc41c60-e625-49bf-942e-70b51bde2852"
      },
      "execution_count": 85,
      "outputs": [
        {
          "output_type": "execute_result",
          "data": {
            "text/plain": [
              "       Age  RoomService  FoodCourt  ShoppingMall     Spa  VRDeck  Transported  \\\n",
              "0     39.0          0.0        0.0           0.0     0.0     0.0        False   \n",
              "1     24.0        109.0        9.0          25.0   549.0    44.0         True   \n",
              "2     58.0         43.0     3576.0           0.0  6715.0    49.0        False   \n",
              "3     33.0          0.0     1283.0         371.0  3329.0   193.0        False   \n",
              "4     16.0        303.0       70.0         151.0   565.0     2.0         True   \n",
              "...    ...          ...        ...           ...     ...     ...          ...   \n",
              "8688  41.0          0.0     6819.0           0.0  1643.0    74.0        False   \n",
              "8689  18.0          0.0        0.0           0.0     0.0     0.0        False   \n",
              "8690  26.0          0.0        0.0        1872.0     1.0     0.0         True   \n",
              "8691  32.0          0.0     1049.0           0.0   353.0  3235.0        False   \n",
              "8692  44.0        126.0     4688.0           0.0     0.0    12.0         True   \n",
              "\n",
              "      TotalExpense  HomePlanet_Earth  HomePlanet_Europa  ...  side_True  \\\n",
              "0              0.0                 0                  1  ...          0   \n",
              "1            736.0                 1                  0  ...          1   \n",
              "2          10383.0                 0                  1  ...          1   \n",
              "3           5176.0                 0                  1  ...          1   \n",
              "4           1091.0                 1                  0  ...          1   \n",
              "...            ...               ...                ...  ...        ...   \n",
              "8688        8536.0                 0                  1  ...          0   \n",
              "8689           0.0                 1                  0  ...          1   \n",
              "8690        1873.0                 1                  0  ...          1   \n",
              "8691        4637.0                 0                  1  ...          1   \n",
              "8692        4826.0                 0                  1  ...          1   \n",
              "\n",
              "      NewGroup_0  NewGroup_1  NewGroup_2  NewGroup_3  NewGroup_4  NewGroup_5  \\\n",
              "0              1           0           0           0           0           0   \n",
              "1              1           0           0           0           0           0   \n",
              "2              1           0           0           0           0           0   \n",
              "3              1           0           0           0           0           0   \n",
              "4              1           0           0           0           0           0   \n",
              "...          ...         ...         ...         ...         ...         ...   \n",
              "8688           0           0           0           0           0           0   \n",
              "8689           0           0           0           0           0           0   \n",
              "8690           0           0           0           0           0           0   \n",
              "8691           0           0           0           0           0           0   \n",
              "8692           0           0           0           0           0           0   \n",
              "\n",
              "      NewGroup_6  NewGroup_7  NewGroup_8  \n",
              "0              0           0           0  \n",
              "1              0           0           0  \n",
              "2              0           0           0  \n",
              "3              0           0           0  \n",
              "4              0           0           0  \n",
              "...          ...         ...         ...  \n",
              "8688           0           0           1  \n",
              "8689           0           0           1  \n",
              "8690           0           0           1  \n",
              "8691           0           0           1  \n",
              "8692           0           0           1  \n",
              "\n",
              "[8693 rows x 37 columns]"
            ],
            "text/html": [
              "\n",
              "  <div id=\"df-8a7911f7-4c30-4ea5-b734-f94e9f258fd9\">\n",
              "    <div class=\"colab-df-container\">\n",
              "      <div>\n",
              "<style scoped>\n",
              "    .dataframe tbody tr th:only-of-type {\n",
              "        vertical-align: middle;\n",
              "    }\n",
              "\n",
              "    .dataframe tbody tr th {\n",
              "        vertical-align: top;\n",
              "    }\n",
              "\n",
              "    .dataframe thead th {\n",
              "        text-align: right;\n",
              "    }\n",
              "</style>\n",
              "<table border=\"1\" class=\"dataframe\">\n",
              "  <thead>\n",
              "    <tr style=\"text-align: right;\">\n",
              "      <th></th>\n",
              "      <th>Age</th>\n",
              "      <th>RoomService</th>\n",
              "      <th>FoodCourt</th>\n",
              "      <th>ShoppingMall</th>\n",
              "      <th>Spa</th>\n",
              "      <th>VRDeck</th>\n",
              "      <th>Transported</th>\n",
              "      <th>TotalExpense</th>\n",
              "      <th>HomePlanet_Earth</th>\n",
              "      <th>HomePlanet_Europa</th>\n",
              "      <th>...</th>\n",
              "      <th>side_True</th>\n",
              "      <th>NewGroup_0</th>\n",
              "      <th>NewGroup_1</th>\n",
              "      <th>NewGroup_2</th>\n",
              "      <th>NewGroup_3</th>\n",
              "      <th>NewGroup_4</th>\n",
              "      <th>NewGroup_5</th>\n",
              "      <th>NewGroup_6</th>\n",
              "      <th>NewGroup_7</th>\n",
              "      <th>NewGroup_8</th>\n",
              "    </tr>\n",
              "  </thead>\n",
              "  <tbody>\n",
              "    <tr>\n",
              "      <th>0</th>\n",
              "      <td>39.0</td>\n",
              "      <td>0.0</td>\n",
              "      <td>0.0</td>\n",
              "      <td>0.0</td>\n",
              "      <td>0.0</td>\n",
              "      <td>0.0</td>\n",
              "      <td>False</td>\n",
              "      <td>0.0</td>\n",
              "      <td>0</td>\n",
              "      <td>1</td>\n",
              "      <td>...</td>\n",
              "      <td>0</td>\n",
              "      <td>1</td>\n",
              "      <td>0</td>\n",
              "      <td>0</td>\n",
              "      <td>0</td>\n",
              "      <td>0</td>\n",
              "      <td>0</td>\n",
              "      <td>0</td>\n",
              "      <td>0</td>\n",
              "      <td>0</td>\n",
              "    </tr>\n",
              "    <tr>\n",
              "      <th>1</th>\n",
              "      <td>24.0</td>\n",
              "      <td>109.0</td>\n",
              "      <td>9.0</td>\n",
              "      <td>25.0</td>\n",
              "      <td>549.0</td>\n",
              "      <td>44.0</td>\n",
              "      <td>True</td>\n",
              "      <td>736.0</td>\n",
              "      <td>1</td>\n",
              "      <td>0</td>\n",
              "      <td>...</td>\n",
              "      <td>1</td>\n",
              "      <td>1</td>\n",
              "      <td>0</td>\n",
              "      <td>0</td>\n",
              "      <td>0</td>\n",
              "      <td>0</td>\n",
              "      <td>0</td>\n",
              "      <td>0</td>\n",
              "      <td>0</td>\n",
              "      <td>0</td>\n",
              "    </tr>\n",
              "    <tr>\n",
              "      <th>2</th>\n",
              "      <td>58.0</td>\n",
              "      <td>43.0</td>\n",
              "      <td>3576.0</td>\n",
              "      <td>0.0</td>\n",
              "      <td>6715.0</td>\n",
              "      <td>49.0</td>\n",
              "      <td>False</td>\n",
              "      <td>10383.0</td>\n",
              "      <td>0</td>\n",
              "      <td>1</td>\n",
              "      <td>...</td>\n",
              "      <td>1</td>\n",
              "      <td>1</td>\n",
              "      <td>0</td>\n",
              "      <td>0</td>\n",
              "      <td>0</td>\n",
              "      <td>0</td>\n",
              "      <td>0</td>\n",
              "      <td>0</td>\n",
              "      <td>0</td>\n",
              "      <td>0</td>\n",
              "    </tr>\n",
              "    <tr>\n",
              "      <th>3</th>\n",
              "      <td>33.0</td>\n",
              "      <td>0.0</td>\n",
              "      <td>1283.0</td>\n",
              "      <td>371.0</td>\n",
              "      <td>3329.0</td>\n",
              "      <td>193.0</td>\n",
              "      <td>False</td>\n",
              "      <td>5176.0</td>\n",
              "      <td>0</td>\n",
              "      <td>1</td>\n",
              "      <td>...</td>\n",
              "      <td>1</td>\n",
              "      <td>1</td>\n",
              "      <td>0</td>\n",
              "      <td>0</td>\n",
              "      <td>0</td>\n",
              "      <td>0</td>\n",
              "      <td>0</td>\n",
              "      <td>0</td>\n",
              "      <td>0</td>\n",
              "      <td>0</td>\n",
              "    </tr>\n",
              "    <tr>\n",
              "      <th>4</th>\n",
              "      <td>16.0</td>\n",
              "      <td>303.0</td>\n",
              "      <td>70.0</td>\n",
              "      <td>151.0</td>\n",
              "      <td>565.0</td>\n",
              "      <td>2.0</td>\n",
              "      <td>True</td>\n",
              "      <td>1091.0</td>\n",
              "      <td>1</td>\n",
              "      <td>0</td>\n",
              "      <td>...</td>\n",
              "      <td>1</td>\n",
              "      <td>1</td>\n",
              "      <td>0</td>\n",
              "      <td>0</td>\n",
              "      <td>0</td>\n",
              "      <td>0</td>\n",
              "      <td>0</td>\n",
              "      <td>0</td>\n",
              "      <td>0</td>\n",
              "      <td>0</td>\n",
              "    </tr>\n",
              "    <tr>\n",
              "      <th>...</th>\n",
              "      <td>...</td>\n",
              "      <td>...</td>\n",
              "      <td>...</td>\n",
              "      <td>...</td>\n",
              "      <td>...</td>\n",
              "      <td>...</td>\n",
              "      <td>...</td>\n",
              "      <td>...</td>\n",
              "      <td>...</td>\n",
              "      <td>...</td>\n",
              "      <td>...</td>\n",
              "      <td>...</td>\n",
              "      <td>...</td>\n",
              "      <td>...</td>\n",
              "      <td>...</td>\n",
              "      <td>...</td>\n",
              "      <td>...</td>\n",
              "      <td>...</td>\n",
              "      <td>...</td>\n",
              "      <td>...</td>\n",
              "      <td>...</td>\n",
              "    </tr>\n",
              "    <tr>\n",
              "      <th>8688</th>\n",
              "      <td>41.0</td>\n",
              "      <td>0.0</td>\n",
              "      <td>6819.0</td>\n",
              "      <td>0.0</td>\n",
              "      <td>1643.0</td>\n",
              "      <td>74.0</td>\n",
              "      <td>False</td>\n",
              "      <td>8536.0</td>\n",
              "      <td>0</td>\n",
              "      <td>1</td>\n",
              "      <td>...</td>\n",
              "      <td>0</td>\n",
              "      <td>0</td>\n",
              "      <td>0</td>\n",
              "      <td>0</td>\n",
              "      <td>0</td>\n",
              "      <td>0</td>\n",
              "      <td>0</td>\n",
              "      <td>0</td>\n",
              "      <td>0</td>\n",
              "      <td>1</td>\n",
              "    </tr>\n",
              "    <tr>\n",
              "      <th>8689</th>\n",
              "      <td>18.0</td>\n",
              "      <td>0.0</td>\n",
              "      <td>0.0</td>\n",
              "      <td>0.0</td>\n",
              "      <td>0.0</td>\n",
              "      <td>0.0</td>\n",
              "      <td>False</td>\n",
              "      <td>0.0</td>\n",
              "      <td>1</td>\n",
              "      <td>0</td>\n",
              "      <td>...</td>\n",
              "      <td>1</td>\n",
              "      <td>0</td>\n",
              "      <td>0</td>\n",
              "      <td>0</td>\n",
              "      <td>0</td>\n",
              "      <td>0</td>\n",
              "      <td>0</td>\n",
              "      <td>0</td>\n",
              "      <td>0</td>\n",
              "      <td>1</td>\n",
              "    </tr>\n",
              "    <tr>\n",
              "      <th>8690</th>\n",
              "      <td>26.0</td>\n",
              "      <td>0.0</td>\n",
              "      <td>0.0</td>\n",
              "      <td>1872.0</td>\n",
              "      <td>1.0</td>\n",
              "      <td>0.0</td>\n",
              "      <td>True</td>\n",
              "      <td>1873.0</td>\n",
              "      <td>1</td>\n",
              "      <td>0</td>\n",
              "      <td>...</td>\n",
              "      <td>1</td>\n",
              "      <td>0</td>\n",
              "      <td>0</td>\n",
              "      <td>0</td>\n",
              "      <td>0</td>\n",
              "      <td>0</td>\n",
              "      <td>0</td>\n",
              "      <td>0</td>\n",
              "      <td>0</td>\n",
              "      <td>1</td>\n",
              "    </tr>\n",
              "    <tr>\n",
              "      <th>8691</th>\n",
              "      <td>32.0</td>\n",
              "      <td>0.0</td>\n",
              "      <td>1049.0</td>\n",
              "      <td>0.0</td>\n",
              "      <td>353.0</td>\n",
              "      <td>3235.0</td>\n",
              "      <td>False</td>\n",
              "      <td>4637.0</td>\n",
              "      <td>0</td>\n",
              "      <td>1</td>\n",
              "      <td>...</td>\n",
              "      <td>1</td>\n",
              "      <td>0</td>\n",
              "      <td>0</td>\n",
              "      <td>0</td>\n",
              "      <td>0</td>\n",
              "      <td>0</td>\n",
              "      <td>0</td>\n",
              "      <td>0</td>\n",
              "      <td>0</td>\n",
              "      <td>1</td>\n",
              "    </tr>\n",
              "    <tr>\n",
              "      <th>8692</th>\n",
              "      <td>44.0</td>\n",
              "      <td>126.0</td>\n",
              "      <td>4688.0</td>\n",
              "      <td>0.0</td>\n",
              "      <td>0.0</td>\n",
              "      <td>12.0</td>\n",
              "      <td>True</td>\n",
              "      <td>4826.0</td>\n",
              "      <td>0</td>\n",
              "      <td>1</td>\n",
              "      <td>...</td>\n",
              "      <td>1</td>\n",
              "      <td>0</td>\n",
              "      <td>0</td>\n",
              "      <td>0</td>\n",
              "      <td>0</td>\n",
              "      <td>0</td>\n",
              "      <td>0</td>\n",
              "      <td>0</td>\n",
              "      <td>0</td>\n",
              "      <td>1</td>\n",
              "    </tr>\n",
              "  </tbody>\n",
              "</table>\n",
              "<p>8693 rows × 37 columns</p>\n",
              "</div>\n",
              "      <button class=\"colab-df-convert\" onclick=\"convertToInteractive('df-8a7911f7-4c30-4ea5-b734-f94e9f258fd9')\"\n",
              "              title=\"Convert this dataframe to an interactive table.\"\n",
              "              style=\"display:none;\">\n",
              "        \n",
              "  <svg xmlns=\"http://www.w3.org/2000/svg\" height=\"24px\"viewBox=\"0 0 24 24\"\n",
              "       width=\"24px\">\n",
              "    <path d=\"M0 0h24v24H0V0z\" fill=\"none\"/>\n",
              "    <path d=\"M18.56 5.44l.94 2.06.94-2.06 2.06-.94-2.06-.94-.94-2.06-.94 2.06-2.06.94zm-11 1L8.5 8.5l.94-2.06 2.06-.94-2.06-.94L8.5 2.5l-.94 2.06-2.06.94zm10 10l.94 2.06.94-2.06 2.06-.94-2.06-.94-.94-2.06-.94 2.06-2.06.94z\"/><path d=\"M17.41 7.96l-1.37-1.37c-.4-.4-.92-.59-1.43-.59-.52 0-1.04.2-1.43.59L10.3 9.45l-7.72 7.72c-.78.78-.78 2.05 0 2.83L4 21.41c.39.39.9.59 1.41.59.51 0 1.02-.2 1.41-.59l7.78-7.78 2.81-2.81c.8-.78.8-2.07 0-2.86zM5.41 20L4 18.59l7.72-7.72 1.47 1.35L5.41 20z\"/>\n",
              "  </svg>\n",
              "      </button>\n",
              "      \n",
              "  <style>\n",
              "    .colab-df-container {\n",
              "      display:flex;\n",
              "      flex-wrap:wrap;\n",
              "      gap: 12px;\n",
              "    }\n",
              "\n",
              "    .colab-df-convert {\n",
              "      background-color: #E8F0FE;\n",
              "      border: none;\n",
              "      border-radius: 50%;\n",
              "      cursor: pointer;\n",
              "      display: none;\n",
              "      fill: #1967D2;\n",
              "      height: 32px;\n",
              "      padding: 0 0 0 0;\n",
              "      width: 32px;\n",
              "    }\n",
              "\n",
              "    .colab-df-convert:hover {\n",
              "      background-color: #E2EBFA;\n",
              "      box-shadow: 0px 1px 2px rgba(60, 64, 67, 0.3), 0px 1px 3px 1px rgba(60, 64, 67, 0.15);\n",
              "      fill: #174EA6;\n",
              "    }\n",
              "\n",
              "    [theme=dark] .colab-df-convert {\n",
              "      background-color: #3B4455;\n",
              "      fill: #D2E3FC;\n",
              "    }\n",
              "\n",
              "    [theme=dark] .colab-df-convert:hover {\n",
              "      background-color: #434B5C;\n",
              "      box-shadow: 0px 1px 3px 1px rgba(0, 0, 0, 0.15);\n",
              "      filter: drop-shadow(0px 1px 2px rgba(0, 0, 0, 0.3));\n",
              "      fill: #FFFFFF;\n",
              "    }\n",
              "  </style>\n",
              "\n",
              "      <script>\n",
              "        const buttonEl =\n",
              "          document.querySelector('#df-8a7911f7-4c30-4ea5-b734-f94e9f258fd9 button.colab-df-convert');\n",
              "        buttonEl.style.display =\n",
              "          google.colab.kernel.accessAllowed ? 'block' : 'none';\n",
              "\n",
              "        async function convertToInteractive(key) {\n",
              "          const element = document.querySelector('#df-8a7911f7-4c30-4ea5-b734-f94e9f258fd9');\n",
              "          const dataTable =\n",
              "            await google.colab.kernel.invokeFunction('convertToInteractive',\n",
              "                                                     [key], {});\n",
              "          if (!dataTable) return;\n",
              "\n",
              "          const docLinkHtml = 'Like what you see? Visit the ' +\n",
              "            '<a target=\"_blank\" href=https://colab.research.google.com/notebooks/data_table.ipynb>data table notebook</a>'\n",
              "            + ' to learn more about interactive tables.';\n",
              "          element.innerHTML = '';\n",
              "          dataTable['output_type'] = 'display_data';\n",
              "          await google.colab.output.renderOutput(dataTable, element);\n",
              "          const docLink = document.createElement('div');\n",
              "          docLink.innerHTML = docLinkHtml;\n",
              "          element.appendChild(docLink);\n",
              "        }\n",
              "      </script>\n",
              "    </div>\n",
              "  </div>\n",
              "  "
            ]
          },
          "metadata": {},
          "execution_count": 85
        }
      ]
    },
    {
      "cell_type": "code",
      "source": [
        "test_onehot"
      ],
      "metadata": {
        "colab": {
          "base_uri": "https://localhost:8080/",
          "height": 488
        },
        "id": "bN2cv6ITlryE",
        "outputId": "79f8ae93-1574-4dad-b54f-fa11d02c6dac"
      },
      "execution_count": 86,
      "outputs": [
        {
          "output_type": "execute_result",
          "data": {
            "text/plain": [
              "            Age  RoomService  FoodCourt  ShoppingMall     Spa  VRDeck  \\\n",
              "0     27.000000          0.0        0.0           0.0     0.0     0.0   \n",
              "1     19.000000          0.0        9.0           0.0  2823.0     0.0   \n",
              "2     31.000000          0.0        0.0           0.0     0.0     0.0   \n",
              "3     38.000000          0.0     6652.0           0.0   181.0   585.0   \n",
              "4     20.000000         10.0        0.0         635.0     0.0     0.0   \n",
              "...         ...          ...        ...           ...     ...     ...   \n",
              "4272  34.000000          0.0        0.0           0.0     0.0     0.0   \n",
              "4273  42.000000          0.0      847.0          17.0    10.0   144.0   \n",
              "4274  27.321573          0.0        0.0           0.0     0.0     0.0   \n",
              "4275  29.561392          0.0     2680.0           0.0     0.0   523.0   \n",
              "4276  43.000000          0.0        0.0           0.0     0.0     0.0   \n",
              "\n",
              "      TotalExpense  HomePlanet_Earth  HomePlanet_Europa  HomePlanet_Mars  ...  \\\n",
              "0              0.0                 1                  0                0  ...   \n",
              "1           2832.0                 1                  0                0  ...   \n",
              "2              0.0                 0                  1                0  ...   \n",
              "3           7418.0                 0                  1                0  ...   \n",
              "4            645.0                 1                  0                0  ...   \n",
              "...            ...               ...                ...              ...  ...   \n",
              "4272           0.0                 1                  0                0  ...   \n",
              "4273        1018.0                 1                  0                0  ...   \n",
              "4274           0.0                 0                  0                1  ...   \n",
              "4275        3203.0                 0                  1                0  ...   \n",
              "4276           0.0                 1                  0                0  ...   \n",
              "\n",
              "      side_True  NewGroup_0  NewGroup_1  NewGroup_2  NewGroup_3  NewGroup_4  \\\n",
              "0             1           1           0           0           0           0   \n",
              "1             1           1           0           0           0           0   \n",
              "2             1           1           0           0           0           0   \n",
              "3             1           1           0           0           0           0   \n",
              "4             1           1           0           0           0           0   \n",
              "...         ...         ...         ...         ...         ...         ...   \n",
              "4272          1           0           0           0           0           0   \n",
              "4273          0           0           0           0           0           0   \n",
              "4274          0           0           0           0           0           0   \n",
              "4275          0           0           0           0           0           0   \n",
              "4276          1           0           0           0           0           0   \n",
              "\n",
              "      NewGroup_5  NewGroup_6  NewGroup_7  NewGroup_8  \n",
              "0              0           0           0           0  \n",
              "1              0           0           0           0  \n",
              "2              0           0           0           0  \n",
              "3              0           0           0           0  \n",
              "4              0           0           0           0  \n",
              "...          ...         ...         ...         ...  \n",
              "4272           0           0           0           1  \n",
              "4273           0           0           0           1  \n",
              "4274           0           0           0           1  \n",
              "4275           0           0           0           1  \n",
              "4276           0           0           0           1  \n",
              "\n",
              "[4277 rows x 36 columns]"
            ],
            "text/html": [
              "\n",
              "  <div id=\"df-b1ac0fef-77e8-4a4e-bdbb-e772b3027c14\">\n",
              "    <div class=\"colab-df-container\">\n",
              "      <div>\n",
              "<style scoped>\n",
              "    .dataframe tbody tr th:only-of-type {\n",
              "        vertical-align: middle;\n",
              "    }\n",
              "\n",
              "    .dataframe tbody tr th {\n",
              "        vertical-align: top;\n",
              "    }\n",
              "\n",
              "    .dataframe thead th {\n",
              "        text-align: right;\n",
              "    }\n",
              "</style>\n",
              "<table border=\"1\" class=\"dataframe\">\n",
              "  <thead>\n",
              "    <tr style=\"text-align: right;\">\n",
              "      <th></th>\n",
              "      <th>Age</th>\n",
              "      <th>RoomService</th>\n",
              "      <th>FoodCourt</th>\n",
              "      <th>ShoppingMall</th>\n",
              "      <th>Spa</th>\n",
              "      <th>VRDeck</th>\n",
              "      <th>TotalExpense</th>\n",
              "      <th>HomePlanet_Earth</th>\n",
              "      <th>HomePlanet_Europa</th>\n",
              "      <th>HomePlanet_Mars</th>\n",
              "      <th>...</th>\n",
              "      <th>side_True</th>\n",
              "      <th>NewGroup_0</th>\n",
              "      <th>NewGroup_1</th>\n",
              "      <th>NewGroup_2</th>\n",
              "      <th>NewGroup_3</th>\n",
              "      <th>NewGroup_4</th>\n",
              "      <th>NewGroup_5</th>\n",
              "      <th>NewGroup_6</th>\n",
              "      <th>NewGroup_7</th>\n",
              "      <th>NewGroup_8</th>\n",
              "    </tr>\n",
              "  </thead>\n",
              "  <tbody>\n",
              "    <tr>\n",
              "      <th>0</th>\n",
              "      <td>27.000000</td>\n",
              "      <td>0.0</td>\n",
              "      <td>0.0</td>\n",
              "      <td>0.0</td>\n",
              "      <td>0.0</td>\n",
              "      <td>0.0</td>\n",
              "      <td>0.0</td>\n",
              "      <td>1</td>\n",
              "      <td>0</td>\n",
              "      <td>0</td>\n",
              "      <td>...</td>\n",
              "      <td>1</td>\n",
              "      <td>1</td>\n",
              "      <td>0</td>\n",
              "      <td>0</td>\n",
              "      <td>0</td>\n",
              "      <td>0</td>\n",
              "      <td>0</td>\n",
              "      <td>0</td>\n",
              "      <td>0</td>\n",
              "      <td>0</td>\n",
              "    </tr>\n",
              "    <tr>\n",
              "      <th>1</th>\n",
              "      <td>19.000000</td>\n",
              "      <td>0.0</td>\n",
              "      <td>9.0</td>\n",
              "      <td>0.0</td>\n",
              "      <td>2823.0</td>\n",
              "      <td>0.0</td>\n",
              "      <td>2832.0</td>\n",
              "      <td>1</td>\n",
              "      <td>0</td>\n",
              "      <td>0</td>\n",
              "      <td>...</td>\n",
              "      <td>1</td>\n",
              "      <td>1</td>\n",
              "      <td>0</td>\n",
              "      <td>0</td>\n",
              "      <td>0</td>\n",
              "      <td>0</td>\n",
              "      <td>0</td>\n",
              "      <td>0</td>\n",
              "      <td>0</td>\n",
              "      <td>0</td>\n",
              "    </tr>\n",
              "    <tr>\n",
              "      <th>2</th>\n",
              "      <td>31.000000</td>\n",
              "      <td>0.0</td>\n",
              "      <td>0.0</td>\n",
              "      <td>0.0</td>\n",
              "      <td>0.0</td>\n",
              "      <td>0.0</td>\n",
              "      <td>0.0</td>\n",
              "      <td>0</td>\n",
              "      <td>1</td>\n",
              "      <td>0</td>\n",
              "      <td>...</td>\n",
              "      <td>1</td>\n",
              "      <td>1</td>\n",
              "      <td>0</td>\n",
              "      <td>0</td>\n",
              "      <td>0</td>\n",
              "      <td>0</td>\n",
              "      <td>0</td>\n",
              "      <td>0</td>\n",
              "      <td>0</td>\n",
              "      <td>0</td>\n",
              "    </tr>\n",
              "    <tr>\n",
              "      <th>3</th>\n",
              "      <td>38.000000</td>\n",
              "      <td>0.0</td>\n",
              "      <td>6652.0</td>\n",
              "      <td>0.0</td>\n",
              "      <td>181.0</td>\n",
              "      <td>585.0</td>\n",
              "      <td>7418.0</td>\n",
              "      <td>0</td>\n",
              "      <td>1</td>\n",
              "      <td>0</td>\n",
              "      <td>...</td>\n",
              "      <td>1</td>\n",
              "      <td>1</td>\n",
              "      <td>0</td>\n",
              "      <td>0</td>\n",
              "      <td>0</td>\n",
              "      <td>0</td>\n",
              "      <td>0</td>\n",
              "      <td>0</td>\n",
              "      <td>0</td>\n",
              "      <td>0</td>\n",
              "    </tr>\n",
              "    <tr>\n",
              "      <th>4</th>\n",
              "      <td>20.000000</td>\n",
              "      <td>10.0</td>\n",
              "      <td>0.0</td>\n",
              "      <td>635.0</td>\n",
              "      <td>0.0</td>\n",
              "      <td>0.0</td>\n",
              "      <td>645.0</td>\n",
              "      <td>1</td>\n",
              "      <td>0</td>\n",
              "      <td>0</td>\n",
              "      <td>...</td>\n",
              "      <td>1</td>\n",
              "      <td>1</td>\n",
              "      <td>0</td>\n",
              "      <td>0</td>\n",
              "      <td>0</td>\n",
              "      <td>0</td>\n",
              "      <td>0</td>\n",
              "      <td>0</td>\n",
              "      <td>0</td>\n",
              "      <td>0</td>\n",
              "    </tr>\n",
              "    <tr>\n",
              "      <th>...</th>\n",
              "      <td>...</td>\n",
              "      <td>...</td>\n",
              "      <td>...</td>\n",
              "      <td>...</td>\n",
              "      <td>...</td>\n",
              "      <td>...</td>\n",
              "      <td>...</td>\n",
              "      <td>...</td>\n",
              "      <td>...</td>\n",
              "      <td>...</td>\n",
              "      <td>...</td>\n",
              "      <td>...</td>\n",
              "      <td>...</td>\n",
              "      <td>...</td>\n",
              "      <td>...</td>\n",
              "      <td>...</td>\n",
              "      <td>...</td>\n",
              "      <td>...</td>\n",
              "      <td>...</td>\n",
              "      <td>...</td>\n",
              "      <td>...</td>\n",
              "    </tr>\n",
              "    <tr>\n",
              "      <th>4272</th>\n",
              "      <td>34.000000</td>\n",
              "      <td>0.0</td>\n",
              "      <td>0.0</td>\n",
              "      <td>0.0</td>\n",
              "      <td>0.0</td>\n",
              "      <td>0.0</td>\n",
              "      <td>0.0</td>\n",
              "      <td>1</td>\n",
              "      <td>0</td>\n",
              "      <td>0</td>\n",
              "      <td>...</td>\n",
              "      <td>1</td>\n",
              "      <td>0</td>\n",
              "      <td>0</td>\n",
              "      <td>0</td>\n",
              "      <td>0</td>\n",
              "      <td>0</td>\n",
              "      <td>0</td>\n",
              "      <td>0</td>\n",
              "      <td>0</td>\n",
              "      <td>1</td>\n",
              "    </tr>\n",
              "    <tr>\n",
              "      <th>4273</th>\n",
              "      <td>42.000000</td>\n",
              "      <td>0.0</td>\n",
              "      <td>847.0</td>\n",
              "      <td>17.0</td>\n",
              "      <td>10.0</td>\n",
              "      <td>144.0</td>\n",
              "      <td>1018.0</td>\n",
              "      <td>1</td>\n",
              "      <td>0</td>\n",
              "      <td>0</td>\n",
              "      <td>...</td>\n",
              "      <td>0</td>\n",
              "      <td>0</td>\n",
              "      <td>0</td>\n",
              "      <td>0</td>\n",
              "      <td>0</td>\n",
              "      <td>0</td>\n",
              "      <td>0</td>\n",
              "      <td>0</td>\n",
              "      <td>0</td>\n",
              "      <td>1</td>\n",
              "    </tr>\n",
              "    <tr>\n",
              "      <th>4274</th>\n",
              "      <td>27.321573</td>\n",
              "      <td>0.0</td>\n",
              "      <td>0.0</td>\n",
              "      <td>0.0</td>\n",
              "      <td>0.0</td>\n",
              "      <td>0.0</td>\n",
              "      <td>0.0</td>\n",
              "      <td>0</td>\n",
              "      <td>0</td>\n",
              "      <td>1</td>\n",
              "      <td>...</td>\n",
              "      <td>0</td>\n",
              "      <td>0</td>\n",
              "      <td>0</td>\n",
              "      <td>0</td>\n",
              "      <td>0</td>\n",
              "      <td>0</td>\n",
              "      <td>0</td>\n",
              "      <td>0</td>\n",
              "      <td>0</td>\n",
              "      <td>1</td>\n",
              "    </tr>\n",
              "    <tr>\n",
              "      <th>4275</th>\n",
              "      <td>29.561392</td>\n",
              "      <td>0.0</td>\n",
              "      <td>2680.0</td>\n",
              "      <td>0.0</td>\n",
              "      <td>0.0</td>\n",
              "      <td>523.0</td>\n",
              "      <td>3203.0</td>\n",
              "      <td>0</td>\n",
              "      <td>1</td>\n",
              "      <td>0</td>\n",
              "      <td>...</td>\n",
              "      <td>0</td>\n",
              "      <td>0</td>\n",
              "      <td>0</td>\n",
              "      <td>0</td>\n",
              "      <td>0</td>\n",
              "      <td>0</td>\n",
              "      <td>0</td>\n",
              "      <td>0</td>\n",
              "      <td>0</td>\n",
              "      <td>1</td>\n",
              "    </tr>\n",
              "    <tr>\n",
              "      <th>4276</th>\n",
              "      <td>43.000000</td>\n",
              "      <td>0.0</td>\n",
              "      <td>0.0</td>\n",
              "      <td>0.0</td>\n",
              "      <td>0.0</td>\n",
              "      <td>0.0</td>\n",
              "      <td>0.0</td>\n",
              "      <td>1</td>\n",
              "      <td>0</td>\n",
              "      <td>0</td>\n",
              "      <td>...</td>\n",
              "      <td>1</td>\n",
              "      <td>0</td>\n",
              "      <td>0</td>\n",
              "      <td>0</td>\n",
              "      <td>0</td>\n",
              "      <td>0</td>\n",
              "      <td>0</td>\n",
              "      <td>0</td>\n",
              "      <td>0</td>\n",
              "      <td>1</td>\n",
              "    </tr>\n",
              "  </tbody>\n",
              "</table>\n",
              "<p>4277 rows × 36 columns</p>\n",
              "</div>\n",
              "      <button class=\"colab-df-convert\" onclick=\"convertToInteractive('df-b1ac0fef-77e8-4a4e-bdbb-e772b3027c14')\"\n",
              "              title=\"Convert this dataframe to an interactive table.\"\n",
              "              style=\"display:none;\">\n",
              "        \n",
              "  <svg xmlns=\"http://www.w3.org/2000/svg\" height=\"24px\"viewBox=\"0 0 24 24\"\n",
              "       width=\"24px\">\n",
              "    <path d=\"M0 0h24v24H0V0z\" fill=\"none\"/>\n",
              "    <path d=\"M18.56 5.44l.94 2.06.94-2.06 2.06-.94-2.06-.94-.94-2.06-.94 2.06-2.06.94zm-11 1L8.5 8.5l.94-2.06 2.06-.94-2.06-.94L8.5 2.5l-.94 2.06-2.06.94zm10 10l.94 2.06.94-2.06 2.06-.94-2.06-.94-.94-2.06-.94 2.06-2.06.94z\"/><path d=\"M17.41 7.96l-1.37-1.37c-.4-.4-.92-.59-1.43-.59-.52 0-1.04.2-1.43.59L10.3 9.45l-7.72 7.72c-.78.78-.78 2.05 0 2.83L4 21.41c.39.39.9.59 1.41.59.51 0 1.02-.2 1.41-.59l7.78-7.78 2.81-2.81c.8-.78.8-2.07 0-2.86zM5.41 20L4 18.59l7.72-7.72 1.47 1.35L5.41 20z\"/>\n",
              "  </svg>\n",
              "      </button>\n",
              "      \n",
              "  <style>\n",
              "    .colab-df-container {\n",
              "      display:flex;\n",
              "      flex-wrap:wrap;\n",
              "      gap: 12px;\n",
              "    }\n",
              "\n",
              "    .colab-df-convert {\n",
              "      background-color: #E8F0FE;\n",
              "      border: none;\n",
              "      border-radius: 50%;\n",
              "      cursor: pointer;\n",
              "      display: none;\n",
              "      fill: #1967D2;\n",
              "      height: 32px;\n",
              "      padding: 0 0 0 0;\n",
              "      width: 32px;\n",
              "    }\n",
              "\n",
              "    .colab-df-convert:hover {\n",
              "      background-color: #E2EBFA;\n",
              "      box-shadow: 0px 1px 2px rgba(60, 64, 67, 0.3), 0px 1px 3px 1px rgba(60, 64, 67, 0.15);\n",
              "      fill: #174EA6;\n",
              "    }\n",
              "\n",
              "    [theme=dark] .colab-df-convert {\n",
              "      background-color: #3B4455;\n",
              "      fill: #D2E3FC;\n",
              "    }\n",
              "\n",
              "    [theme=dark] .colab-df-convert:hover {\n",
              "      background-color: #434B5C;\n",
              "      box-shadow: 0px 1px 3px 1px rgba(0, 0, 0, 0.15);\n",
              "      filter: drop-shadow(0px 1px 2px rgba(0, 0, 0, 0.3));\n",
              "      fill: #FFFFFF;\n",
              "    }\n",
              "  </style>\n",
              "\n",
              "      <script>\n",
              "        const buttonEl =\n",
              "          document.querySelector('#df-b1ac0fef-77e8-4a4e-bdbb-e772b3027c14 button.colab-df-convert');\n",
              "        buttonEl.style.display =\n",
              "          google.colab.kernel.accessAllowed ? 'block' : 'none';\n",
              "\n",
              "        async function convertToInteractive(key) {\n",
              "          const element = document.querySelector('#df-b1ac0fef-77e8-4a4e-bdbb-e772b3027c14');\n",
              "          const dataTable =\n",
              "            await google.colab.kernel.invokeFunction('convertToInteractive',\n",
              "                                                     [key], {});\n",
              "          if (!dataTable) return;\n",
              "\n",
              "          const docLinkHtml = 'Like what you see? Visit the ' +\n",
              "            '<a target=\"_blank\" href=https://colab.research.google.com/notebooks/data_table.ipynb>data table notebook</a>'\n",
              "            + ' to learn more about interactive tables.';\n",
              "          element.innerHTML = '';\n",
              "          dataTable['output_type'] = 'display_data';\n",
              "          await google.colab.output.renderOutput(dataTable, element);\n",
              "          const docLink = document.createElement('div');\n",
              "          docLink.innerHTML = docLinkHtml;\n",
              "          element.appendChild(docLink);\n",
              "        }\n",
              "      </script>\n",
              "    </div>\n",
              "  </div>\n",
              "  "
            ]
          },
          "metadata": {},
          "execution_count": 86
        }
      ]
    },
    {
      "cell_type": "markdown",
      "source": [
        "1) K-fold CV를 위한 Train-test split"
      ],
      "metadata": {
        "id": "F1hTCAUJlwy1"
      }
    },
    {
      "cell_type": "code",
      "source": [
        "X = train_onehot.drop('Transported',axis=1)\n",
        "y = train_onehot['Transported']"
      ],
      "metadata": {
        "id": "b_Qo7Pexl57y"
      },
      "execution_count": 87,
      "outputs": []
    },
    {
      "cell_type": "code",
      "source": [
        "seed = 17\n",
        "random.seed(seed)\n",
        "np.random.seed(seed)"
      ],
      "metadata": {
        "id": "nG5XfLpTl_-N"
      },
      "execution_count": 96,
      "outputs": []
    },
    {
      "cell_type": "code",
      "source": [
        "X_train, X_valid, y_train, y_valid = train_test_split(X, y, test_size=0.2, random_state=seed)"
      ],
      "metadata": {
        "id": "ki6QT-8smDNs"
      },
      "execution_count": 97,
      "outputs": []
    },
    {
      "cell_type": "markdown",
      "source": [
        "2) model 학습 및 CV 결과 확인인"
      ],
      "metadata": {
        "id": "ottXezp7m3lN"
      }
    },
    {
      "cell_type": "markdown",
      "source": [
        "\n",
        "\n",
        "*   LazyClassifier\n",
        "\n",
        "\n",
        "\n"
      ],
      "metadata": {
        "id": "GXTdEgiCm9Y0"
      }
    },
    {
      "cell_type": "markdown",
      "source": [
        "LazyClassifier는 간단하게 여러 ML 모델을 불러와 학습시키고 추론 결과를 확인할 수 있다. 여러 모델의 성능 지표를 비교할 수 있어 성능이 좋은 모델을 추릴 수 있지만, 파라미터를 조정하는 기능이 따로 제공되지 않기에 참고만 해야 한다."
      ],
      "metadata": {
        "id": "6OM7Ksh5nFGk"
      }
    },
    {
      "cell_type": "code",
      "source": [
        "clf = LazyClassifier(verbose=0,\n",
        "                     ignore_warnings=True,\n",
        "                     custom_metric=None,\n",
        "                     predictions=True,\n",
        "                     random_state=17,\n",
        "                     classifiers='all')\n",
        "\n",
        "models, predictions = clf.fit(X_train , X_valid , y_train , y_valid)\n",
        "clear_output()"
      ],
      "metadata": {
        "id": "-otDI8VUm2iz"
      },
      "execution_count": 98,
      "outputs": []
    },
    {
      "cell_type": "code",
      "source": [
        "models.head(10)"
      ],
      "metadata": {
        "colab": {
          "base_uri": "https://localhost:8080/",
          "height": 394
        },
        "id": "PL0gVT5pnWtG",
        "outputId": "4bc1d90a-234d-4864-abd1-57c2edb17476"
      },
      "execution_count": 99,
      "outputs": [
        {
          "output_type": "execute_result",
          "data": {
            "text/plain": [
              "                        Accuracy  Balanced Accuracy  ROC AUC  F1 Score  \\\n",
              "Model                                                                    \n",
              "LGBMClassifier              0.83               0.83     0.83      0.83   \n",
              "RandomForestClassifier      0.81               0.81     0.81      0.81   \n",
              "XGBClassifier               0.81               0.81     0.81      0.81   \n",
              "ExtraTreesClassifier        0.81               0.81     0.81      0.81   \n",
              "BaggingClassifier           0.80               0.81     0.81      0.80   \n",
              "NuSVC                       0.80               0.80     0.80      0.80   \n",
              "SVC                         0.80               0.80     0.80      0.80   \n",
              "LinearSVC                   0.80               0.80     0.80      0.80   \n",
              "CalibratedClassifierCV      0.80               0.80     0.80      0.80   \n",
              "LogisticRegression          0.80               0.80     0.80      0.80   \n",
              "\n",
              "                        Time Taken  \n",
              "Model                               \n",
              "LGBMClassifier                0.41  \n",
              "RandomForestClassifier        1.04  \n",
              "XGBClassifier                 0.76  \n",
              "ExtraTreesClassifier          0.92  \n",
              "BaggingClassifier             0.59  \n",
              "NuSVC                         3.66  \n",
              "SVC                           2.73  \n",
              "LinearSVC                     1.16  \n",
              "CalibratedClassifierCV        5.30  \n",
              "LogisticRegression            0.07  "
            ],
            "text/html": [
              "\n",
              "  <div id=\"df-5cc163d1-0a3c-4189-b6b6-a5bd84b9f133\">\n",
              "    <div class=\"colab-df-container\">\n",
              "      <div>\n",
              "<style scoped>\n",
              "    .dataframe tbody tr th:only-of-type {\n",
              "        vertical-align: middle;\n",
              "    }\n",
              "\n",
              "    .dataframe tbody tr th {\n",
              "        vertical-align: top;\n",
              "    }\n",
              "\n",
              "    .dataframe thead th {\n",
              "        text-align: right;\n",
              "    }\n",
              "</style>\n",
              "<table border=\"1\" class=\"dataframe\">\n",
              "  <thead>\n",
              "    <tr style=\"text-align: right;\">\n",
              "      <th></th>\n",
              "      <th>Accuracy</th>\n",
              "      <th>Balanced Accuracy</th>\n",
              "      <th>ROC AUC</th>\n",
              "      <th>F1 Score</th>\n",
              "      <th>Time Taken</th>\n",
              "    </tr>\n",
              "    <tr>\n",
              "      <th>Model</th>\n",
              "      <th></th>\n",
              "      <th></th>\n",
              "      <th></th>\n",
              "      <th></th>\n",
              "      <th></th>\n",
              "    </tr>\n",
              "  </thead>\n",
              "  <tbody>\n",
              "    <tr>\n",
              "      <th>LGBMClassifier</th>\n",
              "      <td>0.83</td>\n",
              "      <td>0.83</td>\n",
              "      <td>0.83</td>\n",
              "      <td>0.83</td>\n",
              "      <td>0.41</td>\n",
              "    </tr>\n",
              "    <tr>\n",
              "      <th>RandomForestClassifier</th>\n",
              "      <td>0.81</td>\n",
              "      <td>0.81</td>\n",
              "      <td>0.81</td>\n",
              "      <td>0.81</td>\n",
              "      <td>1.04</td>\n",
              "    </tr>\n",
              "    <tr>\n",
              "      <th>XGBClassifier</th>\n",
              "      <td>0.81</td>\n",
              "      <td>0.81</td>\n",
              "      <td>0.81</td>\n",
              "      <td>0.81</td>\n",
              "      <td>0.76</td>\n",
              "    </tr>\n",
              "    <tr>\n",
              "      <th>ExtraTreesClassifier</th>\n",
              "      <td>0.81</td>\n",
              "      <td>0.81</td>\n",
              "      <td>0.81</td>\n",
              "      <td>0.81</td>\n",
              "      <td>0.92</td>\n",
              "    </tr>\n",
              "    <tr>\n",
              "      <th>BaggingClassifier</th>\n",
              "      <td>0.80</td>\n",
              "      <td>0.81</td>\n",
              "      <td>0.81</td>\n",
              "      <td>0.80</td>\n",
              "      <td>0.59</td>\n",
              "    </tr>\n",
              "    <tr>\n",
              "      <th>NuSVC</th>\n",
              "      <td>0.80</td>\n",
              "      <td>0.80</td>\n",
              "      <td>0.80</td>\n",
              "      <td>0.80</td>\n",
              "      <td>3.66</td>\n",
              "    </tr>\n",
              "    <tr>\n",
              "      <th>SVC</th>\n",
              "      <td>0.80</td>\n",
              "      <td>0.80</td>\n",
              "      <td>0.80</td>\n",
              "      <td>0.80</td>\n",
              "      <td>2.73</td>\n",
              "    </tr>\n",
              "    <tr>\n",
              "      <th>LinearSVC</th>\n",
              "      <td>0.80</td>\n",
              "      <td>0.80</td>\n",
              "      <td>0.80</td>\n",
              "      <td>0.80</td>\n",
              "      <td>1.16</td>\n",
              "    </tr>\n",
              "    <tr>\n",
              "      <th>CalibratedClassifierCV</th>\n",
              "      <td>0.80</td>\n",
              "      <td>0.80</td>\n",
              "      <td>0.80</td>\n",
              "      <td>0.80</td>\n",
              "      <td>5.30</td>\n",
              "    </tr>\n",
              "    <tr>\n",
              "      <th>LogisticRegression</th>\n",
              "      <td>0.80</td>\n",
              "      <td>0.80</td>\n",
              "      <td>0.80</td>\n",
              "      <td>0.80</td>\n",
              "      <td>0.07</td>\n",
              "    </tr>\n",
              "  </tbody>\n",
              "</table>\n",
              "</div>\n",
              "      <button class=\"colab-df-convert\" onclick=\"convertToInteractive('df-5cc163d1-0a3c-4189-b6b6-a5bd84b9f133')\"\n",
              "              title=\"Convert this dataframe to an interactive table.\"\n",
              "              style=\"display:none;\">\n",
              "        \n",
              "  <svg xmlns=\"http://www.w3.org/2000/svg\" height=\"24px\"viewBox=\"0 0 24 24\"\n",
              "       width=\"24px\">\n",
              "    <path d=\"M0 0h24v24H0V0z\" fill=\"none\"/>\n",
              "    <path d=\"M18.56 5.44l.94 2.06.94-2.06 2.06-.94-2.06-.94-.94-2.06-.94 2.06-2.06.94zm-11 1L8.5 8.5l.94-2.06 2.06-.94-2.06-.94L8.5 2.5l-.94 2.06-2.06.94zm10 10l.94 2.06.94-2.06 2.06-.94-2.06-.94-.94-2.06-.94 2.06-2.06.94z\"/><path d=\"M17.41 7.96l-1.37-1.37c-.4-.4-.92-.59-1.43-.59-.52 0-1.04.2-1.43.59L10.3 9.45l-7.72 7.72c-.78.78-.78 2.05 0 2.83L4 21.41c.39.39.9.59 1.41.59.51 0 1.02-.2 1.41-.59l7.78-7.78 2.81-2.81c.8-.78.8-2.07 0-2.86zM5.41 20L4 18.59l7.72-7.72 1.47 1.35L5.41 20z\"/>\n",
              "  </svg>\n",
              "      </button>\n",
              "      \n",
              "  <style>\n",
              "    .colab-df-container {\n",
              "      display:flex;\n",
              "      flex-wrap:wrap;\n",
              "      gap: 12px;\n",
              "    }\n",
              "\n",
              "    .colab-df-convert {\n",
              "      background-color: #E8F0FE;\n",
              "      border: none;\n",
              "      border-radius: 50%;\n",
              "      cursor: pointer;\n",
              "      display: none;\n",
              "      fill: #1967D2;\n",
              "      height: 32px;\n",
              "      padding: 0 0 0 0;\n",
              "      width: 32px;\n",
              "    }\n",
              "\n",
              "    .colab-df-convert:hover {\n",
              "      background-color: #E2EBFA;\n",
              "      box-shadow: 0px 1px 2px rgba(60, 64, 67, 0.3), 0px 1px 3px 1px rgba(60, 64, 67, 0.15);\n",
              "      fill: #174EA6;\n",
              "    }\n",
              "\n",
              "    [theme=dark] .colab-df-convert {\n",
              "      background-color: #3B4455;\n",
              "      fill: #D2E3FC;\n",
              "    }\n",
              "\n",
              "    [theme=dark] .colab-df-convert:hover {\n",
              "      background-color: #434B5C;\n",
              "      box-shadow: 0px 1px 3px 1px rgba(0, 0, 0, 0.15);\n",
              "      filter: drop-shadow(0px 1px 2px rgba(0, 0, 0, 0.3));\n",
              "      fill: #FFFFFF;\n",
              "    }\n",
              "  </style>\n",
              "\n",
              "      <script>\n",
              "        const buttonEl =\n",
              "          document.querySelector('#df-5cc163d1-0a3c-4189-b6b6-a5bd84b9f133 button.colab-df-convert');\n",
              "        buttonEl.style.display =\n",
              "          google.colab.kernel.accessAllowed ? 'block' : 'none';\n",
              "\n",
              "        async function convertToInteractive(key) {\n",
              "          const element = document.querySelector('#df-5cc163d1-0a3c-4189-b6b6-a5bd84b9f133');\n",
              "          const dataTable =\n",
              "            await google.colab.kernel.invokeFunction('convertToInteractive',\n",
              "                                                     [key], {});\n",
              "          if (!dataTable) return;\n",
              "\n",
              "          const docLinkHtml = 'Like what you see? Visit the ' +\n",
              "            '<a target=\"_blank\" href=https://colab.research.google.com/notebooks/data_table.ipynb>data table notebook</a>'\n",
              "            + ' to learn more about interactive tables.';\n",
              "          element.innerHTML = '';\n",
              "          dataTable['output_type'] = 'display_data';\n",
              "          await google.colab.output.renderOutput(dataTable, element);\n",
              "          const docLink = document.createElement('div');\n",
              "          docLink.innerHTML = docLinkHtml;\n",
              "          element.appendChild(docLink);\n",
              "        }\n",
              "      </script>\n",
              "    </div>\n",
              "  </div>\n",
              "  "
            ]
          },
          "metadata": {},
          "execution_count": 99
        }
      ]
    },
    {
      "cell_type": "markdown",
      "source": [
        "LightGBM\n",
        "\n",
        "\n",
        "*   트리 기반의 학습 알고리즘인 gradient boosting 방식의 프레임워크이다. \n",
        "*    'Light'에 걸맞게 속도가 빠른 것이 굉장히 큰 장점이다. 또한, 메모리를 적게 차지하고 속도가 빠르다는 장점 외에도, LGBM은 결과의 정확도가 높다는 장점이 있고 GPU를 활용할 수 있기 때문에 널리 사용되고 있다.\n",
        "*   출처: https://herjh0405.tistory.com/40\n",
        "\n",
        "\n",
        "\n"
      ],
      "metadata": {
        "id": "LA3naeb__txk"
      }
    },
    {
      "cell_type": "code",
      "source": [
        "kf = KFold(n_splits = 5)\n",
        "\n",
        "f1score_lgbm = []\n",
        "\n",
        "X_train = X.copy()\n",
        "Y_train = y.copy()\n",
        "\n",
        "model = lgb.LGBMClassifier(learning_rate = 0.08, n_estimators = 50)\n",
        "\n",
        "for train_idx, test_idx in kf.split(X_train) :\n",
        "    \n",
        "    x_train, x_validation = X_train.iloc[train_idx, :], X_train.iloc[test_idx, :]\n",
        "    y_train, y_validation = Y_train.iloc[train_idx], Y_train.iloc[test_idx]\n",
        "        \n",
        "    evals = [(x_validation, y_validation)]\n",
        "        \n",
        "    model.fit(x_train, y_train, eval_set = evals, verbose = 100)\n",
        "    y_pred = model.predict(x_validation)\n",
        "        \n",
        "    f1score_lgbm.append(f1_score(y_validation, y_pred, average='micro'))"
      ],
      "metadata": {
        "id": "0sGU-1tM91eM"
      },
      "execution_count": 135,
      "outputs": []
    },
    {
      "cell_type": "code",
      "source": [
        "print(\"LGBM K-fold CV F1 score: %.6f\" % np.mean(f1score_lgbm))"
      ],
      "metadata": {
        "colab": {
          "base_uri": "https://localhost:8080/"
        },
        "id": "5OBlISLT_iSP",
        "outputId": "25dd83c3-752c-4be9-fe13-dda8b2023030"
      },
      "execution_count": 136,
      "outputs": [
        {
          "output_type": "stream",
          "name": "stdout",
          "text": [
            "LGBM K-fold CV F1 score: 0.800187\n"
          ]
        }
      ]
    },
    {
      "cell_type": "markdown",
      "source": [
        "LGBM 모델의 스코어가 높긴 하나 학습 시간이 매우 짧아 다른 모델을 고려해보기로 했다. "
      ],
      "metadata": {
        "id": "n_D43Weh2-FF"
      }
    },
    {
      "cell_type": "markdown",
      "source": [
        "\n",
        "\n",
        "XGBoost (vs. LGBM)\n",
        "\n",
        "\n",
        "*   XGBoost는 기본적인 GBM과 같은 decision tree의 앙상블 모형이다. XGBoost는 최적화와 알고리즘을 통해 좋은 성능을 낸다. 먼저 최적화 측면에서 보면, 병렬 처리를 지원해 컴퓨팅계산에 있어 overheads를 상쇄시킴으로 성능을 향상시키고 'max_depth'를 정할 수 있어 가지치기가 가능하다는 장점이 있다. 또한 알고리즘 측면에서, regularization을 통해 과적합을 어느 정도 방지할 수 있고 sparsity를 인정하여 sparse pattern을 효율적으로 처리하며 CV가 빌트인 되어 있다는 장점이 있다.\n",
        "*   LGBM은 일반적인 GBM과 달리 leaf-wise tree growth 방식을 사용하기에 소요되는 시간과 메모리를 절약할 수 있다는 장점이 있다. 하지만 동시에 적은 데이터에 대해 overfitting이 일어나기 쉽다는 한계가 존재한다. 보통 10000개 이상인 데이터셋에 적합하다고 한다.\n",
        "*   현재 train 시킬 데이터셋의 크기가 약 7000이므로 그렇게 작다고 보긴 힘들지만 과적합 가능성이 존재한다고 볼 수 있다. 따라서 계산 시간이 조금 더 걸리겠지만 XGBoost를 선택했다.\n",
        "*   참고: https://statinknu.tistory.com/33\n",
        "\n",
        "\n",
        "\n"
      ],
      "metadata": {
        "id": "D1pI0vTBn7kX"
      }
    },
    {
      "cell_type": "code",
      "source": [
        "kf = KFold(n_splits = 5)\n",
        "\n",
        "f1score_xgb = []\n",
        "\n",
        "X_train = X.copy()\n",
        "Y_train = y.copy()\n",
        "\n",
        "model = XGBClassifier(random_state = 17, learning_rate = 0.01,\n",
        "                      n_estimators = 1000, early_stopping_rounds = 50)\n",
        "\n",
        "for train_idx, test_idx in kf.split(X_train) :\n",
        "    \n",
        "    x_train, x_validation = X_train.iloc[train_idx, :], X_train.iloc[test_idx, :]\n",
        "    y_train, y_validation = Y_train.iloc[train_idx], Y_train.iloc[test_idx]\n",
        "        \n",
        "    evals = [(x_validation, y_validation)]\n",
        "        \n",
        "    model.fit(x_train, y_train, eval_set = evals, verbose = 100)\n",
        "    y_pred = model.predict(x_validation)\n",
        "        \n",
        "    f1score_xgb.append(f1_score(y_validation, y_pred, average='micro'))"
      ],
      "metadata": {
        "colab": {
          "base_uri": "https://localhost:8080/"
        },
        "id": "6vqd5Bt7oYZe",
        "outputId": "3d2139a8-ebd6-4971-ee75-a4c64488638a"
      },
      "execution_count": 106,
      "outputs": [
        {
          "output_type": "stream",
          "name": "stdout",
          "text": [
            "[0]\tvalidation_0-error:0.248994\n",
            "[100]\tvalidation_0-error:0.228867\n",
            "[200]\tvalidation_0-error:0.222542\n",
            "[300]\tvalidation_0-error:0.222542\n",
            "[400]\tvalidation_0-error:0.220817\n",
            "[500]\tvalidation_0-error:0.221392\n",
            "[600]\tvalidation_0-error:0.223117\n",
            "[700]\tvalidation_0-error:0.221967\n",
            "[800]\tvalidation_0-error:0.221967\n",
            "[900]\tvalidation_0-error:0.221392\n",
            "[999]\tvalidation_0-error:0.219666\n",
            "[0]\tvalidation_0-error:0.281196\n",
            "[100]\tvalidation_0-error:0.224842\n",
            "[200]\tvalidation_0-error:0.228867\n",
            "[300]\tvalidation_0-error:0.224842\n",
            "[400]\tvalidation_0-error:0.223117\n",
            "[500]\tvalidation_0-error:0.221967\n",
            "[600]\tvalidation_0-error:0.219666\n",
            "[700]\tvalidation_0-error:0.219091\n",
            "[800]\tvalidation_0-error:0.219091\n",
            "[900]\tvalidation_0-error:0.215066\n",
            "[999]\tvalidation_0-error:0.215066\n",
            "[0]\tvalidation_0-error:0.263945\n",
            "[100]\tvalidation_0-error:0.254169\n",
            "[200]\tvalidation_0-error:0.242093\n",
            "[300]\tvalidation_0-error:0.224267\n",
            "[400]\tvalidation_0-error:0.217941\n",
            "[500]\tvalidation_0-error:0.212191\n",
            "[600]\tvalidation_0-error:0.211616\n",
            "[700]\tvalidation_0-error:0.213341\n",
            "[800]\tvalidation_0-error:0.213916\n",
            "[900]\tvalidation_0-error:0.213916\n",
            "[999]\tvalidation_0-error:0.212191\n",
            "[0]\tvalidation_0-error:0.234177\n",
            "[100]\tvalidation_0-error:0.224971\n",
            "[200]\tvalidation_0-error:0.203107\n",
            "[300]\tvalidation_0-error:0.201956\n",
            "[400]\tvalidation_0-error:0.197929\n",
            "[500]\tvalidation_0-error:0.196203\n",
            "[600]\tvalidation_0-error:0.194476\n",
            "[700]\tvalidation_0-error:0.193326\n",
            "[800]\tvalidation_0-error:0.193326\n",
            "[900]\tvalidation_0-error:0.1916\n",
            "[999]\tvalidation_0-error:0.188723\n",
            "[0]\tvalidation_0-error:0.232451\n",
            "[100]\tvalidation_0-error:0.214039\n",
            "[200]\tvalidation_0-error:0.195627\n",
            "[300]\tvalidation_0-error:0.201956\n",
            "[400]\tvalidation_0-error:0.201956\n",
            "[500]\tvalidation_0-error:0.197929\n",
            "[600]\tvalidation_0-error:0.196778\n",
            "[700]\tvalidation_0-error:0.198504\n",
            "[800]\tvalidation_0-error:0.196778\n",
            "[900]\tvalidation_0-error:0.196203\n",
            "[999]\tvalidation_0-error:0.195052\n"
          ]
        }
      ]
    },
    {
      "cell_type": "code",
      "source": [
        "print(\"XGBoost K-fold CV F1 score: %.6f\" % np.mean(f1score_xgb))"
      ],
      "metadata": {
        "colab": {
          "base_uri": "https://localhost:8080/"
        },
        "id": "YLhra9X0prt-",
        "outputId": "f212f96a-6d43-4c4b-bb80-263e9e0ebe0e"
      },
      "execution_count": 107,
      "outputs": [
        {
          "output_type": "stream",
          "name": "stdout",
          "text": [
            "XGBoost K-fold CV F1 score: 0.793860\n"
          ]
        }
      ]
    },
    {
      "cell_type": "markdown",
      "source": [
        "RandomForest\n",
        "\n",
        "\n",
        "*   랜덤포레스트는 boosting 모델과 마찬가지로 의사결정나무 모델을 기반으로 만들어진 모델이다. 이때 차이는 한개의 예측 모델에 대한 error를 줄이는 boosting 방식이 아닌 여러개의 의사결정나무를 이용한 bagging 방식을 사용한다는 것이다.\n",
        "\n"
      ],
      "metadata": {
        "id": "Ro5RbvXRpyQK"
      }
    },
    {
      "cell_type": "code",
      "source": [
        "kf = KFold(n_splits = 5)\n",
        "\n",
        "f1score_rf = []\n",
        "\n",
        "X_train = X.copy()\n",
        "Y_train = y.copy()\n",
        "\n",
        "model = RandomForestClassifier(random_state = 17, n_jobs = -1)\n",
        "\n",
        "for train_idx, test_idx in kf.split(X_train) :\n",
        "    \n",
        "    x_train, x_validation = X_train.iloc[train_idx, :], X_train.iloc[test_idx, :]\n",
        "    y_train, y_validation = Y_train.iloc[train_idx], Y_train.iloc[test_idx]\n",
        "        \n",
        "    evals = [(x_validation, y_validation)]\n",
        "        \n",
        "    model.fit(x_train, y_train)\n",
        "    y_pred = model.predict(x_validation)\n",
        "        \n",
        "    f1score_rf.append(f1_score(y_validation, y_pred, average='micro'))"
      ],
      "metadata": {
        "id": "UhhnfslCp7s_"
      },
      "execution_count": 111,
      "outputs": []
    },
    {
      "cell_type": "code",
      "source": [
        "print(\"RandomForest K-fold CV F1 score: %.6f\" % np.mean(f1score_rf))"
      ],
      "metadata": {
        "colab": {
          "base_uri": "https://localhost:8080/"
        },
        "id": "DU6ucPaLqUOO",
        "outputId": "328f4dab-708b-4a47-e9b9-81faf282cfb6"
      },
      "execution_count": 112,
      "outputs": [
        {
          "output_type": "stream",
          "name": "stdout",
          "text": [
            "RandomForest K-fold CV F1 score: 0.792018\n"
          ]
        }
      ]
    },
    {
      "cell_type": "markdown",
      "source": [
        "하이퍼파라미터 튜닝 전에는 두 모델의 성능이 크게 차이나지 않는 것을 확인할 수 있다."
      ],
      "metadata": {
        "id": "3o23mqsPqXZt"
      }
    },
    {
      "cell_type": "markdown",
      "source": [
        "3) 모델 하이퍼파라미터 튜닝"
      ],
      "metadata": {
        "id": "Mul6xVk-qY3x"
      }
    },
    {
      "cell_type": "markdown",
      "source": [
        "XGBoost (Random Search)\n",
        "\n",
        "\n",
        "1.   max_depth (기본값 : 6)\n",
        "*   트리의 최대 깊이 (0이면 깊이의 제한이 없음)\n",
        "*   과적합에 가장 민감하게 작용하는 파라미터 중 하나 (과적합 조절 용도로 사용함)\n",
        "2.   min_child_weight (기본값 : 1)\n",
        "*   leaf node에 포함되는 최소 관측치의 수\n",
        "*   작은 값을 가질수록 과적합 발생 가능성이 높음\n",
        "3.   subsample (기본값 : 1)\n",
        "*   학습 시 데이터 샘플링 비율\n",
        "*   일반적으로 0.5~1 사이의 값 사용\n",
        "4.   colsample_bytree (기본값 : 1)\n",
        "*   트리 생성에 필요한 feature의 샘플링에 사용\n",
        "*   feature가 많을 때 과적합 조절에 사용"
      ],
      "metadata": {
        "id": "c7E9Ir_8rLSw"
      }
    },
    {
      "cell_type": "code",
      "source": [
        "np.random.seed(10000)\n",
        "\n",
        "iterations = []\n",
        "max_depth = []\n",
        "min_child_weight = []\n",
        "subsample = []\n",
        "colsample_bytree = []\n",
        "F1_score = []\n",
        "\n",
        "for i in range(1,11) :\n",
        "    iterations.append(i)\n",
        "    max_depth.append(np.random.randint(4, 10))\n",
        "    min_child_weight.append(np.random.randint(4, 10))\n",
        "    subsample.append(np.random.uniform(0.5,1))\n",
        "    colsample_bytree.append(np.random.uniform(0.5,1))\n",
        "    F1_score.append(np.nan)\n",
        "    \n",
        "xgb_f1 = pd.DataFrame((zip(iterations, max_depth, min_child_weight, subsample, colsample_bytree, F1_score)), columns = ['iterations', 'max_depth', 'min_child_weight', 'subsample', 'colsample_bytree', 'F1_score'])\n",
        "\n",
        "xgb_f1"
      ],
      "metadata": {
        "colab": {
          "base_uri": "https://localhost:8080/",
          "height": 363
        },
        "id": "qgBYPK-dr59i",
        "outputId": "bf422b24-51f8-489d-b012-01fc7d191851"
      },
      "execution_count": 113,
      "outputs": [
        {
          "output_type": "execute_result",
          "data": {
            "text/plain": [
              "   iterations  max_depth  min_child_weight  subsample  colsample_bytree  \\\n",
              "0           1          8                 9       0.59              0.93   \n",
              "1           2          9                 4       0.79              0.56   \n",
              "2           3          4                 9       0.54              1.00   \n",
              "3           4          6                 7       0.56              0.86   \n",
              "4           5          4                 7       0.93              0.64   \n",
              "5           6          6                 8       0.53              0.96   \n",
              "6           7          9                 4       0.86              0.67   \n",
              "7           8          4                 8       0.79              0.90   \n",
              "8           9          5                 4       0.60              0.66   \n",
              "9          10          4                 8       0.69              0.73   \n",
              "\n",
              "   F1_score  \n",
              "0       NaN  \n",
              "1       NaN  \n",
              "2       NaN  \n",
              "3       NaN  \n",
              "4       NaN  \n",
              "5       NaN  \n",
              "6       NaN  \n",
              "7       NaN  \n",
              "8       NaN  \n",
              "9       NaN  "
            ],
            "text/html": [
              "\n",
              "  <div id=\"df-23c65b27-be2c-4c28-8c0d-dd15caf74b97\">\n",
              "    <div class=\"colab-df-container\">\n",
              "      <div>\n",
              "<style scoped>\n",
              "    .dataframe tbody tr th:only-of-type {\n",
              "        vertical-align: middle;\n",
              "    }\n",
              "\n",
              "    .dataframe tbody tr th {\n",
              "        vertical-align: top;\n",
              "    }\n",
              "\n",
              "    .dataframe thead th {\n",
              "        text-align: right;\n",
              "    }\n",
              "</style>\n",
              "<table border=\"1\" class=\"dataframe\">\n",
              "  <thead>\n",
              "    <tr style=\"text-align: right;\">\n",
              "      <th></th>\n",
              "      <th>iterations</th>\n",
              "      <th>max_depth</th>\n",
              "      <th>min_child_weight</th>\n",
              "      <th>subsample</th>\n",
              "      <th>colsample_bytree</th>\n",
              "      <th>F1_score</th>\n",
              "    </tr>\n",
              "  </thead>\n",
              "  <tbody>\n",
              "    <tr>\n",
              "      <th>0</th>\n",
              "      <td>1</td>\n",
              "      <td>8</td>\n",
              "      <td>9</td>\n",
              "      <td>0.59</td>\n",
              "      <td>0.93</td>\n",
              "      <td>NaN</td>\n",
              "    </tr>\n",
              "    <tr>\n",
              "      <th>1</th>\n",
              "      <td>2</td>\n",
              "      <td>9</td>\n",
              "      <td>4</td>\n",
              "      <td>0.79</td>\n",
              "      <td>0.56</td>\n",
              "      <td>NaN</td>\n",
              "    </tr>\n",
              "    <tr>\n",
              "      <th>2</th>\n",
              "      <td>3</td>\n",
              "      <td>4</td>\n",
              "      <td>9</td>\n",
              "      <td>0.54</td>\n",
              "      <td>1.00</td>\n",
              "      <td>NaN</td>\n",
              "    </tr>\n",
              "    <tr>\n",
              "      <th>3</th>\n",
              "      <td>4</td>\n",
              "      <td>6</td>\n",
              "      <td>7</td>\n",
              "      <td>0.56</td>\n",
              "      <td>0.86</td>\n",
              "      <td>NaN</td>\n",
              "    </tr>\n",
              "    <tr>\n",
              "      <th>4</th>\n",
              "      <td>5</td>\n",
              "      <td>4</td>\n",
              "      <td>7</td>\n",
              "      <td>0.93</td>\n",
              "      <td>0.64</td>\n",
              "      <td>NaN</td>\n",
              "    </tr>\n",
              "    <tr>\n",
              "      <th>5</th>\n",
              "      <td>6</td>\n",
              "      <td>6</td>\n",
              "      <td>8</td>\n",
              "      <td>0.53</td>\n",
              "      <td>0.96</td>\n",
              "      <td>NaN</td>\n",
              "    </tr>\n",
              "    <tr>\n",
              "      <th>6</th>\n",
              "      <td>7</td>\n",
              "      <td>9</td>\n",
              "      <td>4</td>\n",
              "      <td>0.86</td>\n",
              "      <td>0.67</td>\n",
              "      <td>NaN</td>\n",
              "    </tr>\n",
              "    <tr>\n",
              "      <th>7</th>\n",
              "      <td>8</td>\n",
              "      <td>4</td>\n",
              "      <td>8</td>\n",
              "      <td>0.79</td>\n",
              "      <td>0.90</td>\n",
              "      <td>NaN</td>\n",
              "    </tr>\n",
              "    <tr>\n",
              "      <th>8</th>\n",
              "      <td>9</td>\n",
              "      <td>5</td>\n",
              "      <td>4</td>\n",
              "      <td>0.60</td>\n",
              "      <td>0.66</td>\n",
              "      <td>NaN</td>\n",
              "    </tr>\n",
              "    <tr>\n",
              "      <th>9</th>\n",
              "      <td>10</td>\n",
              "      <td>4</td>\n",
              "      <td>8</td>\n",
              "      <td>0.69</td>\n",
              "      <td>0.73</td>\n",
              "      <td>NaN</td>\n",
              "    </tr>\n",
              "  </tbody>\n",
              "</table>\n",
              "</div>\n",
              "      <button class=\"colab-df-convert\" onclick=\"convertToInteractive('df-23c65b27-be2c-4c28-8c0d-dd15caf74b97')\"\n",
              "              title=\"Convert this dataframe to an interactive table.\"\n",
              "              style=\"display:none;\">\n",
              "        \n",
              "  <svg xmlns=\"http://www.w3.org/2000/svg\" height=\"24px\"viewBox=\"0 0 24 24\"\n",
              "       width=\"24px\">\n",
              "    <path d=\"M0 0h24v24H0V0z\" fill=\"none\"/>\n",
              "    <path d=\"M18.56 5.44l.94 2.06.94-2.06 2.06-.94-2.06-.94-.94-2.06-.94 2.06-2.06.94zm-11 1L8.5 8.5l.94-2.06 2.06-.94-2.06-.94L8.5 2.5l-.94 2.06-2.06.94zm10 10l.94 2.06.94-2.06 2.06-.94-2.06-.94-.94-2.06-.94 2.06-2.06.94z\"/><path d=\"M17.41 7.96l-1.37-1.37c-.4-.4-.92-.59-1.43-.59-.52 0-1.04.2-1.43.59L10.3 9.45l-7.72 7.72c-.78.78-.78 2.05 0 2.83L4 21.41c.39.39.9.59 1.41.59.51 0 1.02-.2 1.41-.59l7.78-7.78 2.81-2.81c.8-.78.8-2.07 0-2.86zM5.41 20L4 18.59l7.72-7.72 1.47 1.35L5.41 20z\"/>\n",
              "  </svg>\n",
              "      </button>\n",
              "      \n",
              "  <style>\n",
              "    .colab-df-container {\n",
              "      display:flex;\n",
              "      flex-wrap:wrap;\n",
              "      gap: 12px;\n",
              "    }\n",
              "\n",
              "    .colab-df-convert {\n",
              "      background-color: #E8F0FE;\n",
              "      border: none;\n",
              "      border-radius: 50%;\n",
              "      cursor: pointer;\n",
              "      display: none;\n",
              "      fill: #1967D2;\n",
              "      height: 32px;\n",
              "      padding: 0 0 0 0;\n",
              "      width: 32px;\n",
              "    }\n",
              "\n",
              "    .colab-df-convert:hover {\n",
              "      background-color: #E2EBFA;\n",
              "      box-shadow: 0px 1px 2px rgba(60, 64, 67, 0.3), 0px 1px 3px 1px rgba(60, 64, 67, 0.15);\n",
              "      fill: #174EA6;\n",
              "    }\n",
              "\n",
              "    [theme=dark] .colab-df-convert {\n",
              "      background-color: #3B4455;\n",
              "      fill: #D2E3FC;\n",
              "    }\n",
              "\n",
              "    [theme=dark] .colab-df-convert:hover {\n",
              "      background-color: #434B5C;\n",
              "      box-shadow: 0px 1px 3px 1px rgba(0, 0, 0, 0.15);\n",
              "      filter: drop-shadow(0px 1px 2px rgba(0, 0, 0, 0.3));\n",
              "      fill: #FFFFFF;\n",
              "    }\n",
              "  </style>\n",
              "\n",
              "      <script>\n",
              "        const buttonEl =\n",
              "          document.querySelector('#df-23c65b27-be2c-4c28-8c0d-dd15caf74b97 button.colab-df-convert');\n",
              "        buttonEl.style.display =\n",
              "          google.colab.kernel.accessAllowed ? 'block' : 'none';\n",
              "\n",
              "        async function convertToInteractive(key) {\n",
              "          const element = document.querySelector('#df-23c65b27-be2c-4c28-8c0d-dd15caf74b97');\n",
              "          const dataTable =\n",
              "            await google.colab.kernel.invokeFunction('convertToInteractive',\n",
              "                                                     [key], {});\n",
              "          if (!dataTable) return;\n",
              "\n",
              "          const docLinkHtml = 'Like what you see? Visit the ' +\n",
              "            '<a target=\"_blank\" href=https://colab.research.google.com/notebooks/data_table.ipynb>data table notebook</a>'\n",
              "            + ' to learn more about interactive tables.';\n",
              "          element.innerHTML = '';\n",
              "          dataTable['output_type'] = 'display_data';\n",
              "          await google.colab.output.renderOutput(dataTable, element);\n",
              "          const docLink = document.createElement('div');\n",
              "          docLink.innerHTML = docLinkHtml;\n",
              "          element.appendChild(docLink);\n",
              "        }\n",
              "      </script>\n",
              "    </div>\n",
              "  </div>\n",
              "  "
            ]
          },
          "metadata": {},
          "execution_count": 113
        }
      ]
    },
    {
      "cell_type": "code",
      "source": [
        "kf = KFold(n_splits = 5)\n",
        "\n",
        "features = train_onehot.copy()\n",
        "\n",
        "for i in range(10):\n",
        "    \n",
        "    model = XGBClassifier(random_state = 2930, learning_rate = 0.01, n_estimators = 1000, early_stopping_rounds = 50,\n",
        "                          max_depth=xgb_f1['max_depth'][i],\n",
        "                          min_child_weight=xgb_f1['min_child_weight'][i],\n",
        "                          subsample=xgb_f1['subsample'][i],\n",
        "                          colsample_bytree=xgb_f1['colsample_bytree'][i]\n",
        "                         )\n",
        "    \n",
        "    for train_idx, test_idx in kf.split(features) :\n",
        "        \n",
        "        X_train = features.drop(['Transported'],axis=1)\n",
        "        Y_train = features['Transported']\n",
        "        \n",
        "        x_train, x_validation = X_train.iloc[train_idx, :], X_train.iloc[test_idx, :]\n",
        "        y_train, y_validation = Y_train.iloc[train_idx], Y_train.iloc[test_idx]\n",
        "        \n",
        "        evals = [(x_validation, y_validation)]\n",
        "        \n",
        "        model.fit(x_train, y_train, eval_set = evals, verbose = 100)\n",
        "        y_pred = model.predict(x_validation)\n",
        "        \n",
        "        xgb_f1['F1_score'][i] = f1_score(y_validation, y_pred, average='micro')"
      ],
      "metadata": {
        "colab": {
          "base_uri": "https://localhost:8080/"
        },
        "id": "wzP5yVcEqg8L",
        "outputId": "7e638b3a-881b-40a3-a19e-b3adfb2e9817"
      },
      "execution_count": 115,
      "outputs": [
        {
          "output_type": "stream",
          "name": "stdout",
          "text": [
            "[0]\tvalidation_0-error:0.236343\n",
            "[100]\tvalidation_0-error:0.220242\n",
            "[200]\tvalidation_0-error:0.216216\n",
            "[300]\tvalidation_0-error:0.216216\n",
            "[400]\tvalidation_0-error:0.212191\n",
            "[500]\tvalidation_0-error:0.212191\n",
            "[600]\tvalidation_0-error:0.209316\n",
            "[700]\tvalidation_0-error:0.211616\n",
            "[800]\tvalidation_0-error:0.210466\n",
            "[900]\tvalidation_0-error:0.213916\n",
            "[999]\tvalidation_0-error:0.215641\n",
            "[0]\tvalidation_0-error:0.222542\n",
            "[100]\tvalidation_0-error:0.218516\n",
            "[200]\tvalidation_0-error:0.215641\n",
            "[300]\tvalidation_0-error:0.213916\n",
            "[400]\tvalidation_0-error:0.210466\n",
            "[500]\tvalidation_0-error:0.209316\n",
            "[600]\tvalidation_0-error:0.210466\n",
            "[700]\tvalidation_0-error:0.209891\n",
            "[800]\tvalidation_0-error:0.209316\n",
            "[900]\tvalidation_0-error:0.210466\n",
            "[999]\tvalidation_0-error:0.211616\n",
            "[0]\tvalidation_0-error:0.243243\n",
            "[100]\tvalidation_0-error:0.20414\n",
            "[200]\tvalidation_0-error:0.19609\n",
            "[300]\tvalidation_0-error:0.194365\n",
            "[400]\tvalidation_0-error:0.190339\n",
            "[500]\tvalidation_0-error:0.189764\n",
            "[600]\tvalidation_0-error:0.189764\n",
            "[700]\tvalidation_0-error:0.190339\n",
            "[800]\tvalidation_0-error:0.189764\n",
            "[900]\tvalidation_0-error:0.188614\n",
            "[999]\tvalidation_0-error:0.189189\n",
            "[0]\tvalidation_0-error:0.201381\n",
            "[100]\tvalidation_0-error:0.193901\n",
            "[200]\tvalidation_0-error:0.196778\n",
            "[300]\tvalidation_0-error:0.1916\n",
            "[400]\tvalidation_0-error:0.18412\n",
            "[500]\tvalidation_0-error:0.178941\n",
            "[600]\tvalidation_0-error:0.178941\n",
            "[700]\tvalidation_0-error:0.174914\n",
            "[800]\tvalidation_0-error:0.175489\n",
            "[900]\tvalidation_0-error:0.178941\n",
            "[999]\tvalidation_0-error:0.17664\n",
            "[0]\tvalidation_0-error:0.208861\n",
            "[100]\tvalidation_0-error:0.193326\n",
            "[200]\tvalidation_0-error:0.190449\n",
            "[300]\tvalidation_0-error:0.1916\n",
            "[400]\tvalidation_0-error:0.191024\n",
            "[500]\tvalidation_0-error:0.191024\n",
            "[600]\tvalidation_0-error:0.1916\n",
            "[700]\tvalidation_0-error:0.19275\n",
            "[800]\tvalidation_0-error:0.19275\n",
            "[900]\tvalidation_0-error:0.193901\n",
            "[999]\tvalidation_0-error:0.19275\n",
            "[0]\tvalidation_0-error:0.269695\n",
            "[100]\tvalidation_0-error:0.209891\n",
            "[200]\tvalidation_0-error:0.213341\n",
            "[300]\tvalidation_0-error:0.217941\n",
            "[400]\tvalidation_0-error:0.219091\n",
            "[500]\tvalidation_0-error:0.220817\n",
            "[600]\tvalidation_0-error:0.223692\n",
            "[700]\tvalidation_0-error:0.224267\n",
            "[800]\tvalidation_0-error:0.224267\n",
            "[900]\tvalidation_0-error:0.227142\n",
            "[999]\tvalidation_0-error:0.226567\n",
            "[0]\tvalidation_0-error:0.26567\n",
            "[100]\tvalidation_0-error:0.210466\n",
            "[200]\tvalidation_0-error:0.208741\n",
            "[300]\tvalidation_0-error:0.210466\n",
            "[400]\tvalidation_0-error:0.208166\n",
            "[500]\tvalidation_0-error:0.207016\n",
            "[600]\tvalidation_0-error:0.209891\n",
            "[700]\tvalidation_0-error:0.208166\n",
            "[800]\tvalidation_0-error:0.209891\n",
            "[900]\tvalidation_0-error:0.210466\n",
            "[999]\tvalidation_0-error:0.210466\n",
            "[0]\tvalidation_0-error:0.26912\n",
            "[100]\tvalidation_0-error:0.19839\n",
            "[200]\tvalidation_0-error:0.197815\n",
            "[300]\tvalidation_0-error:0.19609\n",
            "[400]\tvalidation_0-error:0.190914\n",
            "[500]\tvalidation_0-error:0.189764\n",
            "[600]\tvalidation_0-error:0.188039\n",
            "[700]\tvalidation_0-error:0.189189\n",
            "[800]\tvalidation_0-error:0.186889\n",
            "[900]\tvalidation_0-error:0.187464\n",
            "[999]\tvalidation_0-error:0.185739\n",
            "[0]\tvalidation_0-error:0.261795\n",
            "[100]\tvalidation_0-error:0.188147\n",
            "[200]\tvalidation_0-error:0.179517\n",
            "[300]\tvalidation_0-error:0.180092\n",
            "[400]\tvalidation_0-error:0.17664\n",
            "[500]\tvalidation_0-error:0.177791\n",
            "[600]\tvalidation_0-error:0.179517\n",
            "[700]\tvalidation_0-error:0.179517\n",
            "[800]\tvalidation_0-error:0.182394\n",
            "[900]\tvalidation_0-error:0.183544\n",
            "[999]\tvalidation_0-error:0.181243\n",
            "[0]\tvalidation_0-error:0.261795\n",
            "[100]\tvalidation_0-error:0.195627\n",
            "[200]\tvalidation_0-error:0.196203\n",
            "[300]\tvalidation_0-error:0.195052\n",
            "[400]\tvalidation_0-error:0.195627\n",
            "[500]\tvalidation_0-error:0.195627\n",
            "[600]\tvalidation_0-error:0.196778\n",
            "[700]\tvalidation_0-error:0.197929\n",
            "[800]\tvalidation_0-error:0.198504\n",
            "[900]\tvalidation_0-error:0.197929\n",
            "[999]\tvalidation_0-error:0.196203\n",
            "[0]\tvalidation_0-error:0.243243\n",
            "[100]\tvalidation_0-error:0.220242\n",
            "[200]\tvalidation_0-error:0.217366\n",
            "[300]\tvalidation_0-error:0.216791\n",
            "[400]\tvalidation_0-error:0.216791\n",
            "[500]\tvalidation_0-error:0.215066\n",
            "[600]\tvalidation_0-error:0.213916\n",
            "[700]\tvalidation_0-error:0.211041\n",
            "[800]\tvalidation_0-error:0.209316\n",
            "[900]\tvalidation_0-error:0.20644\n",
            "[999]\tvalidation_0-error:0.208166\n",
            "[0]\tvalidation_0-error:0.242093\n",
            "[100]\tvalidation_0-error:0.223692\n",
            "[200]\tvalidation_0-error:0.219666\n",
            "[300]\tvalidation_0-error:0.217941\n",
            "[400]\tvalidation_0-error:0.210466\n",
            "[500]\tvalidation_0-error:0.212766\n",
            "[600]\tvalidation_0-error:0.213341\n",
            "[700]\tvalidation_0-error:0.212191\n",
            "[800]\tvalidation_0-error:0.211616\n",
            "[900]\tvalidation_0-error:0.210466\n",
            "[999]\tvalidation_0-error:0.208741\n",
            "[0]\tvalidation_0-error:0.253019\n",
            "[100]\tvalidation_0-error:0.220817\n",
            "[200]\tvalidation_0-error:0.217366\n",
            "[300]\tvalidation_0-error:0.213916\n",
            "[400]\tvalidation_0-error:0.208741\n",
            "[500]\tvalidation_0-error:0.203565\n",
            "[600]\tvalidation_0-error:0.20184\n",
            "[700]\tvalidation_0-error:0.197815\n",
            "[800]\tvalidation_0-error:0.19724\n",
            "[900]\tvalidation_0-error:0.19494\n",
            "[999]\tvalidation_0-error:0.19954\n",
            "[0]\tvalidation_0-error:0.201381\n",
            "[100]\tvalidation_0-error:0.199655\n",
            "[200]\tvalidation_0-error:0.189873\n",
            "[300]\tvalidation_0-error:0.184695\n",
            "[400]\tvalidation_0-error:0.185846\n",
            "[500]\tvalidation_0-error:0.18527\n",
            "[600]\tvalidation_0-error:0.182394\n",
            "[700]\tvalidation_0-error:0.179517\n",
            "[800]\tvalidation_0-error:0.178941\n",
            "[900]\tvalidation_0-error:0.177791\n",
            "[999]\tvalidation_0-error:0.177791\n",
            "[0]\tvalidation_0-error:0.23015\n",
            "[100]\tvalidation_0-error:0.198504\n",
            "[200]\tvalidation_0-error:0.197929\n",
            "[300]\tvalidation_0-error:0.196778\n",
            "[400]\tvalidation_0-error:0.198504\n",
            "[500]\tvalidation_0-error:0.196203\n",
            "[600]\tvalidation_0-error:0.194476\n",
            "[700]\tvalidation_0-error:0.195052\n",
            "[800]\tvalidation_0-error:0.196778\n",
            "[900]\tvalidation_0-error:0.195627\n",
            "[999]\tvalidation_0-error:0.195052\n",
            "[0]\tvalidation_0-error:0.227142\n",
            "[100]\tvalidation_0-error:0.217941\n",
            "[200]\tvalidation_0-error:0.217941\n",
            "[300]\tvalidation_0-error:0.213341\n",
            "[400]\tvalidation_0-error:0.210466\n",
            "[500]\tvalidation_0-error:0.214491\n",
            "[600]\tvalidation_0-error:0.212766\n",
            "[700]\tvalidation_0-error:0.212191\n",
            "[800]\tvalidation_0-error:0.212191\n",
            "[900]\tvalidation_0-error:0.212766\n",
            "[999]\tvalidation_0-error:0.212766\n",
            "[0]\tvalidation_0-error:0.223692\n",
            "[100]\tvalidation_0-error:0.220242\n",
            "[200]\tvalidation_0-error:0.219666\n",
            "[300]\tvalidation_0-error:0.213341\n",
            "[400]\tvalidation_0-error:0.211041\n",
            "[500]\tvalidation_0-error:0.213341\n",
            "[600]\tvalidation_0-error:0.211616\n",
            "[700]\tvalidation_0-error:0.213916\n",
            "[800]\tvalidation_0-error:0.210466\n",
            "[900]\tvalidation_0-error:0.209891\n",
            "[999]\tvalidation_0-error:0.209891\n",
            "[0]\tvalidation_0-error:0.232892\n",
            "[100]\tvalidation_0-error:0.20414\n",
            "[200]\tvalidation_0-error:0.196665\n",
            "[300]\tvalidation_0-error:0.19954\n",
            "[400]\tvalidation_0-error:0.193214\n",
            "[500]\tvalidation_0-error:0.19379\n",
            "[600]\tvalidation_0-error:0.192064\n",
            "[700]\tvalidation_0-error:0.191489\n",
            "[800]\tvalidation_0-error:0.189764\n",
            "[900]\tvalidation_0-error:0.190914\n",
            "[999]\tvalidation_0-error:0.189764\n",
            "[0]\tvalidation_0-error:0.206559\n",
            "[100]\tvalidation_0-error:0.188147\n",
            "[200]\tvalidation_0-error:0.19275\n",
            "[300]\tvalidation_0-error:0.188147\n",
            "[400]\tvalidation_0-error:0.17664\n",
            "[500]\tvalidation_0-error:0.174914\n",
            "[600]\tvalidation_0-error:0.17664\n",
            "[700]\tvalidation_0-error:0.177215\n",
            "[800]\tvalidation_0-error:0.181243\n",
            "[900]\tvalidation_0-error:0.180667\n",
            "[999]\tvalidation_0-error:0.178366\n",
            "[0]\tvalidation_0-error:0.206559\n",
            "[100]\tvalidation_0-error:0.190449\n",
            "[200]\tvalidation_0-error:0.187572\n",
            "[300]\tvalidation_0-error:0.190449\n",
            "[400]\tvalidation_0-error:0.190449\n",
            "[500]\tvalidation_0-error:0.1916\n",
            "[600]\tvalidation_0-error:0.19275\n",
            "[700]\tvalidation_0-error:0.193901\n",
            "[800]\tvalidation_0-error:0.194476\n",
            "[900]\tvalidation_0-error:0.193901\n",
            "[999]\tvalidation_0-error:0.194476\n",
            "[0]\tvalidation_0-error:0.261645\n",
            "[100]\tvalidation_0-error:0.217941\n",
            "[200]\tvalidation_0-error:0.219666\n",
            "[300]\tvalidation_0-error:0.217366\n",
            "[400]\tvalidation_0-error:0.221392\n",
            "[500]\tvalidation_0-error:0.220242\n",
            "[600]\tvalidation_0-error:0.219091\n",
            "[700]\tvalidation_0-error:0.218516\n",
            "[800]\tvalidation_0-error:0.217941\n",
            "[900]\tvalidation_0-error:0.217941\n",
            "[999]\tvalidation_0-error:0.216791\n",
            "[0]\tvalidation_0-error:0.265095\n",
            "[100]\tvalidation_0-error:0.224267\n",
            "[200]\tvalidation_0-error:0.220242\n",
            "[300]\tvalidation_0-error:0.216216\n",
            "[400]\tvalidation_0-error:0.211616\n",
            "[500]\tvalidation_0-error:0.211041\n",
            "[600]\tvalidation_0-error:0.209316\n",
            "[700]\tvalidation_0-error:0.212766\n",
            "[800]\tvalidation_0-error:0.212191\n",
            "[900]\tvalidation_0-error:0.209316\n",
            "[999]\tvalidation_0-error:0.211041\n",
            "[0]\tvalidation_0-error:0.240368\n",
            "[100]\tvalidation_0-error:0.230017\n",
            "[200]\tvalidation_0-error:0.223692\n",
            "[300]\tvalidation_0-error:0.215641\n",
            "[400]\tvalidation_0-error:0.210466\n",
            "[500]\tvalidation_0-error:0.208741\n",
            "[600]\tvalidation_0-error:0.20299\n",
            "[700]\tvalidation_0-error:0.20299\n",
            "[800]\tvalidation_0-error:0.202415\n",
            "[900]\tvalidation_0-error:0.196665\n",
            "[999]\tvalidation_0-error:0.196665\n",
            "[0]\tvalidation_0-error:0.234753\n",
            "[100]\tvalidation_0-error:0.206559\n",
            "[200]\tvalidation_0-error:0.202532\n",
            "[300]\tvalidation_0-error:0.1916\n",
            "[400]\tvalidation_0-error:0.189298\n",
            "[500]\tvalidation_0-error:0.186997\n",
            "[600]\tvalidation_0-error:0.18412\n",
            "[700]\tvalidation_0-error:0.178941\n",
            "[800]\tvalidation_0-error:0.179517\n",
            "[900]\tvalidation_0-error:0.175489\n",
            "[999]\tvalidation_0-error:0.176064\n",
            "[0]\tvalidation_0-error:0.245685\n",
            "[100]\tvalidation_0-error:0.20023\n",
            "[200]\tvalidation_0-error:0.198504\n",
            "[300]\tvalidation_0-error:0.196203\n",
            "[400]\tvalidation_0-error:0.198504\n",
            "[500]\tvalidation_0-error:0.196203\n",
            "[600]\tvalidation_0-error:0.197929\n",
            "[700]\tvalidation_0-error:0.197353\n",
            "[800]\tvalidation_0-error:0.195627\n",
            "[900]\tvalidation_0-error:0.196203\n",
            "[999]\tvalidation_0-error:0.195052\n",
            "[0]\tvalidation_0-error:0.235193\n",
            "[100]\tvalidation_0-error:0.218516\n",
            "[200]\tvalidation_0-error:0.216791\n",
            "[300]\tvalidation_0-error:0.215641\n",
            "[400]\tvalidation_0-error:0.211616\n",
            "[500]\tvalidation_0-error:0.214491\n",
            "[600]\tvalidation_0-error:0.211616\n",
            "[700]\tvalidation_0-error:0.209316\n",
            "[800]\tvalidation_0-error:0.212191\n",
            "[900]\tvalidation_0-error:0.209891\n",
            "[999]\tvalidation_0-error:0.211041\n",
            "[0]\tvalidation_0-error:0.225417\n",
            "[100]\tvalidation_0-error:0.220817\n",
            "[200]\tvalidation_0-error:0.217366\n",
            "[300]\tvalidation_0-error:0.214491\n",
            "[400]\tvalidation_0-error:0.215066\n",
            "[500]\tvalidation_0-error:0.214491\n",
            "[600]\tvalidation_0-error:0.211616\n",
            "[700]\tvalidation_0-error:0.211616\n",
            "[800]\tvalidation_0-error:0.210466\n",
            "[900]\tvalidation_0-error:0.209891\n",
            "[999]\tvalidation_0-error:0.210466\n",
            "[0]\tvalidation_0-error:0.238643\n",
            "[100]\tvalidation_0-error:0.20299\n",
            "[200]\tvalidation_0-error:0.203565\n",
            "[300]\tvalidation_0-error:0.20069\n",
            "[400]\tvalidation_0-error:0.19839\n",
            "[500]\tvalidation_0-error:0.194365\n",
            "[600]\tvalidation_0-error:0.191489\n",
            "[700]\tvalidation_0-error:0.192639\n",
            "[800]\tvalidation_0-error:0.190339\n",
            "[900]\tvalidation_0-error:0.188039\n",
            "[999]\tvalidation_0-error:0.185739\n",
            "[0]\tvalidation_0-error:0.208285\n",
            "[100]\tvalidation_0-error:0.189873\n",
            "[200]\tvalidation_0-error:0.190449\n",
            "[300]\tvalidation_0-error:0.185846\n",
            "[400]\tvalidation_0-error:0.177215\n",
            "[500]\tvalidation_0-error:0.174914\n",
            "[600]\tvalidation_0-error:0.175489\n",
            "[700]\tvalidation_0-error:0.177791\n",
            "[800]\tvalidation_0-error:0.177791\n",
            "[900]\tvalidation_0-error:0.176064\n",
            "[999]\tvalidation_0-error:0.174914\n",
            "[0]\tvalidation_0-error:0.208285\n",
            "[100]\tvalidation_0-error:0.1916\n",
            "[200]\tvalidation_0-error:0.189873\n",
            "[300]\tvalidation_0-error:0.1916\n",
            "[400]\tvalidation_0-error:0.193326\n",
            "[500]\tvalidation_0-error:0.193901\n",
            "[600]\tvalidation_0-error:0.193901\n",
            "[700]\tvalidation_0-error:0.1916\n",
            "[800]\tvalidation_0-error:0.193326\n",
            "[900]\tvalidation_0-error:0.194476\n",
            "[999]\tvalidation_0-error:0.19275\n",
            "[0]\tvalidation_0-error:0.26452\n",
            "[100]\tvalidation_0-error:0.217941\n",
            "[200]\tvalidation_0-error:0.216216\n",
            "[300]\tvalidation_0-error:0.217941\n",
            "[400]\tvalidation_0-error:0.219666\n",
            "[500]\tvalidation_0-error:0.220242\n",
            "[600]\tvalidation_0-error:0.220817\n",
            "[700]\tvalidation_0-error:0.220817\n",
            "[800]\tvalidation_0-error:0.223117\n",
            "[900]\tvalidation_0-error:0.224267\n",
            "[999]\tvalidation_0-error:0.223692\n",
            "[0]\tvalidation_0-error:0.236343\n",
            "[100]\tvalidation_0-error:0.213916\n",
            "[200]\tvalidation_0-error:0.212766\n",
            "[300]\tvalidation_0-error:0.210466\n",
            "[400]\tvalidation_0-error:0.210466\n",
            "[500]\tvalidation_0-error:0.211041\n",
            "[600]\tvalidation_0-error:0.209316\n",
            "[700]\tvalidation_0-error:0.209316\n",
            "[800]\tvalidation_0-error:0.207591\n",
            "[900]\tvalidation_0-error:0.20644\n",
            "[999]\tvalidation_0-error:0.208741\n",
            "[0]\tvalidation_0-error:0.236918\n",
            "[100]\tvalidation_0-error:0.198965\n",
            "[200]\tvalidation_0-error:0.195515\n",
            "[300]\tvalidation_0-error:0.190914\n",
            "[400]\tvalidation_0-error:0.190339\n",
            "[500]\tvalidation_0-error:0.188614\n",
            "[600]\tvalidation_0-error:0.186314\n",
            "[700]\tvalidation_0-error:0.184014\n",
            "[800]\tvalidation_0-error:0.185164\n",
            "[900]\tvalidation_0-error:0.186314\n",
            "[999]\tvalidation_0-error:0.185739\n",
            "[0]\tvalidation_0-error:0.243383\n",
            "[100]\tvalidation_0-error:0.186997\n",
            "[200]\tvalidation_0-error:0.181818\n",
            "[300]\tvalidation_0-error:0.181818\n",
            "[400]\tvalidation_0-error:0.180667\n",
            "[500]\tvalidation_0-error:0.178366\n",
            "[600]\tvalidation_0-error:0.181243\n",
            "[700]\tvalidation_0-error:0.181818\n",
            "[800]\tvalidation_0-error:0.182969\n",
            "[900]\tvalidation_0-error:0.183544\n",
            "[999]\tvalidation_0-error:0.186997\n",
            "[0]\tvalidation_0-error:0.206559\n",
            "[100]\tvalidation_0-error:0.195627\n",
            "[200]\tvalidation_0-error:0.196203\n",
            "[300]\tvalidation_0-error:0.196778\n",
            "[400]\tvalidation_0-error:0.197353\n",
            "[500]\tvalidation_0-error:0.195052\n",
            "[600]\tvalidation_0-error:0.196203\n",
            "[700]\tvalidation_0-error:0.196203\n",
            "[800]\tvalidation_0-error:0.196778\n",
            "[900]\tvalidation_0-error:0.196778\n",
            "[999]\tvalidation_0-error:0.197929\n",
            "[0]\tvalidation_0-error:0.240368\n",
            "[100]\tvalidation_0-error:0.223117\n",
            "[200]\tvalidation_0-error:0.222542\n",
            "[300]\tvalidation_0-error:0.224267\n",
            "[400]\tvalidation_0-error:0.222542\n",
            "[500]\tvalidation_0-error:0.220242\n",
            "[600]\tvalidation_0-error:0.214491\n",
            "[700]\tvalidation_0-error:0.214491\n",
            "[800]\tvalidation_0-error:0.209891\n",
            "[900]\tvalidation_0-error:0.209891\n",
            "[999]\tvalidation_0-error:0.208166\n",
            "[0]\tvalidation_0-error:0.241518\n",
            "[100]\tvalidation_0-error:0.223117\n",
            "[200]\tvalidation_0-error:0.221392\n",
            "[300]\tvalidation_0-error:0.217366\n",
            "[400]\tvalidation_0-error:0.210466\n",
            "[500]\tvalidation_0-error:0.208741\n",
            "[600]\tvalidation_0-error:0.207591\n",
            "[700]\tvalidation_0-error:0.208741\n",
            "[800]\tvalidation_0-error:0.209316\n",
            "[900]\tvalidation_0-error:0.208741\n",
            "[999]\tvalidation_0-error:0.208741\n",
            "[0]\tvalidation_0-error:0.251294\n",
            "[100]\tvalidation_0-error:0.216216\n",
            "[200]\tvalidation_0-error:0.212766\n",
            "[300]\tvalidation_0-error:0.209316\n",
            "[400]\tvalidation_0-error:0.20644\n",
            "[500]\tvalidation_0-error:0.202415\n",
            "[600]\tvalidation_0-error:0.20184\n",
            "[700]\tvalidation_0-error:0.19954\n",
            "[800]\tvalidation_0-error:0.19379\n",
            "[900]\tvalidation_0-error:0.190914\n",
            "[999]\tvalidation_0-error:0.190339\n",
            "[0]\tvalidation_0-error:0.208861\n",
            "[100]\tvalidation_0-error:0.197929\n",
            "[200]\tvalidation_0-error:0.197353\n",
            "[300]\tvalidation_0-error:0.188723\n",
            "[400]\tvalidation_0-error:0.18412\n",
            "[500]\tvalidation_0-error:0.180092\n",
            "[600]\tvalidation_0-error:0.181818\n",
            "[700]\tvalidation_0-error:0.178941\n",
            "[800]\tvalidation_0-error:0.180092\n",
            "[900]\tvalidation_0-error:0.178941\n",
            "[999]\tvalidation_0-error:0.179517\n",
            "[0]\tvalidation_0-error:0.223245\n",
            "[100]\tvalidation_0-error:0.198504\n",
            "[200]\tvalidation_0-error:0.198504\n",
            "[300]\tvalidation_0-error:0.199655\n",
            "[400]\tvalidation_0-error:0.196778\n",
            "[500]\tvalidation_0-error:0.195052\n",
            "[600]\tvalidation_0-error:0.1916\n",
            "[700]\tvalidation_0-error:0.193901\n",
            "[800]\tvalidation_0-error:0.194476\n",
            "[900]\tvalidation_0-error:0.194476\n",
            "[999]\tvalidation_0-error:0.19275\n",
            "[0]\tvalidation_0-error:0.231742\n",
            "[100]\tvalidation_0-error:0.217941\n",
            "[200]\tvalidation_0-error:0.216791\n",
            "[300]\tvalidation_0-error:0.217366\n",
            "[400]\tvalidation_0-error:0.214491\n",
            "[500]\tvalidation_0-error:0.212191\n",
            "[600]\tvalidation_0-error:0.211616\n",
            "[700]\tvalidation_0-error:0.209891\n",
            "[800]\tvalidation_0-error:0.208741\n",
            "[900]\tvalidation_0-error:0.205865\n",
            "[999]\tvalidation_0-error:0.209316\n",
            "[0]\tvalidation_0-error:0.239218\n",
            "[100]\tvalidation_0-error:0.217941\n",
            "[200]\tvalidation_0-error:0.212766\n",
            "[300]\tvalidation_0-error:0.212191\n",
            "[400]\tvalidation_0-error:0.210466\n",
            "[500]\tvalidation_0-error:0.207016\n",
            "[600]\tvalidation_0-error:0.211041\n",
            "[700]\tvalidation_0-error:0.20644\n",
            "[800]\tvalidation_0-error:0.205865\n",
            "[900]\tvalidation_0-error:0.208166\n",
            "[999]\tvalidation_0-error:0.207016\n",
            "[0]\tvalidation_0-error:0.242093\n",
            "[100]\tvalidation_0-error:0.209316\n",
            "[200]\tvalidation_0-error:0.202415\n",
            "[300]\tvalidation_0-error:0.19954\n",
            "[400]\tvalidation_0-error:0.19954\n",
            "[500]\tvalidation_0-error:0.194365\n",
            "[600]\tvalidation_0-error:0.190914\n",
            "[700]\tvalidation_0-error:0.189764\n",
            "[800]\tvalidation_0-error:0.188039\n",
            "[900]\tvalidation_0-error:0.188614\n",
            "[999]\tvalidation_0-error:0.188039\n",
            "[0]\tvalidation_0-error:0.208285\n",
            "[100]\tvalidation_0-error:0.202532\n",
            "[200]\tvalidation_0-error:0.188147\n",
            "[300]\tvalidation_0-error:0.181818\n",
            "[400]\tvalidation_0-error:0.177215\n",
            "[500]\tvalidation_0-error:0.175489\n",
            "[600]\tvalidation_0-error:0.174914\n",
            "[700]\tvalidation_0-error:0.174338\n",
            "[800]\tvalidation_0-error:0.177215\n",
            "[900]\tvalidation_0-error:0.178941\n",
            "[999]\tvalidation_0-error:0.181243\n",
            "[0]\tvalidation_0-error:0.218642\n",
            "[100]\tvalidation_0-error:0.196203\n",
            "[200]\tvalidation_0-error:0.1916\n",
            "[300]\tvalidation_0-error:0.1916\n",
            "[400]\tvalidation_0-error:0.192175\n",
            "[500]\tvalidation_0-error:0.193326\n",
            "[600]\tvalidation_0-error:0.194476\n",
            "[700]\tvalidation_0-error:0.193326\n",
            "[800]\tvalidation_0-error:0.193326\n",
            "[900]\tvalidation_0-error:0.196778\n",
            "[999]\tvalidation_0-error:0.195052\n",
            "[0]\tvalidation_0-error:0.250719\n",
            "[100]\tvalidation_0-error:0.216216\n",
            "[200]\tvalidation_0-error:0.217366\n",
            "[300]\tvalidation_0-error:0.219666\n",
            "[400]\tvalidation_0-error:0.219666\n",
            "[500]\tvalidation_0-error:0.217366\n",
            "[600]\tvalidation_0-error:0.217941\n",
            "[700]\tvalidation_0-error:0.217366\n",
            "[800]\tvalidation_0-error:0.215641\n",
            "[900]\tvalidation_0-error:0.212191\n",
            "[999]\tvalidation_0-error:0.210466\n",
            "[0]\tvalidation_0-error:0.254169\n",
            "[100]\tvalidation_0-error:0.223692\n",
            "[200]\tvalidation_0-error:0.219666\n",
            "[300]\tvalidation_0-error:0.216216\n",
            "[400]\tvalidation_0-error:0.209316\n",
            "[500]\tvalidation_0-error:0.211616\n",
            "[600]\tvalidation_0-error:0.212766\n",
            "[700]\tvalidation_0-error:0.212191\n",
            "[800]\tvalidation_0-error:0.207591\n",
            "[900]\tvalidation_0-error:0.207591\n",
            "[999]\tvalidation_0-error:0.211041\n",
            "[0]\tvalidation_0-error:0.259344\n",
            "[100]\tvalidation_0-error:0.217941\n",
            "[200]\tvalidation_0-error:0.215641\n",
            "[300]\tvalidation_0-error:0.212766\n",
            "[400]\tvalidation_0-error:0.208166\n",
            "[500]\tvalidation_0-error:0.203565\n",
            "[600]\tvalidation_0-error:0.202415\n",
            "[700]\tvalidation_0-error:0.20184\n",
            "[800]\tvalidation_0-error:0.195515\n",
            "[900]\tvalidation_0-error:0.19494\n",
            "[999]\tvalidation_0-error:0.193214\n",
            "[0]\tvalidation_0-error:0.234177\n",
            "[100]\tvalidation_0-error:0.199079\n",
            "[200]\tvalidation_0-error:0.196778\n",
            "[300]\tvalidation_0-error:0.189298\n",
            "[400]\tvalidation_0-error:0.185846\n",
            "[500]\tvalidation_0-error:0.18412\n",
            "[600]\tvalidation_0-error:0.178941\n",
            "[700]\tvalidation_0-error:0.178366\n",
            "[800]\tvalidation_0-error:0.175489\n",
            "[900]\tvalidation_0-error:0.173763\n",
            "[999]\tvalidation_0-error:0.177215\n",
            "[0]\tvalidation_0-error:0.226697\n",
            "[100]\tvalidation_0-error:0.197353\n",
            "[200]\tvalidation_0-error:0.197929\n",
            "[300]\tvalidation_0-error:0.195052\n",
            "[400]\tvalidation_0-error:0.194476\n",
            "[500]\tvalidation_0-error:0.195627\n",
            "[600]\tvalidation_0-error:0.191024\n",
            "[700]\tvalidation_0-error:0.193901\n",
            "[800]\tvalidation_0-error:0.196778\n",
            "[900]\tvalidation_0-error:0.196778\n",
            "[999]\tvalidation_0-error:0.195052\n"
          ]
        }
      ]
    },
    {
      "cell_type": "code",
      "source": [
        "xgb_f1"
      ],
      "metadata": {
        "colab": {
          "base_uri": "https://localhost:8080/",
          "height": 363
        },
        "id": "AUjhYAeNvjaO",
        "outputId": "06d30c8c-7168-423b-c085-153eb1e703f6"
      },
      "execution_count": 116,
      "outputs": [
        {
          "output_type": "execute_result",
          "data": {
            "text/plain": [
              "   iterations  max_depth  min_child_weight  subsample  colsample_bytree  \\\n",
              "0           1          8                 9       0.59              0.93   \n",
              "1           2          9                 4       0.79              0.56   \n",
              "2           3          4                 9       0.54              1.00   \n",
              "3           4          6                 7       0.56              0.86   \n",
              "4           5          4                 7       0.93              0.64   \n",
              "5           6          6                 8       0.53              0.96   \n",
              "6           7          9                 4       0.86              0.67   \n",
              "7           8          4                 8       0.79              0.90   \n",
              "8           9          5                 4       0.60              0.66   \n",
              "9          10          4                 8       0.69              0.73   \n",
              "\n",
              "   F1_score  \n",
              "0      0.81  \n",
              "1      0.80  \n",
              "2      0.80  \n",
              "3      0.81  \n",
              "4      0.80  \n",
              "5      0.81  \n",
              "6      0.80  \n",
              "7      0.81  \n",
              "8      0.80  \n",
              "9      0.80  "
            ],
            "text/html": [
              "\n",
              "  <div id=\"df-448ce4ad-7985-4cd1-8ab1-1dba0ecbabe7\">\n",
              "    <div class=\"colab-df-container\">\n",
              "      <div>\n",
              "<style scoped>\n",
              "    .dataframe tbody tr th:only-of-type {\n",
              "        vertical-align: middle;\n",
              "    }\n",
              "\n",
              "    .dataframe tbody tr th {\n",
              "        vertical-align: top;\n",
              "    }\n",
              "\n",
              "    .dataframe thead th {\n",
              "        text-align: right;\n",
              "    }\n",
              "</style>\n",
              "<table border=\"1\" class=\"dataframe\">\n",
              "  <thead>\n",
              "    <tr style=\"text-align: right;\">\n",
              "      <th></th>\n",
              "      <th>iterations</th>\n",
              "      <th>max_depth</th>\n",
              "      <th>min_child_weight</th>\n",
              "      <th>subsample</th>\n",
              "      <th>colsample_bytree</th>\n",
              "      <th>F1_score</th>\n",
              "    </tr>\n",
              "  </thead>\n",
              "  <tbody>\n",
              "    <tr>\n",
              "      <th>0</th>\n",
              "      <td>1</td>\n",
              "      <td>8</td>\n",
              "      <td>9</td>\n",
              "      <td>0.59</td>\n",
              "      <td>0.93</td>\n",
              "      <td>0.81</td>\n",
              "    </tr>\n",
              "    <tr>\n",
              "      <th>1</th>\n",
              "      <td>2</td>\n",
              "      <td>9</td>\n",
              "      <td>4</td>\n",
              "      <td>0.79</td>\n",
              "      <td>0.56</td>\n",
              "      <td>0.80</td>\n",
              "    </tr>\n",
              "    <tr>\n",
              "      <th>2</th>\n",
              "      <td>3</td>\n",
              "      <td>4</td>\n",
              "      <td>9</td>\n",
              "      <td>0.54</td>\n",
              "      <td>1.00</td>\n",
              "      <td>0.80</td>\n",
              "    </tr>\n",
              "    <tr>\n",
              "      <th>3</th>\n",
              "      <td>4</td>\n",
              "      <td>6</td>\n",
              "      <td>7</td>\n",
              "      <td>0.56</td>\n",
              "      <td>0.86</td>\n",
              "      <td>0.81</td>\n",
              "    </tr>\n",
              "    <tr>\n",
              "      <th>4</th>\n",
              "      <td>5</td>\n",
              "      <td>4</td>\n",
              "      <td>7</td>\n",
              "      <td>0.93</td>\n",
              "      <td>0.64</td>\n",
              "      <td>0.80</td>\n",
              "    </tr>\n",
              "    <tr>\n",
              "      <th>5</th>\n",
              "      <td>6</td>\n",
              "      <td>6</td>\n",
              "      <td>8</td>\n",
              "      <td>0.53</td>\n",
              "      <td>0.96</td>\n",
              "      <td>0.81</td>\n",
              "    </tr>\n",
              "    <tr>\n",
              "      <th>6</th>\n",
              "      <td>7</td>\n",
              "      <td>9</td>\n",
              "      <td>4</td>\n",
              "      <td>0.86</td>\n",
              "      <td>0.67</td>\n",
              "      <td>0.80</td>\n",
              "    </tr>\n",
              "    <tr>\n",
              "      <th>7</th>\n",
              "      <td>8</td>\n",
              "      <td>4</td>\n",
              "      <td>8</td>\n",
              "      <td>0.79</td>\n",
              "      <td>0.90</td>\n",
              "      <td>0.81</td>\n",
              "    </tr>\n",
              "    <tr>\n",
              "      <th>8</th>\n",
              "      <td>9</td>\n",
              "      <td>5</td>\n",
              "      <td>4</td>\n",
              "      <td>0.60</td>\n",
              "      <td>0.66</td>\n",
              "      <td>0.80</td>\n",
              "    </tr>\n",
              "    <tr>\n",
              "      <th>9</th>\n",
              "      <td>10</td>\n",
              "      <td>4</td>\n",
              "      <td>8</td>\n",
              "      <td>0.69</td>\n",
              "      <td>0.73</td>\n",
              "      <td>0.80</td>\n",
              "    </tr>\n",
              "  </tbody>\n",
              "</table>\n",
              "</div>\n",
              "      <button class=\"colab-df-convert\" onclick=\"convertToInteractive('df-448ce4ad-7985-4cd1-8ab1-1dba0ecbabe7')\"\n",
              "              title=\"Convert this dataframe to an interactive table.\"\n",
              "              style=\"display:none;\">\n",
              "        \n",
              "  <svg xmlns=\"http://www.w3.org/2000/svg\" height=\"24px\"viewBox=\"0 0 24 24\"\n",
              "       width=\"24px\">\n",
              "    <path d=\"M0 0h24v24H0V0z\" fill=\"none\"/>\n",
              "    <path d=\"M18.56 5.44l.94 2.06.94-2.06 2.06-.94-2.06-.94-.94-2.06-.94 2.06-2.06.94zm-11 1L8.5 8.5l.94-2.06 2.06-.94-2.06-.94L8.5 2.5l-.94 2.06-2.06.94zm10 10l.94 2.06.94-2.06 2.06-.94-2.06-.94-.94-2.06-.94 2.06-2.06.94z\"/><path d=\"M17.41 7.96l-1.37-1.37c-.4-.4-.92-.59-1.43-.59-.52 0-1.04.2-1.43.59L10.3 9.45l-7.72 7.72c-.78.78-.78 2.05 0 2.83L4 21.41c.39.39.9.59 1.41.59.51 0 1.02-.2 1.41-.59l7.78-7.78 2.81-2.81c.8-.78.8-2.07 0-2.86zM5.41 20L4 18.59l7.72-7.72 1.47 1.35L5.41 20z\"/>\n",
              "  </svg>\n",
              "      </button>\n",
              "      \n",
              "  <style>\n",
              "    .colab-df-container {\n",
              "      display:flex;\n",
              "      flex-wrap:wrap;\n",
              "      gap: 12px;\n",
              "    }\n",
              "\n",
              "    .colab-df-convert {\n",
              "      background-color: #E8F0FE;\n",
              "      border: none;\n",
              "      border-radius: 50%;\n",
              "      cursor: pointer;\n",
              "      display: none;\n",
              "      fill: #1967D2;\n",
              "      height: 32px;\n",
              "      padding: 0 0 0 0;\n",
              "      width: 32px;\n",
              "    }\n",
              "\n",
              "    .colab-df-convert:hover {\n",
              "      background-color: #E2EBFA;\n",
              "      box-shadow: 0px 1px 2px rgba(60, 64, 67, 0.3), 0px 1px 3px 1px rgba(60, 64, 67, 0.15);\n",
              "      fill: #174EA6;\n",
              "    }\n",
              "\n",
              "    [theme=dark] .colab-df-convert {\n",
              "      background-color: #3B4455;\n",
              "      fill: #D2E3FC;\n",
              "    }\n",
              "\n",
              "    [theme=dark] .colab-df-convert:hover {\n",
              "      background-color: #434B5C;\n",
              "      box-shadow: 0px 1px 3px 1px rgba(0, 0, 0, 0.15);\n",
              "      filter: drop-shadow(0px 1px 2px rgba(0, 0, 0, 0.3));\n",
              "      fill: #FFFFFF;\n",
              "    }\n",
              "  </style>\n",
              "\n",
              "      <script>\n",
              "        const buttonEl =\n",
              "          document.querySelector('#df-448ce4ad-7985-4cd1-8ab1-1dba0ecbabe7 button.colab-df-convert');\n",
              "        buttonEl.style.display =\n",
              "          google.colab.kernel.accessAllowed ? 'block' : 'none';\n",
              "\n",
              "        async function convertToInteractive(key) {\n",
              "          const element = document.querySelector('#df-448ce4ad-7985-4cd1-8ab1-1dba0ecbabe7');\n",
              "          const dataTable =\n",
              "            await google.colab.kernel.invokeFunction('convertToInteractive',\n",
              "                                                     [key], {});\n",
              "          if (!dataTable) return;\n",
              "\n",
              "          const docLinkHtml = 'Like what you see? Visit the ' +\n",
              "            '<a target=\"_blank\" href=https://colab.research.google.com/notebooks/data_table.ipynb>data table notebook</a>'\n",
              "            + ' to learn more about interactive tables.';\n",
              "          element.innerHTML = '';\n",
              "          dataTable['output_type'] = 'display_data';\n",
              "          await google.colab.output.renderOutput(dataTable, element);\n",
              "          const docLink = document.createElement('div');\n",
              "          docLink.innerHTML = docLinkHtml;\n",
              "          element.appendChild(docLink);\n",
              "        }\n",
              "      </script>\n",
              "    </div>\n",
              "  </div>\n",
              "  "
            ]
          },
          "metadata": {},
          "execution_count": 116
        }
      ]
    },
    {
      "cell_type": "code",
      "source": [
        "print(\"XGBoost 최적의 하이퍼 파라미터\")\n",
        "print(xgb_f1.iloc[xgb_f1[\"F1_score\"].idxmax(),1:-1])\n",
        "print(\"XGBoost K-fold CV F1 score: %.6f\" % xgb_f1[\"F1_score\"].max())"
      ],
      "metadata": {
        "colab": {
          "base_uri": "https://localhost:8080/"
        },
        "id": "IpMzjao2voc5",
        "outputId": "0fd0d47b-1902-43a1-f1ae-287119388b8a"
      },
      "execution_count": 117,
      "outputs": [
        {
          "output_type": "stream",
          "name": "stdout",
          "text": [
            "XGBoost 최적의 하이퍼 파라미터\n",
            "max_depth          8.00\n",
            "min_child_weight   9.00\n",
            "subsample          0.59\n",
            "colsample_bytree   0.93\n",
            "Name: 0, dtype: float64\n",
            "XGBoost K-fold CV F1 score: 0.807250\n"
          ]
        }
      ]
    },
    {
      "cell_type": "markdown",
      "source": [
        "하이퍼파라미터 튜닝 이전 XGBoost의 F1 score: 0.793860\n",
        "\n",
        "하이퍼파라미터 튜닝 이후 XGBoost의 F1 score: 0.807250"
      ],
      "metadata": {
        "id": "_6-GxVpNvvJp"
      }
    },
    {
      "cell_type": "markdown",
      "source": [
        "RandomForest (Grid Search)\n",
        "1.   n_estimators (기본값: 10)\n",
        "*   결정 트리의 개수\n",
        "*   개수를 계속해서 늘리면 성능이 좋아지는 것 대비 시간이 오래 걸림림\n",
        "2.   min_samples_split (기본값: 2)\n",
        "*   노드를 분할하기 위한 최소한의 샘플 데이터 수 (과적합 방지)\n",
        "3.   min_samples_leaf\n",
        "*   leaf node가 되기 위해 필요한 최소한의 샘플 데이터 수 (과적합 방지)\n",
        "4.   max_features (기본값: auto)\n",
        "*   최적의 분할을 위해 고려할 최대 feature 개수\n",
        "5.   max_depth\n",
        "*   트리의 최대 깊이\n",
        "*   깊이가 너무 깊어지면, 과적합될 수 있음"
      ],
      "metadata": {
        "id": "M4zXjMr0v_zd"
      }
    },
    {
      "cell_type": "code",
      "source": [
        "params ={\n",
        "    'n_estimators':[300, 400, 500],\n",
        "    'max_depth':[6,8,10,12],\n",
        "    'min_samples_leaf':[8,12,18],\n",
        "    'min_samples_split':[8,16,20]\n",
        "}"
      ],
      "metadata": {
        "id": "Ha7ull6tvyAK"
      },
      "execution_count": 119,
      "outputs": []
    },
    {
      "cell_type": "code",
      "source": [
        "rf = RandomForestClassifier(random_state=0, n_jobs=-1)\n",
        "grid_cv = GridSearchCV(rf, param_grid=params, cv=5, n_jobs=-1,\n",
        "                      scoring=make_scorer(f1_score, average='micro'))\n",
        "grid_cv.fit(X,y)"
      ],
      "metadata": {
        "colab": {
          "base_uri": "https://localhost:8080/"
        },
        "id": "valvMgh2wt9J",
        "outputId": "876f2a71-c746-4f58-af3b-ad8f3ec87e8d"
      },
      "execution_count": 120,
      "outputs": [
        {
          "output_type": "execute_result",
          "data": {
            "text/plain": [
              "GridSearchCV(cv=5, estimator=RandomForestClassifier(n_jobs=-1, random_state=0),\n",
              "             n_jobs=-1,\n",
              "             param_grid={'max_depth': [6, 8, 10, 12],\n",
              "                         'min_samples_leaf': [8, 12, 18],\n",
              "                         'min_samples_split': [8, 16, 20],\n",
              "                         'n_estimators': [300, 400, 500]},\n",
              "             scoring=make_scorer(f1_score, average=micro))"
            ]
          },
          "metadata": {},
          "execution_count": 120
        }
      ]
    },
    {
      "cell_type": "code",
      "source": [
        "print('best 하이퍼파라미터: ', grid_cv.best_params_)\n",
        "print('best F1 score: {:.6f}'.format(grid_cv.best_score_))"
      ],
      "metadata": {
        "colab": {
          "base_uri": "https://localhost:8080/"
        },
        "id": "q4l4Ik980oJt",
        "outputId": "4a12834a-159f-4287-9dff-7d65d73be584"
      },
      "execution_count": 121,
      "outputs": [
        {
          "output_type": "stream",
          "name": "stdout",
          "text": [
            "best 하이퍼파라미터:  {'max_depth': 12, 'min_samples_leaf': 8, 'min_samples_split': 20, 'n_estimators': 500}\n",
            "best F1 score: 0.792826\n"
          ]
        }
      ]
    },
    {
      "cell_type": "markdown",
      "source": [
        "하이퍼파라미터 튜닝 이전 RandomForest의 F1 score: 0.792018\n",
        "\n",
        "하이퍼파라미터 튜닝 이후 RandomForest의 F1 score: 0.792826"
      ],
      "metadata": {
        "id": "Rd_WBIUH0tsS"
      }
    },
    {
      "cell_type": "markdown",
      "source": [
        "4) 모델을 통한 테스트 데이터 예측"
      ],
      "metadata": {
        "id": "q-T-eyfp06Y9"
      }
    },
    {
      "cell_type": "code",
      "source": [
        "X_train, X_valid, y_train, y_valid = train_test_split(X, y, test_size=0.2, random_state=seed)"
      ],
      "metadata": {
        "id": "yFVVaZ6K0_T5"
      },
      "execution_count": 122,
      "outputs": []
    },
    {
      "cell_type": "code",
      "source": [
        "final_xgb = XGBClassifier(random_state = 17, learning_rate = 0.01,\n",
        "                      n_estimators = 1000, early_stopping_rounds = 50,\n",
        "                      max_depth=xgb_f1['max_depth'][xgb_f1[\"F1_score\"].idxmax()],\n",
        "                      min_child_weight=xgb_f1['min_child_weight'][xgb_f1[\"F1_score\"].idxmax()],\n",
        "                      subsample=xgb_f1['subsample'][xgb_f1[\"F1_score\"].idxmax()],\n",
        "                      colsample_bytree=xgb_f1['colsample_bytree'][xgb_f1[\"F1_score\"].idxmax()])\n",
        "\n",
        "evals = [(X_valid, y_valid)]\n",
        "\n",
        "final_xgb.fit(X_train, y_train, eval_set = evals, verbose = 100)"
      ],
      "metadata": {
        "colab": {
          "base_uri": "https://localhost:8080/"
        },
        "id": "6x5A-DG91G6L",
        "outputId": "9230a18c-0763-4aec-ef25-1812ddcf461d"
      },
      "execution_count": 123,
      "outputs": [
        {
          "output_type": "stream",
          "name": "stdout",
          "text": [
            "[0]\tvalidation_0-error:0.221392\n",
            "[100]\tvalidation_0-error:0.185739\n",
            "[200]\tvalidation_0-error:0.181139\n",
            "[300]\tvalidation_0-error:0.179413\n",
            "[400]\tvalidation_0-error:0.183439\n",
            "[500]\tvalidation_0-error:0.185739\n",
            "[600]\tvalidation_0-error:0.185739\n",
            "[700]\tvalidation_0-error:0.184589\n",
            "[800]\tvalidation_0-error:0.184589\n",
            "[900]\tvalidation_0-error:0.185739\n",
            "[999]\tvalidation_0-error:0.188039\n"
          ]
        },
        {
          "output_type": "execute_result",
          "data": {
            "text/plain": [
              "XGBClassifier(colsample_bytree=0.9264659047426509, early_stopping_rounds=50,\n",
              "              learning_rate=0.01, max_depth=8, min_child_weight=9,\n",
              "              n_estimators=1000, random_state=17, subsample=0.5859326575161055)"
            ]
          },
          "metadata": {},
          "execution_count": 123
        }
      ]
    },
    {
      "cell_type": "code",
      "source": [
        "xgb_pred = final_xgb.predict(test_onehot)"
      ],
      "metadata": {
        "id": "kFAXiJpB1aid"
      },
      "execution_count": 124,
      "outputs": []
    },
    {
      "cell_type": "code",
      "source": [
        "rf_pred = grid_cv.predict(test_onehot)"
      ],
      "metadata": {
        "id": "ZRZL5oXy1qd2"
      },
      "execution_count": 125,
      "outputs": []
    },
    {
      "cell_type": "code",
      "source": [
        "sample[\"Transported_xgb\"] = xgb_pred\n",
        "sample[\"Transported_rf\"] = rf_pred"
      ],
      "metadata": {
        "id": "HnEPaAwX1tRP"
      },
      "execution_count": 127,
      "outputs": []
    },
    {
      "cell_type": "code",
      "source": [
        "sample.drop(\"Transported\", axis=1, inplace=True)"
      ],
      "metadata": {
        "id": "Be46EKYW11w2"
      },
      "execution_count": 128,
      "outputs": []
    },
    {
      "cell_type": "code",
      "source": [
        "sample"
      ],
      "metadata": {
        "colab": {
          "base_uri": "https://localhost:8080/",
          "height": 424
        },
        "id": "kWdBQrQG16vv",
        "outputId": "fc74e476-9520-4aee-d511-3ad3264bdb19"
      },
      "execution_count": 129,
      "outputs": [
        {
          "output_type": "execute_result",
          "data": {
            "text/plain": [
              "     PassengerId  Transported_xgb  Transported_rf\n",
              "0        0013_01            False            True\n",
              "1        0018_01            False           False\n",
              "2        0019_01             True            True\n",
              "3        0021_01             True            True\n",
              "4        0023_01             True            True\n",
              "...          ...              ...             ...\n",
              "4272     9266_02             True            True\n",
              "4273     9269_01            False           False\n",
              "4274     9271_01             True            True\n",
              "4275     9273_01             True            True\n",
              "4276     9277_01             True            True\n",
              "\n",
              "[4277 rows x 3 columns]"
            ],
            "text/html": [
              "\n",
              "  <div id=\"df-3ed4c0ca-f85d-4445-95eb-33590c539ca9\">\n",
              "    <div class=\"colab-df-container\">\n",
              "      <div>\n",
              "<style scoped>\n",
              "    .dataframe tbody tr th:only-of-type {\n",
              "        vertical-align: middle;\n",
              "    }\n",
              "\n",
              "    .dataframe tbody tr th {\n",
              "        vertical-align: top;\n",
              "    }\n",
              "\n",
              "    .dataframe thead th {\n",
              "        text-align: right;\n",
              "    }\n",
              "</style>\n",
              "<table border=\"1\" class=\"dataframe\">\n",
              "  <thead>\n",
              "    <tr style=\"text-align: right;\">\n",
              "      <th></th>\n",
              "      <th>PassengerId</th>\n",
              "      <th>Transported_xgb</th>\n",
              "      <th>Transported_rf</th>\n",
              "    </tr>\n",
              "  </thead>\n",
              "  <tbody>\n",
              "    <tr>\n",
              "      <th>0</th>\n",
              "      <td>0013_01</td>\n",
              "      <td>False</td>\n",
              "      <td>True</td>\n",
              "    </tr>\n",
              "    <tr>\n",
              "      <th>1</th>\n",
              "      <td>0018_01</td>\n",
              "      <td>False</td>\n",
              "      <td>False</td>\n",
              "    </tr>\n",
              "    <tr>\n",
              "      <th>2</th>\n",
              "      <td>0019_01</td>\n",
              "      <td>True</td>\n",
              "      <td>True</td>\n",
              "    </tr>\n",
              "    <tr>\n",
              "      <th>3</th>\n",
              "      <td>0021_01</td>\n",
              "      <td>True</td>\n",
              "      <td>True</td>\n",
              "    </tr>\n",
              "    <tr>\n",
              "      <th>4</th>\n",
              "      <td>0023_01</td>\n",
              "      <td>True</td>\n",
              "      <td>True</td>\n",
              "    </tr>\n",
              "    <tr>\n",
              "      <th>...</th>\n",
              "      <td>...</td>\n",
              "      <td>...</td>\n",
              "      <td>...</td>\n",
              "    </tr>\n",
              "    <tr>\n",
              "      <th>4272</th>\n",
              "      <td>9266_02</td>\n",
              "      <td>True</td>\n",
              "      <td>True</td>\n",
              "    </tr>\n",
              "    <tr>\n",
              "      <th>4273</th>\n",
              "      <td>9269_01</td>\n",
              "      <td>False</td>\n",
              "      <td>False</td>\n",
              "    </tr>\n",
              "    <tr>\n",
              "      <th>4274</th>\n",
              "      <td>9271_01</td>\n",
              "      <td>True</td>\n",
              "      <td>True</td>\n",
              "    </tr>\n",
              "    <tr>\n",
              "      <th>4275</th>\n",
              "      <td>9273_01</td>\n",
              "      <td>True</td>\n",
              "      <td>True</td>\n",
              "    </tr>\n",
              "    <tr>\n",
              "      <th>4276</th>\n",
              "      <td>9277_01</td>\n",
              "      <td>True</td>\n",
              "      <td>True</td>\n",
              "    </tr>\n",
              "  </tbody>\n",
              "</table>\n",
              "<p>4277 rows × 3 columns</p>\n",
              "</div>\n",
              "      <button class=\"colab-df-convert\" onclick=\"convertToInteractive('df-3ed4c0ca-f85d-4445-95eb-33590c539ca9')\"\n",
              "              title=\"Convert this dataframe to an interactive table.\"\n",
              "              style=\"display:none;\">\n",
              "        \n",
              "  <svg xmlns=\"http://www.w3.org/2000/svg\" height=\"24px\"viewBox=\"0 0 24 24\"\n",
              "       width=\"24px\">\n",
              "    <path d=\"M0 0h24v24H0V0z\" fill=\"none\"/>\n",
              "    <path d=\"M18.56 5.44l.94 2.06.94-2.06 2.06-.94-2.06-.94-.94-2.06-.94 2.06-2.06.94zm-11 1L8.5 8.5l.94-2.06 2.06-.94-2.06-.94L8.5 2.5l-.94 2.06-2.06.94zm10 10l.94 2.06.94-2.06 2.06-.94-2.06-.94-.94-2.06-.94 2.06-2.06.94z\"/><path d=\"M17.41 7.96l-1.37-1.37c-.4-.4-.92-.59-1.43-.59-.52 0-1.04.2-1.43.59L10.3 9.45l-7.72 7.72c-.78.78-.78 2.05 0 2.83L4 21.41c.39.39.9.59 1.41.59.51 0 1.02-.2 1.41-.59l7.78-7.78 2.81-2.81c.8-.78.8-2.07 0-2.86zM5.41 20L4 18.59l7.72-7.72 1.47 1.35L5.41 20z\"/>\n",
              "  </svg>\n",
              "      </button>\n",
              "      \n",
              "  <style>\n",
              "    .colab-df-container {\n",
              "      display:flex;\n",
              "      flex-wrap:wrap;\n",
              "      gap: 12px;\n",
              "    }\n",
              "\n",
              "    .colab-df-convert {\n",
              "      background-color: #E8F0FE;\n",
              "      border: none;\n",
              "      border-radius: 50%;\n",
              "      cursor: pointer;\n",
              "      display: none;\n",
              "      fill: #1967D2;\n",
              "      height: 32px;\n",
              "      padding: 0 0 0 0;\n",
              "      width: 32px;\n",
              "    }\n",
              "\n",
              "    .colab-df-convert:hover {\n",
              "      background-color: #E2EBFA;\n",
              "      box-shadow: 0px 1px 2px rgba(60, 64, 67, 0.3), 0px 1px 3px 1px rgba(60, 64, 67, 0.15);\n",
              "      fill: #174EA6;\n",
              "    }\n",
              "\n",
              "    [theme=dark] .colab-df-convert {\n",
              "      background-color: #3B4455;\n",
              "      fill: #D2E3FC;\n",
              "    }\n",
              "\n",
              "    [theme=dark] .colab-df-convert:hover {\n",
              "      background-color: #434B5C;\n",
              "      box-shadow: 0px 1px 3px 1px rgba(0, 0, 0, 0.15);\n",
              "      filter: drop-shadow(0px 1px 2px rgba(0, 0, 0, 0.3));\n",
              "      fill: #FFFFFF;\n",
              "    }\n",
              "  </style>\n",
              "\n",
              "      <script>\n",
              "        const buttonEl =\n",
              "          document.querySelector('#df-3ed4c0ca-f85d-4445-95eb-33590c539ca9 button.colab-df-convert');\n",
              "        buttonEl.style.display =\n",
              "          google.colab.kernel.accessAllowed ? 'block' : 'none';\n",
              "\n",
              "        async function convertToInteractive(key) {\n",
              "          const element = document.querySelector('#df-3ed4c0ca-f85d-4445-95eb-33590c539ca9');\n",
              "          const dataTable =\n",
              "            await google.colab.kernel.invokeFunction('convertToInteractive',\n",
              "                                                     [key], {});\n",
              "          if (!dataTable) return;\n",
              "\n",
              "          const docLinkHtml = 'Like what you see? Visit the ' +\n",
              "            '<a target=\"_blank\" href=https://colab.research.google.com/notebooks/data_table.ipynb>data table notebook</a>'\n",
              "            + ' to learn more about interactive tables.';\n",
              "          element.innerHTML = '';\n",
              "          dataTable['output_type'] = 'display_data';\n",
              "          await google.colab.output.renderOutput(dataTable, element);\n",
              "          const docLink = document.createElement('div');\n",
              "          docLink.innerHTML = docLinkHtml;\n",
              "          element.appendChild(docLink);\n",
              "        }\n",
              "      </script>\n",
              "    </div>\n",
              "  </div>\n",
              "  "
            ]
          },
          "metadata": {},
          "execution_count": 129
        }
      ]
    },
    {
      "cell_type": "code",
      "source": [
        "%%shell\n",
        "jupyter nbconvert --to html /content/코딩스터디1주차.ipynb"
      ],
      "metadata": {
        "colab": {
          "base_uri": "https://localhost:8080/"
        },
        "id": "RdXd-uhA3y9P",
        "outputId": "24792d25-dd34-4570-c113-0000baa407de"
      },
      "execution_count": 137,
      "outputs": [
        {
          "output_type": "stream",
          "name": "stdout",
          "text": [
            "[NbConvertApp] Converting notebook /content/코딩스터디1주차.ipynb to html\n",
            "[NbConvertApp] Writing 942974 bytes to /content/코딩스터디1주차.html\n"
          ]
        },
        {
          "output_type": "execute_result",
          "data": {
            "text/plain": []
          },
          "metadata": {},
          "execution_count": 137
        }
      ]
    }
  ]
}